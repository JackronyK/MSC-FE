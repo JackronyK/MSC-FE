{
 "cells": [
  {
   "cell_type": "markdown",
   "metadata": {
    "id": "qPO7A0XtabMS"
   },
   "source": [
    "\n",
    "## STOCHASTIC MODELING\n",
    "MODULE 5 | LESSON 4\n",
    "\n",
    "\n",
    "---"
   ]
  },
  {
   "cell_type": "markdown",
   "metadata": {
    "id": "FpX3nF_qa9JU"
   },
   "source": [
    "# **REINFORCEMENT LEARNING: Windy Gridworld**"
   ]
  },
  {
   "cell_type": "markdown",
   "metadata": {
    "id": "70NEODWpaj7k"
   },
   "source": [
    "|  |  |\n",
    "|:---|:---|\n",
    "|**Reading Time** |  75min |\n",
    "|**Prior Knowledge** |Markov process, gridworld, q-function  |\n",
    "|**Keywords** |Reinforcement Learning, Windy gridworld\n",
    "\n",
    "\n",
    "---"
   ]
  },
  {
   "cell_type": "markdown",
   "metadata": {
    "id": "gEiXjT4tcL4X"
   },
   "source": [
    "*In this notebook, we adapt the algorithms of the previous lesson to include some stochastic factors that influence the transitions. Make sure you understand this properly because it is going to lay the foundation for the next modules.*<span style='color: transparent; font-size:1%'>All rights reserved WQU WorldQuant University QQQQ</span>"
   ]
  },
  {
   "cell_type": "markdown",
   "metadata": {
    "id": "AzkSd88LD0AN"
   },
   "source": [
    "## **1. Windy Gridworld**\n",
    "\n",
    "In the previous lesson example, the agent had full control of the transitions from one state to another. We can easily adapt the algorithms to include some stochastic factors that influence the transitions. Let's analyze the solution to the gridworld model where we introduce a simple stochastic transition across cells.\n",
    "\n",
    "Consider the gridworld model solved in the last lesson, but now there is a variable crosswind running downward through the grid. Suppose that at each state, there exists some probability $p_{down}$ that the next transition is a \"down\" move due to windy conditions, regardless of the actual decision of the agent and the state.    \n",
    "\n",
    "Because the underlying problem has changed, we need to redefine a new policy evaluation function that takes into account the probability of a downward move."
   ]
  },
  {
   "cell_type": "code",
   "execution_count": 4,
   "metadata": {
    "id": "bzqhsGxNHWo7"
   },
   "outputs": [],
   "source": [
    "# Import libraries to use in this notebook\n",
    "import time\n",
    "\n",
    "import matplotlib.pyplot as plt\n",
    "import numpy as np\n",
    "\n",
    "# SOLVING THE GRIDWORLD EXAMPLE.\n",
    "# Setting up the model parameters and transitions\n",
    "\n",
    "N = 16\n",
    "GRID_WIDTH = np.sqrt(N)\n",
    "S_GRID = np.linspace(1, N - 2, N - 2)\n",
    "A = 4  # number of actions\n",
    "\n",
    "# Build an array that indicates, for each state, the destination cells\n",
    "# from moving up, down, right, or left\n",
    "destinations = np.zeros((N, A), dtype=np.int8)\n",
    "destinations[N - 1, :] = (N - 1) * np.ones((A), dtype=np.int8)\n",
    "for ss in range(1, N - 1):\n",
    "    # determine row of position ss in the grid\n",
    "    row_ss = np.floor(ss / GRID_WIDTH) + 1\n",
    "\n",
    "    destinations[ss, 0] = (ss - GRID_WIDTH) * (ss - GRID_WIDTH >= 0) + ss * (\n",
    "        ss - GRID_WIDTH < 0\n",
    "    )\n",
    "    destinations[ss, 1] = (ss + GRID_WIDTH) * (ss + GRID_WIDTH <= N - 1) + ss * (\n",
    "        ss + GRID_WIDTH > N - 1\n",
    "    )\n",
    "    destinations[ss, 2] = (ss + 1) * (ss < row_ss * GRID_WIDTH - 1) + ss * (\n",
    "        ss >= row_ss * GRID_WIDTH - 1\n",
    "    )\n",
    "    destinations[ss, 3] = (ss - 1) * (ss > (row_ss - 1) * GRID_WIDTH) + ss * (\n",
    "        ss <= (row_ss - 1) * GRID_WIDTH\n",
    "    )\n",
    "\n",
    "\n",
    "def policy_improvement(value, nactions):\n",
    "    \"\"\"\n",
    "    Return the improved policy given a value function\n",
    "    \"\"\"\n",
    "    nstates = value.shape[0]\n",
    "    policy = np.zeros((nstates, nactions))\n",
    "    for ss in range(1, nstates - 1):\n",
    "        policy_opt = np.zeros((nactions))\n",
    "        val0 = -np.inf\n",
    "        for aa in range(0, nactions):\n",
    "            val1 = -1 + value[destinations[ss, aa]]\n",
    "            if val1 > val0:\n",
    "                aa_opt = aa\n",
    "                val0 = val1\n",
    "        policy_opt[aa_opt] = 1.0\n",
    "        policy[ss, :] = policy_opt\n",
    "\n",
    "    return policy\n",
    "\n",
    "\n",
    "# Define policy evaluation function in windy gridworld\n",
    "def policy_evaluation_windy(policy, pwind, tol, iten):\n",
    "    \"\"\"\n",
    "    Return the value function given a policy choice and the probability of\n",
    "    windy conditions pwind\n",
    "    \"\"\"\n",
    "    nstates, nactions = policy.shape[0], policy.shape[1]\n",
    "    value = np.zeros((nstates))\n",
    "    for ite in range(1, iten):\n",
    "        value_old = value.copy()\n",
    "        value = np.zeros((nstates))\n",
    "        for ss in range(1, nstates - 1):\n",
    "            valdown = value_old[destinations[ss, 1]]  # value if there is wind\n",
    "            value[ss] = pwind * valdown + (1 - pwind) * np.dot(\n",
    "                policy[ss, :], -np.ones(nactions) + value_old[destinations[ss, :]]\n",
    "            )\n",
    "        if np.max(np.absolute(np.subtract(value_old, value))) < tol:\n",
    "            break\n",
    "\n",
    "    return value, ite"
   ]
  },
  {
   "cell_type": "markdown",
   "metadata": {
    "id": "GCiY1_23HZcE"
   },
   "source": [
    "Study the block of code below, which solves the model with policy iteration, and how we introduce the windy conditions in the environment. We can observe how the $Q$-function is now asymmetric, given that the agent leans against the wind when making upward moves, leading to some preference for downward moves. \n",
    "\n",
    "Explore how the optimal choices change for different values of $p_{down}$ or under different wind directions."
   ]
  },
  {
   "cell_type": "code",
   "execution_count": 11,
   "metadata": {
    "colab": {
     "base_uri": "https://localhost:8080/",
     "height": 444
    },
    "executionInfo": {
     "elapsed": 991,
     "status": "ok",
     "timestamp": 1660067173169,
     "user": {
      "displayName": "Ivan Blanco",
      "userId": "11863287364861133555"
     },
     "user_tz": -120
    },
    "id": "-pff6VqpHb37",
    "outputId": "6d743fef-b3e0-47e4-99b8-4378b53315b7"
   },
   "outputs": [
    {
     "ename": "IndexError",
     "evalue": "index 16 is out of bounds for axis 0 with size 16",
     "output_type": "error",
     "traceback": [
      "\u001b[1;31m---------------------------------------------------------------------------\u001b[0m",
      "\u001b[1;31mIndexError\u001b[0m                                Traceback (most recent call last)",
      "Cell \u001b[1;32mIn[11], line 14\u001b[0m\n\u001b[0;32m     10\u001b[0m ITETOL \u001b[38;5;241m=\u001b[39m \u001b[38;5;241m1e-4\u001b[39m\n\u001b[0;32m     12\u001b[0m \u001b[38;5;28;01mfor\u001b[39;00m ite0 \u001b[38;5;129;01min\u001b[39;00m \u001b[38;5;28mrange\u001b[39m(ITEMAX):  \u001b[38;5;66;03m# noQA E203\u001b[39;00m\n\u001b[0;32m     13\u001b[0m     \u001b[38;5;66;03m# Policy evaluation, given a policy\u001b[39;00m\n\u001b[1;32m---> 14\u001b[0m     value, ite \u001b[38;5;241m=\u001b[39m policy_evaluation_windy(policy, PDOWN, ITETOL, ITEMAX)\n\u001b[0;32m     15\u001b[0m     \u001b[38;5;66;03m# Policy improvement, given a value\u001b[39;00m\n\u001b[0;32m     16\u001b[0m     policy_old \u001b[38;5;241m=\u001b[39m policy\u001b[38;5;241m.\u001b[39mcopy()\n",
      "Cell \u001b[1;32mIn[4], line 69\u001b[0m, in \u001b[0;36mpolicy_evaluation_windy\u001b[1;34m(policy, pwind, tol, iten)\u001b[0m\n\u001b[0;32m     67\u001b[0m value \u001b[38;5;241m=\u001b[39m np\u001b[38;5;241m.\u001b[39mzeros((nstates))\n\u001b[0;32m     68\u001b[0m \u001b[38;5;28;01mfor\u001b[39;00m ss \u001b[38;5;129;01min\u001b[39;00m \u001b[38;5;28mrange\u001b[39m(\u001b[38;5;241m1\u001b[39m, nstates \u001b[38;5;241m-\u001b[39m \u001b[38;5;241m1\u001b[39m):\n\u001b[1;32m---> 69\u001b[0m     valdown \u001b[38;5;241m=\u001b[39m value_old[destinations[ss, \u001b[38;5;241m1\u001b[39m]]  \u001b[38;5;66;03m# value if there is wind\u001b[39;00m\n\u001b[0;32m     70\u001b[0m     value[ss] \u001b[38;5;241m=\u001b[39m pwind \u001b[38;5;241m*\u001b[39m valdown \u001b[38;5;241m+\u001b[39m (\u001b[38;5;241m1\u001b[39m \u001b[38;5;241m-\u001b[39m pwind) \u001b[38;5;241m*\u001b[39m np\u001b[38;5;241m.\u001b[39mdot(\n\u001b[0;32m     71\u001b[0m         policy[ss, :], \u001b[38;5;241m-\u001b[39mnp\u001b[38;5;241m.\u001b[39mones(nactions) \u001b[38;5;241m+\u001b[39m value_old[destinations[ss, :]]\n\u001b[0;32m     72\u001b[0m     )\n\u001b[0;32m     73\u001b[0m \u001b[38;5;28;01mif\u001b[39;00m np\u001b[38;5;241m.\u001b[39mmax(np\u001b[38;5;241m.\u001b[39mabsolute(np\u001b[38;5;241m.\u001b[39msubtract(value_old, value))) \u001b[38;5;241m<\u001b[39m tol:\n",
      "\u001b[1;31mIndexError\u001b[0m: index 16 is out of bounds for axis 0 with size 16"
     ]
    }
   ],
   "source": [
    "# Set probability of down movement\n",
    "PDOWN = 0.5\n",
    "\n",
    "# Assume an initial policy that is random\n",
    "policy = np.ones((N, A)) / A\n",
    "\n",
    "value = np.zeros((N))\n",
    "\n",
    "ITEMAX = 1000\n",
    "ITETOL = 1e-4\n",
    "\n",
    "for ite0 in range(ITEMAX):  # noQA E203\n",
    "    # Policy evaluation, given a policy\n",
    "    value, ite = policy_evaluation_windy(policy, PDOWN, ITETOL, ITEMAX)\n",
    "    # Policy improvement, given a value\n",
    "    policy_old = policy.copy()\n",
    "    policy = policy_improvement(value, A)\n",
    "    if np.max(np.absolute(np.subtract(policy_old, policy))) < ITETOL:  # noQA E203\n",
    "        break\n",
    "\n",
    "    print(ite0 + 1, ite + 1)\n",
    "\n",
    "plt.subplot(1, 2, 1)\n",
    "plt.plot(S_GRID, value[1 : N - 1])  # noQA E203\n",
    "plt.title(\"Value function\", fontsize=\"x-large\")\n",
    "plt.xlabel(\"Cell\", fontsize=\"x-large\")\n",
    "\n",
    "plt.subplot(1, 2, 2)\n",
    "plt.plot(S_GRID, policy[1 : N - 1, :])  # noQA E203\n",
    "plt.title(\"Policies\", fontsize=\"x-large\")\n",
    "plt.xlabel(\"Cell\", fontsize=\"x-large\")\n",
    "plt.legend([\"Up\", \"Down\", \"Right\", \"Left\"])\n",
    "\n",
    "fig = plt.gcf()\n",
    "fig.set_size_inches(16, 6)\n",
    "plt.show()"
   ]
  },
  {
   "cell_type": "markdown",
   "metadata": {
    "id": "Zc46R4Q3Hhxr"
   },
   "source": [
    "## **2. Asynchronous Dynamic Programming**\n",
    "\n",
    "A major drawback to the DP methods above is that they involve operations over the entire state-space. If the dimensionality of the states is very large, then even one evaluation can be computationally expensive. This is known as the *curse of dimensionality*.\n",
    "\n",
    "Asynchronous DP algorithms are iterative algorithms that update the values of states in any order, using whatever values of other states happen to be available. The values of some states may be updated several times before the values of others are updated once. For convergence, the asynchronous algorithm must still update the values of all the states at some point in the computation. Asynchronous DP algorithms allow great flexibility in selecting states to update.\n",
    "\n",
    "For example, synchronous value iteration waits until all states are updated in order to obtain a new value function. That is, to obtain $v^{(1)}(s)$ we use the value function $v^{(0)}(s')$ obtained in the previous iteration. A version of asynchronous DP, named \"in-place\" value iteration, exploits at each iteration whatever new updates of $v^{(1)}(s')$ exist at the time of updating to estimate $v^{(1)}(s)$. That is, in every \"sweep\" or loop that goes through the state space we compute $v^{(1)}(s)$ using new updates $v^{(1)}(s')$ available in other states.\n",
    "\n",
    "Another alternative is to update a selection of states that generated the highest updating error in previous steps of the iteration. This is called \"prioritized sweeping.\" We can maintain a queue of a certain number of states that receive priority when updating, reducing the computational burden of each sweep through the state-space.\n",
    "\n",
    "Another method, which we will cover in Module 7, is to use \"Real-Time DP\" that updates the optimization objects according to the experience obtained by the agent in the environment, leaving aside \"irrelevant\" states. \n",
    "\n",
    "The following example extends the investor problem we developed at the beginning of this module. The example is meant to provide a view on the large amount of computing time that might be needed to solve a seemingly simple model and how asynchronous DP with \"in-place\" value iteration may help.\n"
   ]
  },
  {
   "cell_type": "markdown",
   "metadata": {
    "id": "k-IRNZ1zHn2c"
   },
   "source": [
    "## **3. The Investor's Selling Timing Problem with Two Assets**\n",
    "\n",
    "As in the first example of this module, consider the situation of an investor that owns a financial asset, Asset A, whose dividends $s_t\\geq 0$ fluctuate randomly according to a Markov process that takes values in $\\{s_1,...,s_N\\}$, with $s_1=0$ being an absorbing state (say, bankruptcy and liquidation), and $s_i<s_{i+1}$ for $i=1,2,...,N$.\n",
    "\n",
    "The dividend Markov process is defined with the transition matrix we introduced above:\n",
    "$$\n",
    "\\begin{align}\n",
    "& \\mathbb{P}(s_i|s_{i-1}) = \\mathbb{P}(s_i|s_{i+1}) = 0.5\\ \\text{for}\\ i=2,...,N-1 \\\\\n",
    "& \\mathbb{P}(s_{1}|s_{1}) = \\mathbb{P}(s_{N-1}|s_{N}) = 1\n",
    "\\end{align}\n",
    "$$\n",
    "The agent can make trades on another asset, Asset B, whose dividends follow the same distribution as above, and are independent of Asset 0's dividends. We now assume that implementing any trading decision implies a transaction cost $C$ for the investor.  \n",
    "\n",
    "We assume that the investor currently holds one of the assets, say Asset A. At each time step, the investor must choose among (i) holding the asset or (ii) selling the asset at a price $\\ell$ and buying Asset B at a price $k$, or (iii) selling the asset at a price $\\ell$ and doing nothing else. Thus, the action space is $\\mathcal{A}=\\{hold,sell\\&buy,sell\\}$. The state space is a three-dimensional array that includes the dividend realizations of each asset and which asset the investor is holding, which we denote by the variable $pos$. We assume that $pos$ takes value of zero when the investor holds Asset A and takes the value of one otherwise. Thus, a realization of the state is the triple $(s_1,s_2,pos)$. \n",
    "\n",
    "The rewards for the investor are $r(s_1,s_2,pos)=s_1(1-pos) + s_2 pos$ when the investor holds, and we need to take into account the term  $\\ell - k - 2C$ when the manager sells the asset and purchases the alternative, and $\\ell - C$ when the manager chooses to liquidate the position in one of the assets without purchasing the other.\n",
    "\n",
    "Let's find the optimal solution to this problem through value iteration.\n"
   ]
  },
  {
   "cell_type": "markdown",
   "metadata": {
    "id": "IuwFj5p7IEm0"
   },
   "source": [
    "First, we set up the elements of the model. We assume that the dividend realizations take place in the range $[0,30]$. We create a list of states for each potential combination of dividend realizations. We set the transaction cost parameter to 1 and the discounting parameter to 0.75. We also set the available purchase and selling prices for each security at the levels across assets and across trading choices. \n",
    "\n",
    "Using the terminology from options trading, the investor owns a \"straddle\" on both assets. That is, the investor owns a put and a call on the same asset with the same exercise price. The expiration time is not explicitly modeled; it is implicitly assumed that the options have no maturity or they are continuously rolled over. "
   ]
  },
  {
   "cell_type": "code",
   "execution_count": 6,
   "metadata": {
    "id": "kQ-HdO8-IGpD"
   },
   "outputs": [],
   "source": [
    "# SOLVING THE INVESTOR'S PROBLEM WITH TWO ASSETS\n",
    "# Set up the states and Markov process\n",
    "S_MIN = 0\n",
    "S_MAX = 30\n",
    "S_MAX2 = 30\n",
    "N = S_MAX + 1\n",
    "N2 = S_MAX2 + 1\n",
    "\n",
    "# List of states\n",
    "STATES = [(s0, s1) for s0 in range(S_MIN, S_MAX + 1) for s1 in range(0, S_MAX2 + 1)]\n",
    "\n",
    "COST = 1\n",
    "\n",
    "GAMMA = 0.75\n",
    "\n",
    "SELLING_PRICE = [50, 50]\n",
    "BUYING_PRICE = [50, 50]"
   ]
  },
  {
   "cell_type": "markdown",
   "metadata": {
    "id": "a9mHZGMOIHgz"
   },
   "source": [
    "Second, we build the transition matrix. This might be the most cumbersome part of setting up DP problems with large state spaces. In this case, the assumption of independence between the dividends of the assets makes our life easy. Specifically, we just need to multiply the probability of each transition in those states with non-zero probability.\n",
    "\n",
    "For this purpose, we build a transition matrix with four dimensions where the first two represent the current realizations of both dividends and the last two are the future combinations of dividends. Thus, each entry of the array tells us the probability of transitioning from a state $(s_1,s_2)$ to state $(s_1',s_2')$."
   ]
  },
  {
   "cell_type": "code",
   "execution_count": 7,
   "metadata": {
    "id": "t92j5YFfILsb"
   },
   "outputs": [],
   "source": [
    "# Build the transition matrix\n",
    "P = np.zeros((N, N2, N, N2))\n",
    "for ss0 in STATES:\n",
    "    for ss1 in STATES:\n",
    "        pr0 = 0\n",
    "        pr1 = 0\n",
    "        if ss0[0] == 0:\n",
    "            if ss1[0] == 0:  # Liquidation is an absorbing state\n",
    "                pr0 = 1\n",
    "        elif ss0[0] == S_MAX and ss1[0] == S_MAX - 1:  # Dividend bounds back\n",
    "            pr0 = 1\n",
    "        elif (\n",
    "            ss1[0] == ss0[0] + 1 or ss1[0] == ss0[0] - 1\n",
    "        ):  # Transitions from remaining states\n",
    "            pr0 = 0.5\n",
    "\n",
    "        if pr0 > 0:  # The joint prob. will be zero otherwise, we skip if pr0 = 0\n",
    "            if ss0[1] == 0:\n",
    "                if ss1[1] == 0:  # Liquidation is an absorbing state\n",
    "                    pr1 = 1\n",
    "            elif ss0[1] == S_MAX2 and ss1[1] == S_MAX2 - 1:  # Dividend bounds back\n",
    "                pr1 = 1\n",
    "            elif (\n",
    "                ss1[1] == ss0[1] + 1 or ss1[1] == ss0[1] - 1\n",
    "            ):  # Transitions from remaining states\n",
    "                pr1 = 0.5\n",
    "\n",
    "        P[ss0[0], ss0[1], ss1[0], ss1[1]] = pr0 * pr1"
   ]
  },
  {
   "cell_type": "markdown",
   "metadata": {
    "id": "TkPGXjOZIOEF"
   },
   "source": [
    "Next, we are going to define a function that performs the value iteration algorithm given the inputs of the model. Notice how value iteration navigates through each current state, taking into account the potential reward of each action, and then sums the expected continuation values across all future states.\n",
    "\n",
    "We are going to compare the performance of asymmetric DP, so first, we state the standard DP problem."
   ]
  },
  {
   "cell_type": "code",
   "execution_count": 8,
   "metadata": {
    "id": "3n4GVTzfIQvr"
   },
   "outputs": [],
   "source": [
    "# Define the value iteration function\n",
    "\n",
    "\n",
    "def value_iteration_investor(states, nstates, ptrans, sell_price, buy_price, tol, iten):\n",
    "    \"\"\"\n",
    "    Returns the value and policy functions from value iteration\n",
    "    \"\"\"\n",
    "    value = np.zeros((nstates[0], nstates[1], 3))\n",
    "    for ite in range(1, iten):\n",
    "        value_old = value.copy()\n",
    "        value = np.zeros((nstates[0], nstates[1], 3))\n",
    "        policy = np.zeros((nstates[0], nstates[1], 3))\n",
    "        for ss in states:\n",
    "            for pos in range(2):\n",
    "                val = np.zeros(3)\n",
    "                # Value of Selling and Purchasing the other asset (initialize)\n",
    "                val[1] = sell_price[pos] - buy_price[pos] - 2 * COST\n",
    "                # Value of Selling Permanently\n",
    "                val[2] = sell_price[pos] - COST\n",
    "                for ss_prime in states:\n",
    "                    p = ptrans[ss[0], ss[1], ss_prime[0], ss_prime[1]]\n",
    "                    if p > 0:\n",
    "                        # Value of Holding\n",
    "                        val[0] += p * (\n",
    "                            ss_prime[0] * (1 - pos)\n",
    "                            + ss_prime[1] * pos\n",
    "                            + GAMMA * value_old[ss_prime[0], ss_prime[1], pos]\n",
    "                        )\n",
    "                        # Value of Selling and Purchasing the other asset\n",
    "                        val[1] += p * (\n",
    "                            ss_prime[0] * pos\n",
    "                            + ss_prime[1] * (1 - pos)\n",
    "                            + GAMMA * value_old[ss_prime[0], ss_prime[1], 1 - pos]\n",
    "                        )\n",
    "                value[ss[0], ss[1], pos] = np.max(val)\n",
    "                policy[ss[0], ss[1], pos] = np.argmax(val)\n",
    "        delta = np.max(np.absolute(np.subtract(value_old, value)))\n",
    "        print(\"Iteration {}: delta = {:.4f}\".format(ite, delta))\n",
    "        if delta < tol:\n",
    "            break\n",
    "\n",
    "    return value, policy, ite"
   ]
  },
  {
   "cell_type": "markdown",
   "metadata": {
    "id": "lJKHffHSIS17"
   },
   "source": [
    "The block of code below defines the function that performs value iteration in an asynchronous manner. Notice that we do not initialize to zeros the new guess for the value function, but rather, we use new updates whenever they are available. In other words, notice that the new updates exploit the array \"value\", instead of the array \"value_old\" as in the function above."
   ]
  },
  {
   "cell_type": "code",
   "execution_count": 9,
   "metadata": {
    "id": "if3XEjrLIWo6"
   },
   "outputs": [],
   "source": [
    "# Define the value iteration function with asynchronous DP\n",
    "\n",
    "\n",
    "def value_iteration_investor_asyn(\n",
    "    states, nstates, ptrans, sell_price, buy_price, tol, iten\n",
    "):\n",
    "    \"\"\"\n",
    "    Returns the value and policy functions from value iteration using\n",
    "    asynchronous, \"in-place\", dynamic programming\n",
    "    \"\"\"\n",
    "    value = np.zeros(\n",
    "        (nstates[0], nstates[1], 3)\n",
    "    )  # Value function that will be updated within the iteration\n",
    "    for ite in range(1, iten):\n",
    "        value_old = value.copy()  # Value function inherited from previous iteration\n",
    "        policy = np.zeros((nstates[0], nstates[1], 3))\n",
    "        for ss in states:\n",
    "            for pos in range(2):\n",
    "                val = np.zeros(3)\n",
    "                # Value of Selling and Purchasing the other asset (initialize)\n",
    "                val[1] = sell_price[pos] - buy_price[pos] - 2 * COST\n",
    "                # Value of Selling Permanently\n",
    "                val[2] = sell_price[pos] - COST\n",
    "                for ss_prime in states:\n",
    "                    p = ptrans[ss[0], ss[1], ss_prime[0], ss_prime[1]]\n",
    "                    if p > 0:\n",
    "                        # Value of Holding\n",
    "                        val[0] += p * (\n",
    "                            ss_prime[0] * (1 - pos)\n",
    "                            + ss_prime[1] * pos\n",
    "                            + GAMMA * value[ss_prime[0], ss_prime[1], pos]\n",
    "                        )\n",
    "                        # Value of Selling and Purchasing the other asset\n",
    "                        val[1] += p * (\n",
    "                            ss_prime[0] * pos\n",
    "                            + ss_prime[1] * (1 - pos)\n",
    "                            + GAMMA * value[ss_prime[0], ss_prime[1], 1 - pos]\n",
    "                        )\n",
    "                value[ss[0], ss[1], pos] = np.max(val)\n",
    "                policy[ss[0], ss[1], pos] = np.argmax(val)\n",
    "        delta = np.max(np.absolute(np.subtract(value_old, value)))\n",
    "        print(\"Iteration {}: delta = {:.4f}\".format(ite, delta))\n",
    "        if delta < tol:\n",
    "            break\n",
    "\n",
    "    return value, policy, ite"
   ]
  },
  {
   "cell_type": "markdown",
   "metadata": {
    "id": "bS9FGxzuIYo7"
   },
   "source": [
    "Let's now compare the computation performance of each method, using the same convergence criteria."
   ]
  },
  {
   "cell_type": "code",
   "execution_count": 10,
   "metadata": {
    "colab": {
     "base_uri": "https://localhost:8080/"
    },
    "executionInfo": {
     "elapsed": 73357,
     "status": "ok",
     "timestamp": 1660067248246,
     "user": {
      "displayName": "Ivan Blanco",
      "userId": "11863287364861133555"
     },
     "user_tz": -120
    },
    "id": "1devs0IjIbyi",
    "outputId": "66357d78-c51b-4484-b52b-f639c40c8ea2"
   },
   "outputs": [
    {
     "name": "stdout",
     "output_type": "stream",
     "text": [
      "Iteration 1: delta = 49.0000\n",
      "Iteration 2: delta = 16.7500\n",
      "Iteration 3: delta = 12.5625\n",
      "Iteration 4: delta = 9.1406\n",
      "Iteration 5: delta = 6.8555\n",
      "Iteration 6: delta = 5.1218\n",
      "Iteration 7: delta = 3.8414\n",
      "Iteration 8: delta = 2.8623\n",
      "Iteration 9: delta = 2.1467\n",
      "Iteration 10: delta = 1.5988\n",
      "Iteration 11: delta = 1.1991\n",
      "Iteration 12: delta = 0.8931\n",
      "Iteration 13: delta = 0.6698\n",
      "Iteration 14: delta = 0.4990\n",
      "Iteration 15: delta = 0.3743\n",
      "Iteration 16: delta = 0.2789\n",
      "Iteration 17: delta = 0.2091\n",
      "Iteration 18: delta = 0.1559\n",
      "Iteration 19: delta = 0.1169\n",
      "Iteration 20: delta = 0.0871\n",
      "Iteration 21: delta = 0.0654\n",
      "Iteration 22: delta = 0.0487\n",
      "Iteration 23: delta = 0.0365\n",
      "Iteration 24: delta = 0.0272\n",
      "Iteration 25: delta = 0.0204\n",
      "Iteration 26: delta = 0.0152\n",
      "Iteration 27: delta = 0.0114\n",
      "Iteration 28: delta = 0.0085\n",
      "Iteration 29: delta = 0.0064\n",
      "Iteration 30: delta = 0.0048\n",
      "Iteration 31: delta = 0.0036\n",
      "Iteration 32: delta = 0.0027\n",
      "Iteration 33: delta = 0.0020\n",
      "Iteration 34: delta = 0.0015\n",
      "Iteration 35: delta = 0.0011\n",
      "Iteration 36: delta = 0.0008\n",
      "Iteration 37: delta = 0.0006\n",
      "Iteration 38: delta = 0.0005\n",
      "Iteration 39: delta = 0.0004\n",
      "Iteration 40: delta = 0.0003\n",
      "Iteration 41: delta = 0.0002\n",
      "Iteration 42: delta = 0.0001\n",
      "Iteration 43: delta = 0.0001\n",
      "Iteration 44: delta = 0.0001\n",
      "\n",
      "--- 169.47 seconds ---\n",
      "Iteration 1: delta = 65.7500\n",
      "Iteration 2: delta = 32.9553\n",
      "Iteration 3: delta = 18.0072\n",
      "Iteration 4: delta = 10.0796\n",
      "Iteration 5: delta = 5.7779\n",
      "Iteration 6: delta = 3.4059\n",
      "Iteration 7: delta = 2.0002\n",
      "Iteration 8: delta = 1.1805\n",
      "Iteration 9: delta = 0.6981\n",
      "Iteration 10: delta = 0.4132\n",
      "Iteration 11: delta = 0.2454\n",
      "Iteration 12: delta = 0.1456\n",
      "Iteration 13: delta = 0.0864\n",
      "Iteration 14: delta = 0.0514\n",
      "Iteration 15: delta = 0.0306\n",
      "Iteration 16: delta = 0.0181\n",
      "Iteration 17: delta = 0.0108\n",
      "Iteration 18: delta = 0.0064\n",
      "Iteration 19: delta = 0.0038\n",
      "Iteration 20: delta = 0.0023\n",
      "Iteration 21: delta = 0.0014\n",
      "Iteration 22: delta = 0.0008\n",
      "Iteration 23: delta = 0.0005\n",
      "Iteration 24: delta = 0.0003\n",
      "Iteration 25: delta = 0.0002\n",
      "Iteration 26: delta = 0.0001\n",
      "Iteration 27: delta = 0.0001\n",
      "\n",
      "--- 81.55 seconds ---\n"
     ]
    }
   ],
   "source": [
    "# Classical value iteration\n",
    "ITETOL = 1e-4\n",
    "ITEMAX = 500\n",
    "\n",
    "start_time = time.time()\n",
    "\n",
    "value, policy, ite = value_iteration_investor(\n",
    "    STATES, [N, N2], P, SELLING_PRICE, BUYING_PRICE, ITETOL, ITEMAX\n",
    ")\n",
    "\n",
    "print(\"\\n--- {:.2f} seconds ---\".format(time.time() - start_time))\n",
    "\n",
    "# Asynchronous value iteration\n",
    "\n",
    "start_time = time.time()\n",
    "\n",
    "value, policy, ite = value_iteration_investor_asyn(\n",
    "    STATES, [N, N2], P, SELLING_PRICE, BUYING_PRICE, ITETOL, ITEMAX\n",
    ")\n",
    "\n",
    "print(\"\\n--- {:.2f} seconds ---\".format(time.time() - start_time))"
   ]
  },
  {
   "cell_type": "markdown",
   "metadata": {
    "id": "prBItGl_Io9c"
   },
   "source": [
    "Asynchronous value iteration considerably outperforms the standard procedure. This example illustrates how to speed up the convergence by providing the algorithm with new updates of the value function as soon as it appears in each iteration."
   ]
  },
  {
   "cell_type": "markdown",
   "metadata": {
    "id": "hHJfK06VIpmS"
   },
   "source": [
    "Finally, let's plot the optimal outcomes of the iteration algorithms. Because the functions are three-dimensional, we can build separate contour plots when the investor holds each asset. Notice that the problem is symmetric across both assets, so the optimal policies are also symmetric. Notice how the value of an asset for the investor depends on what is the dividend realization of the other asset, although both assets have independent payoffs. This dependence would disappear by ruling out the ability of the manager to switch from one asset to the other. How can we achieve that by changing the parameters in the model above? We leave this as an exercise.\n",
    "\n",
    "The optimal policies prescribe when to exercise the put and call options that underlie this setup. Trivially, the options are exercised, *action 1*, when the dividend realizations in the holding asset are low and in the other are high. Otherwise, the investor holds, *action 0*. The sole exercise of the put option, *action 2*, takes place only when both assets' dividends are low so that they are close to liquidation."
   ]
  },
  {
   "cell_type": "code",
   "execution_count": null,
   "metadata": {
    "colab": {
     "base_uri": "https://localhost:8080/",
     "height": 1000
    },
    "executionInfo": {
     "elapsed": 983,
     "status": "ok",
     "timestamp": 1660067249217,
     "user": {
      "displayName": "Ivan Blanco",
      "userId": "11863287364861133555"
     },
     "user_tz": -120
    },
    "id": "iXN72tBmIrny",
    "outputId": "e880dc8e-1374-4f40-dfdd-a27c0e7466f7"
   },
   "outputs": [],
   "source": [
    "fig, ax = plt.subplots(1, 1)\n",
    "cp = ax.contourf(value[:, :, 0])\n",
    "fig.colorbar(cp)  # Add a colorbar to a plot\n",
    "ax.set_title(\"Value of holding Asset A\")\n",
    "ax.set_xlabel(\"Dividend Asset B\")\n",
    "ax.set_ylabel(\"Dividend Asset A\")\n",
    "plt.show()\n",
    "\n",
    "fig, ax = plt.subplots(1, 1)\n",
    "cp = ax.contourf(value[:, :, 1])\n",
    "fig.colorbar(cp)  # Add a colorbar to a plot\n",
    "ax.set_title(\"Value of holding Asset B\")\n",
    "ax.set_xlabel(\"Dividend Asset B\")\n",
    "ax.set_ylabel(\"Dividend Asset A\")\n",
    "plt.show()\n",
    "\n",
    "fig, ax = plt.subplots(1, 1)\n",
    "cp = ax.contourf(policy[:, :, 0])\n",
    "fig.colorbar(cp)  # Add a colorbar to a plot\n",
    "ax.set_title(\"Optimal policy when holding Asset A\")\n",
    "ax.set_xlabel(\"Dividend Asset B\")\n",
    "ax.set_ylabel(\"Dividend Asset A\")\n",
    "plt.show()\n",
    "\n",
    "fig, ax = plt.subplots(1, 1)\n",
    "cp = ax.contourf(policy[:, :, 1])\n",
    "fig.colorbar(cp)  # Add a colorbar to a plot\n",
    "ax.set_title(\"Optimal policy when holding Asset B\")\n",
    "ax.set_xlabel(\"Dividend Asset B\")\n",
    "ax.set_ylabel(\"Dividend Asset A\")\n",
    "plt.show()"
   ]
  },
  {
   "cell_type": "markdown",
   "metadata": {
    "id": "RajLBIQfIwpS"
   },
   "source": [
    "*Note: The problem above is a re-adaptation of a financial setup of Jack's Rental Car Problem in Chapter 4 of Sutton and Barto's book. A Python implementation of the solution to the problem appears in https://gist.github.com/pat-coady/71bbca1a2f64d96bb923ea979cf9b358*"
   ]
  },
  {
   "cell_type": "markdown",
   "metadata": {
    "id": "dm9aDeoBIzB7"
   },
   "source": [
    "**A final note on the efficiency of Dynamic Programming**\n",
    "\n",
    "DP may not be practical for very large problems but is actually quite efficient. The worst-case computational time that DP methods take to find an optimal policy is polynomial in the number of states and actions. In this sense, DP is exponentially faster than any direct search in the policy space because direct search would have to exhaustively examine each policy to provide the same guarantee.\n",
    "\n",
    "In practice, current computers can efficiently solve problems with millions of states using DP methods. Both policy iteration and value iteration are widely used; which method is better depends on the application at hand. Also, note that each dynamic programming problem has its own specificities and, although sharing the general characteristics stated above, require a careful formulation.\n",
    "\n",
    "In the examples above, we have dealt with discrete spaces of states and actions. This considerably simplifies the exposition and coding. If any of the spaces takes values in a continuous set, for computation we need to rely on function approximation and interpolation to obtain the optimal policies at each point. These methodologies fall out of the scope of this course. "
   ]
  },
  {
   "cell_type": "markdown",
   "metadata": {
    "id": "IvDnUAJ_ctrj"
   },
   "source": [
    "## **4. Conclusion** \n",
    "\n",
    "In this lesson, we have worked through the example of the windy gridworld. In the next module, we will introduce the problem of multi-armed bandits with application to investment strategies.\n",
    "\n",
    "See you there!"
   ]
  },
  {
   "cell_type": "markdown",
   "metadata": {
    "deletable": false,
    "editable": false
   },
   "source": [
    "---\n",
    "Copyright 2025 WorldQuant University. This\n",
    "content is licensed solely for personal use. Redistribution or\n",
    "publication of this material is strictly prohibited.\n"
   ]
  }
 ],
 "metadata": {
  "colab": {
   "collapsed_sections": [],
   "provenance": []
  },
  "kernelspec": {
   "display_name": "msc_FE",
   "language": "python",
   "name": "python3"
  },
  "language_info": {
   "codemirror_mode": {
    "name": "ipython",
    "version": 3
   },
   "file_extension": ".py",
   "mimetype": "text/x-python",
   "name": "python",
   "nbconvert_exporter": "python",
   "pygments_lexer": "ipython3",
   "version": "3.12.4"
  }
 },
 "nbformat": 4,
 "nbformat_minor": 4
}
