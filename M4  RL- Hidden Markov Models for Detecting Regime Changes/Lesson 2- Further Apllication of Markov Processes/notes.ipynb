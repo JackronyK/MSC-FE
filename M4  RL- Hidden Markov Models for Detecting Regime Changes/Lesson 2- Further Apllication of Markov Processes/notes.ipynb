{
 "cells": [
  {
   "cell_type": "markdown",
   "id": "300b33d4",
   "metadata": {},
   "source": [
    "### Lesson 2  Further Application of Markov Process"
   ]
  },
  {
   "cell_type": "markdown",
   "id": "e0388e2b",
   "metadata": {},
   "source": [
    "[MIT OpenCourseWare. “L26.9 Gambler’s Ruin](https://www.youtube.com/watch?v=Ne2lmAZI4-I)"
   ]
  },
  {
   "cell_type": "markdown",
   "id": "1205a384",
   "metadata": {},
   "source": []
  }
 ],
 "metadata": {
  "language_info": {
   "name": "python"
  }
 },
 "nbformat": 4,
 "nbformat_minor": 5
}
