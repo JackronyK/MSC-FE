{
 "cells": [
  {
   "cell_type": "markdown",
   "id": "2adec193",
   "metadata": {},
   "source": [
    "## Lesson 4: Regime Changes and the EM Algorithm: An Application to VI"
   ]
  },
  {
   "cell_type": "markdown",
   "id": "3f7bf010",
   "metadata": {},
   "source": [
    "### videos\n",
    "1. [mathematicalmonk. “(ML16.3) Expectation-Maximization (EM) Algorithm](https://www.youtube.com/watch?v=AnbiNaVp3eQ)"
   ]
  },
  {
   "cell_type": "markdown",
   "id": "4b1d472e",
   "metadata": {},
   "source": []
  }
 ],
 "metadata": {
  "language_info": {
   "name": "python"
  }
 },
 "nbformat": 4,
 "nbformat_minor": 5
}
