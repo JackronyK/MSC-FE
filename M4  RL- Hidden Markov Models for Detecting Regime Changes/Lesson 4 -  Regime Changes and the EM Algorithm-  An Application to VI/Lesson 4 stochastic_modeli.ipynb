{
 "cells": [
  {
   "cell_type": "markdown",
   "metadata": {
    "id": "GXtBPqv-zy42"
   },
   "source": [
    "\n",
    "## STOCHASTIC MODELING\n",
    "MODULE 4 | LESSON 4\n",
    "\n",
    "\n",
    "---"
   ]
  },
  {
   "cell_type": "markdown",
   "metadata": {
    "id": "EC9xzS6KpAL_"
   },
   "source": [
    "|  |  |\n",
    "|:---|:---|\n",
    "|**Reading Time** |  1h |\n",
    "|**Prior Knowledge** |Linear Algebra, Maximum likelihood estimator, Monte Carlo  |\n",
    "|**Keywords** |Markov Process, Markov chains, Transition Matrix\n",
    "\n",
    "\n",
    "---"
   ]
  },
  {
   "cell_type": "markdown",
   "metadata": {
    "id": "FMm_x37co9RA"
   },
   "source": [
    "*In this notebook, we apply Markov chains in a reinforcement learning framework with Python. Specifically, we develop a regime change model in order to forecast VIX structural changes.*"
   ]
  },
  {
   "cell_type": "markdown",
   "metadata": {
    "id": "p8Azdq-_z5c7"
   },
   "source": [
    "# **Regime Changes and the EM Algorithm**"
   ]
  },
  {
   "cell_type": "markdown",
   "metadata": {
    "id": "zbCBTakT0EE8"
   },
   "source": [
    "## **1. Regime Changes and the EM Algorithm: An Application for VIX**\n",
    "\n",
    "Now we are going to develop a specific application where we will estimate a regime-switching model for the daily realizations of the CBOE's VIX index, which is a popular measure of the stock market's expectation of volatility based on S&P 500 index option volatilities.\n",
    "\n",
    "Assume that the observable VIX process is $y_{t}= \\mu_t + \\varepsilon_t$, where $\\varepsilon_t$ is drawn from a normal distribution with mean zero and variance $\\sigma_t^2$. The conditional mean and variance of the process at each time both depend on the outcome of a Markov process with $N$ possible realizations, i.e., we have a tuple $\\{(\\mu_i,\\sigma_i)_{i=1}^N\\}$ and an associated transition matrix P.\n",
    "\n",
    "As in the previous example, we are going to follow the Hamilton filter process. However, we are going to apply a smoothing method that allows us to obtain inferences about the probability of each state that conditions on the whole observable process $\\mathcal{Y}_T$:\n",
    "$$\n",
    "\\begin{align}\n",
    "\\xi_{t|T}(j) = \\xi_{t|t}(j) \\sum_{i=1}^N p_{ji} \\frac{\\xi_{t+1|T}(i)}{\\xi_{t+1|t}(i)}\n",
    "\\end{align}\n",
    "$$\n",
    "These smoothed probabilities are computed backwards, starting with $\\xi_{T|T}(j)$ as it arose from the forward recursion developed above. This procedure is called the Kim smoother, as developed by Kim (1993).\n",
    "\n",
    "Thus, the log-likelihood function can be expressed as:\n",
    "$$\n",
    "\\begin{align}\n",
    "\\mathcal{L}(\\theta) = \\sum_{t=1}^T log\\ f(y_t|\\mathcal{Y}_{t-1};\\theta) = \\sum_{t=1}^T log\\ \\sum_{i=1}^N \\xi_{t|T}(i) \\times \\phi_{t}(i)\n",
    "\\end{align}\n",
    "$$\n",
    "where $\\phi_{t}(i)=\\phi\\left(\\frac{y_t-\\mu_i}{\\sigma_i}\\right)$.\n",
    "\n",
    "In the previous example, we opted for a \"brute force\" maximization of the likelihood, but we are now going to develop a particular procedure that reduces the computational burden of this type of problem. This procedure is a version of the Expectation-Maximization (EM) algorithm. \n",
    "\n",
    "In the first step, Expectation (E), we assume that we know the actual path of the unobservable Markov process $\\mathcal{S}_t$. In that case, we would have that:\n",
    "$$\n",
    "\\begin{align}\n",
    "\\mathbb{P}(y_t,s_t=i|\\mathcal{Y}_{t-1},\\mathcal{S}_{t-1};\\theta) & = \\mathbb{P}(y_t|\\mathcal{S}_{t};\\theta)\\mathbb{P}(s_t=i|\\mathcal{S}_{t-1};\\theta) \\\\ & = \\phi_{t}(i)\\prod_{j=1}^N \\mathbb{P}(s_t=i|s_{t-1}=j;\\theta)^{\\mathbb{I}(s_{t-1}=j;\\theta)} \\\\ & = \\phi_{t}(i)\\prod_{j=1}^N p_{ji}^{\\mathbb{I}(s_{t-1}=j;\\theta)}\n",
    "\\end{align}\n",
    "$$\n",
    "where $\\mathbb{I}(s_{t-1}=j;\\theta)$ is an indicator variable that denotes if state $j$ was realized at $t-1$. Then, the joint log-likelihood of the observations can be expressed as:\n",
    "$$\n",
    "\\begin{align}\n",
    "log\\ \\mathbb{P}(y_t,s_t=i|\\mathcal{Y}_{t-1},\\mathcal{S}_{t-1};\\theta) = log\\ \\phi_{t}(i) +  \\sum_{j=1}^M  log\\ p_{ji} \\times {\\mathbb{I}(s_{t-1}=j;\\theta)}\n",
    "\\end{align}\n",
    "$$\n",
    "Because at $t=1$ we do not observe any past history, we need to estimate or fix in advance an initial probability $\\pi_j$ such that:\n",
    "$$\n",
    "\\begin{align}\n",
    "log\\ \\mathbb{P}(y_1,s_1=i;\\theta) = log\\ \\phi_{t}(i) + log\\ \\pi_{i}\n",
    "\\end{align}\n",
    "$$\n",
    "We can now build the following log-likelihood function that considers all the potential realizations of $s_t$ (the \"complete\" likelihood):\n",
    "$$\n",
    "\\begin{align}\n",
    "\\mathcal{L}(\\theta;\\mathcal{Y}_T,\\mathcal{S}_T) = & \\sum_{t=1}^T \\sum_{i=1}^N \\mathbb{I}(s_{t}=i;\\theta) log\\ \\phi_{t}(i) + \\\\ & +  \\sum_{t=2}^T \\sum_{i=1,j=1}^N \\mathbb{I}(s_{t}=i;\\theta)\\mathbb{I}(s_{t-1}=j;\\theta) log\\ p_{ji} + \\\\ \n",
    "& +  \\sum_{i=1}^N \\mathbb{I}(s_{1}=i;\\theta)log\\ \\pi_{ij}\n",
    "\\end{align}\n",
    "$$\n",
    "The crucial step now is to take the expectation of the expression above by substituting the indicators $\\mathbb{I}(s_{t}=j;\\theta)$ with the corresponding probabilities estimated above $\\xi_{t|T}(j)$. The terms $\\mathbb{I}(s_{t}=j;\\theta)\\mathbb{I}(s_{t-1}=i;\\theta)$ can be replaced by $p_{ij}\\xi_{t|t}(i)\\xi_{t+1|T}(j)/\\xi_{t+1|t}(j)$ that arises from the each specific component of the Kim filter that arises from each state $j$.\n",
    "\n",
    "With all these ingredients, we have completed the E step, given a guess for the parameter vector $\\theta=\\{(\\mu_i,\\sigma_i)_{i=1}^N,(p_{ij})_{i,j=1}^N\\}$.\n",
    "\n",
    "In the maximization step, instead of trying to optimize in a single step as we did in the previous lecture, we generate a series of parameter estimates $\\theta^{(k)}$, such that:\n",
    "$$\n",
    "\\begin{align}\n",
    "\\theta^{(k)} = \\arg\\underset{\\theta}{\\max} E\\left[\\mathcal{L}(\\theta;\\mathcal{Y}_T,\\mathcal{S}_T)|\\mathcal{Y}_T;\\theta^{(k-1)}\\right]\n",
    "\\end{align}\n",
    "$$\n",
    "Until we reach convergence.\n",
    "\n",
    "Indeed, the assumption of normality allows us to reach a sequence of estimates with analytical expressions. At step $k$, with the guessed vector of parameters $\\theta^{(k-1)}$, differentiation of the log-likelihood function with respect to $\\sigma_i$ yields:\n",
    "$$\n",
    "\\begin{align}\n",
    "\\frac{\\partial \\sum_{t=1}^T \\xi_{t|T}^{(k-1)}(i)\\ log\\ \\phi_{it}}{\\partial \\sigma_i} = \\sum_{t=1}^T \\xi_{t|T}^{(k-1)}(i)\\ \\left(\\frac{(y_t-\\mu_i)^2}{\\sigma_i^2}-1\\right) = 0\n",
    "\\end{align}\n",
    "$$\n",
    "So that,\n",
    "$$\n",
    "\\begin{align}\n",
    "\\sigma_i^{(k)} = \\sqrt{\\frac{\\sum_{t=1}^T \\xi_{t|T}^{(k-1)}(i) \\left(y_t-\\mu^{(k)}_{-1}\\right)^2}{\\sum_{t=1}^T \\xi_{t|T}^{(k-1)}(i)}}\n",
    "\\end{align}\n",
    "$$\n",
    "The expression is just the squared root of a weighted average of the squared deviations of the process, where the weights are the relative estimated probability of state $i$ occurring. Differentiation with respect to $\\mu_i^{(k)}$ yields:\n",
    "$$\n",
    "\\begin{align}\n",
    "\\sum_{t=1}^T \\xi_{t|T}^{(k-1)}(i) \\frac{y_t-\\mu_i^{(k)}}{\\left(\\sigma_i^{(k)}\\right)^2} = 0\n",
    "\\end{align}\n",
    "$$\n",
    "The corresponding estimates $\\mu_i^{(k)}$, are just averages that are weighted by the estimated probability that the process is in state $i$ at each date $t$:\n",
    "$$\n",
    "\\begin{align}\n",
    "\\mu_i^{(k)} = \\frac{\\sum_{t=1}^T \\xi_{t|T}^{(k-1)}(i) y_t}{\\sum_{i=1}^M \\xi_{t|T}^{(k-1)}(i)}\n",
    "\\end{align}\n",
    "$$\n",
    "Finally, we can show that the estimates for the transition matrix and the initial distribution are given by:\n",
    "$$\n",
    "\\begin{align}\n",
    "& p_{ij}^{(k)} = \\frac{\\sum_{t=2}^T p_{ij}^{(k-1)}\\xi_{t-1|t-1}(i)\\xi_{t|T}(j)/\\xi_{t|t}(j)}{\\sum_{t=2}^T \\xi_{t-1|T}^{(k-1)}(i)} \\\\\n",
    "& \\pi_i^{(k)} = \\xi_{1|T}^{(k-1)}(i)\n",
    "\\end{align}\n",
    "$$\n",
    "Notice the resemblance of the solution $p_{ij}^{(k)}$ with the MLE estimate for the transition probabilities we learned in the first lesson. We now have all the ingredients to set the optimization algorithm and estimate the parameters. First, define again the functions needed to estimate the model:"
   ]
  },
  {
   "cell_type": "code",
   "execution_count": null,
   "metadata": {
    "id": "_IC52liqqkYr"
   },
   "outputs": [],
   "source": [
    "# Estimation of model with changes in volatility regimes\n",
    "\n",
    "import matplotlib.pyplot as plt\n",
    "import numpy as np\n",
    "import pandas as pd\n",
    "from scipy.stats import norm\n",
    "\n",
    "# Estimation of model with changes in volatility regimes\n",
    "# Build function that performs the E step\n",
    "# Likelihood of an observation\n",
    "\n",
    "\n",
    "def likelihood(xi_prob, mu, sigma, y):\n",
    "    phi = norm.pdf((y - mu) / sigma)\n",
    "    y_like = np.dot(xi_prob, phi)\n",
    "\n",
    "    return y_like\n",
    "\n",
    "\n",
    "# Hamilton filtering\n",
    "def forward_alg(pi_hat0, N, T, P, mu, sigma, Y):\n",
    "    xi_prob_t = np.zeros((T, N))\n",
    "    xi_prob_t1 = np.zeros((T, N))\n",
    "\n",
    "    # Case t=1\n",
    "    y_like = likelihood(pi_hat0, mu, sigma, Y[0])\n",
    "    for ss in range(0, N):\n",
    "        phi = np.zeros((N))\n",
    "        for ss2 in range(0, N):\n",
    "            phi[ss2] = norm.pdf((Y[0] - mu[ss2]) / sigma[ss2])\n",
    "    xi_prob_t[0, :] = np.multiply(pi_hat0, phi) / y_like\n",
    "    for ss in range(0, N):\n",
    "        xi_prob_t1[0, ss] = np.dot(P[:, ss], xi_prob_t[0, :])\n",
    "\n",
    "    for tt in range(1, T):\n",
    "        y_like = likelihood(xi_prob_t1[tt - 1, :], mu, sigma, Y[tt])\n",
    "        for ss in range(0, N):\n",
    "            phi = np.zeros((N))\n",
    "            for ss2 in range(0, N):\n",
    "                phi[ss2] = norm.pdf((Y[tt] - mu[ss2]) / sigma[ss2])\n",
    "        xi_prob_t[tt, :] = np.multiply(xi_prob_t1[tt - 1, :], phi) / y_like\n",
    "        for ss in range(0, N):\n",
    "            xi_prob_t1[tt, ss] = np.dot(P[:, ss], xi_prob_t[tt, :])\n",
    "\n",
    "    return xi_prob_t, xi_prob_t1\n",
    "\n",
    "\n",
    "# Kim filtering\n",
    "def backward_alg(xi_prob_t, xi_prob_t1, N, T, P, mu, sigma, Y):\n",
    "    xi_prob_T = np.zeros((T, N))\n",
    "    xi_prob_T[T - 1, :] = xi_prob_t[T - 1, :]\n",
    "\n",
    "    for tt in range(T - 2, -1, -1):\n",
    "        xi_T_xi = np.divide(xi_prob_T[tt + 1, :], xi_prob_t1[tt, :])\n",
    "        for ss in range(0, N):\n",
    "            xi_prob_T[tt, ss] = xi_prob_t[tt, ss] * np.dot(P[ss, :], xi_T_xi)\n",
    "\n",
    "    return xi_prob_T  # , xi_prob_T1\n",
    "\n",
    "\n",
    "def M_step_func(xi_prob, P, N, T, Y):  #\n",
    "    mu_hat = np.zeros((N))\n",
    "    sigma_hat = np.zeros((N))\n",
    "    P_hat = np.zeros((N, N))\n",
    "    pi_hat = np.zeros((N))\n",
    "\n",
    "    for ss in range(0, N):\n",
    "        xi_y = np.dot(xi_prob[:, ss], Y)\n",
    "        mu_hat[ss] = xi_y / np.sum(xi_prob[:, ss])\n",
    "\n",
    "        xi_y_mu2 = np.dot(xi_prob[:, ss], (Y - mu_hat[ss]) ** 2)\n",
    "        sigma_hat[ss] = (xi_y_mu2 / np.sum(xi_prob[:, ss])) ** 0.5\n",
    "\n",
    "        for ss2 in range(0, N):\n",
    "            P_hat[ss, ss2] = np.sum(P[ss, ss2, 1:]) / np.sum(\n",
    "                P[ss, :, 1:]\n",
    "            )  # /np.sum(xi_prob[0:T-1,ss]) #np.sum(P[ss,:,1:T])\n",
    "            # print( np.sum(xi_prob[0:T-1,ss]), np.sum(P[ss,:,1:T]))\n",
    "\n",
    "        pi_hat[ss] = xi_prob[0, ss]\n",
    "\n",
    "    return mu_hat, sigma_hat, P_hat, pi_hat"
   ]
  },
  {
   "cell_type": "markdown",
   "metadata": {
    "id": "TKp-g2reqmiF"
   },
   "source": [
    "Now we read and plot the evolution of the daily VIX. Notice the remarkable spikes in the index in some periods associated with greater volatility in the index. This behavior makes it reasonable to apply a regime-switching model to understand the behavior of VIX."
   ]
  },
  {
   "cell_type": "code",
   "execution_count": null,
   "metadata": {
    "id": "AK3RoUi4qnWT"
   },
   "outputs": [],
   "source": [
    "# Read data\n",
    "PData = pd.read_csv(\"VIX_History_L4.csv\")\n",
    "\n",
    "YDatapd = PData[[\"CLOSE\"]]\n",
    "YData = YDatapd.to_numpy()\n",
    "YData = np.log(YData)\n",
    "plt.plot(YData)\n",
    "plt.title(\"VIX time series\")\n",
    "\n",
    "fig = plt.gcf()\n",
    "fig.set_size_inches(8, 6)\n",
    "plt.show()"
   ]
  },
  {
   "cell_type": "markdown",
   "metadata": {
    "id": "xhk9m6fwqqqc"
   },
   "source": [
    "Now let's estimate the model. At each iteration step, a figure plots the estimated probabilities of each state at each day. Notice that it is going to take several minutes until the model satisfies the convergence tolerance.<span style='color: transparent; font-size:1%'>All rights reserved WQU WorldQuant University QQQQ</span>"
   ]
  },
  {
   "cell_type": "code",
   "execution_count": null,
   "metadata": {
    "id": "p2Pd4hKLqrgV"
   },
   "outputs": [],
   "source": [
    "# Initialize parameters\n",
    "T = len(YData)\n",
    "N = 2\n",
    "\n",
    "# SET INITIAL GUESSES\n",
    "\n",
    "mu_hat0 = [2, 4] * np.ones((N))\n",
    "sigma_hat0 = [0.1, 0.1] * np.ones((N))\n",
    "P_hat0 = np.zeros((N, N))\n",
    "\n",
    "P_hat0[0, 0] = 0.75\n",
    "P_hat0[0, 1] = 1 - P_hat0[0, 0]\n",
    "P_hat0[1, 1] = 0.7\n",
    "P_hat0[1, 0] = 1 - P_hat0[1, 1]\n",
    "\n",
    "pi_hat0 = [0.5, 0.5] * np.ones((N))\n",
    "for t in range(1, 100):\n",
    "    pi_hat0 = np.dot(P_hat0.T, pi_hat0)\n",
    "\n",
    "# Determine maximum number of iterations until convergence and convergence tolerance\n",
    "itemax = 200\n",
    "itetol = 1e-2\n",
    "\n",
    "for ite in range(0, itemax):\n",
    "    print(mu_hat0, sigma_hat0, P_hat0, pi_hat0)\n",
    "\n",
    "    # E-step\n",
    "    xi_prob_t, xi_prob_t1 = forward_alg(\n",
    "        pi_hat0, N, T, P_hat0, mu_hat0, sigma_hat0, YData\n",
    "    )\n",
    "    xi_prob_T = backward_alg(\n",
    "        xi_prob_t, xi_prob_t1, N, T, P_hat0, mu_hat0, sigma_hat0, YData\n",
    "    )\n",
    "\n",
    "    print(\"\")\n",
    "    plt.subplot(1, 2, 1)\n",
    "    plt.plot(xi_prob_T[:, 0])\n",
    "    plt.subplot(1, 2, 2)\n",
    "    plt.plot(xi_prob_T[:, 1])\n",
    "    fig = plt.gcf()\n",
    "    fig.set_size_inches(16, 6)\n",
    "    plt.show()\n",
    "    print(\"\")\n",
    "\n",
    "    # Compute Pr(s_t+1 = j, s_t = i)\n",
    "    P_hat_T = np.zeros((N, N, T))\n",
    "    for tt in range(1, T):\n",
    "        for ss in range(0, N):\n",
    "            for ss2 in range(0, N):\n",
    "                P_hat_T[ss, ss2, tt] = (\n",
    "                    P_hat0[ss, ss2]\n",
    "                    * xi_prob_t[tt - 1, ss]\n",
    "                    * xi_prob_T[tt, ss2]\n",
    "                    / xi_prob_t1[tt - 1, ss2]\n",
    "                )\n",
    "    # M-step\n",
    "    mu_hat1, sigma_hat1, P_hat1, pi_hat1 = M_step_func(xi_prob_T, P_hat_T, N, T, YData)\n",
    "\n",
    "    diff = np.zeros((4))\n",
    "    diff[0] = np.sum(np.absolute(mu_hat1 - mu_hat0)) / (np.min(mu_hat0) + itetol * 1e-2)\n",
    "    diff[1] = np.sum(np.absolute(sigma_hat1 - sigma_hat0)) / (\n",
    "        np.min(sigma_hat0) + itetol * 1e-2\n",
    "    )\n",
    "    diff[2] = np.sum(np.absolute(np.subtract(P_hat1, P_hat0))) / (\n",
    "        np.min(P_hat0) + itetol * 1e-2\n",
    "    )\n",
    "    diff[3] = np.sum(np.absolute(pi_hat1 - pi_hat0)) / (np.min(pi_hat0) + itetol * 1e-2)\n",
    "\n",
    "    print(ite, np.max(diff))\n",
    "\n",
    "    if np.max(diff) > itetol:\n",
    "        mu_hat0, sigma_hat0, P_hat0, pi_hat0 = mu_hat1, sigma_hat1, P_hat1, pi_hat1\n",
    "    else:\n",
    "        print(mu_hat1, sigma_hat1, P_hat1, pi_hat1)\n",
    "        break"
   ]
  },
  {
   "cell_type": "markdown",
   "metadata": {
    "id": "dRu_ky_RqwG8"
   },
   "source": [
    "Notice how the estimation clearly identifies long periods of time with high levels and volatility of the VIX, while other periods of time include episodes of low and high volatility that the model encounters difficulties disentangling. That is, during those episodes, the probabilities of low or high VIX are roughly 50%. Also, check that the estimated transition matrix shows that the high + volatile regime of VIX is the most usual outcome.\n",
    "\n",
    "The procedure above can be easily extended to include more elaborated dynamics that might improve the outcome of the model while retaining the Markovian properties. See Hamilton (Chapter 22, 1994). \n",
    "\n",
    "*Note: The version of the EM algorithm introduced above has been developed in a more or less independent fashion across different fields. For instance, in the speech recognition or cryptanalysis fields, an analogous version of Hamilton-Kim filtering plus the EM algorithm is known as the Baum-Welch algorithm. Indeed, the Baum-Welch algorithm was developed before the actual EM algorithm was proposed by Dempster, Laird, and Rubin.*"
   ]
  },
  {
   "cell_type": "markdown",
   "metadata": {
    "id": "bpFlDcvzfpvH"
   },
   "source": [
    "## **2. Conclusion**\n",
    "\n",
    "In this lesson, we have applied the HMM to a financial case study using the VIX (volatility index). In the next module, we will start with Dynamic programming, which is the first step to deal with more complex reinforcement learning problems.\n",
    "\n",
    "See you there!"
   ]
  },
  {
   "cell_type": "markdown",
   "metadata": {
    "id": "rUes4gEPUOXp"
   },
   "source": [
    "**References**\n",
    "\n",
    "- Hamilton, James D. *Time Series Analysis.* Princeton University Press, 1994. (see Chapter 22: \"Modeling Time Series with Changes in Regime\") "
   ]
  },
  {
   "cell_type": "markdown",
   "metadata": {
    "deletable": false,
    "editable": false
   },
   "source": [
    "---\n",
    "Copyright 2025 WorldQuant University. This\n",
    "content is licensed solely for personal use. Redistribution or\n",
    "publication of this material is strictly prohibited.\n"
   ]
  }
 ],
 "metadata": {
  "colab": {
   "collapsed_sections": [],
   "provenance": []
  },
  "kernelspec": {
   "display_name": "Python 3 (ipykernel)",
   "language": "python",
   "name": "python3"
  },
  "language_info": {
   "codemirror_mode": {
    "name": "ipython",
    "version": 3
   },
   "file_extension": ".py",
   "mimetype": "text/x-python",
   "name": "python",
   "nbconvert_exporter": "python",
   "pygments_lexer": "ipython3",
   "version": "3.11.0"
  }
 },
 "nbformat": 4,
 "nbformat_minor": 4
}
