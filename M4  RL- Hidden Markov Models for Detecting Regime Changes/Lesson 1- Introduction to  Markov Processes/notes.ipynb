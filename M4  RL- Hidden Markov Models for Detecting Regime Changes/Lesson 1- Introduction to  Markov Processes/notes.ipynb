{
 "cells": [
  {
   "cell_type": "markdown",
   "id": "7cebc553",
   "metadata": {},
   "source": [
    "### Lesson Videos"
   ]
  },
  {
   "cell_type": "markdown",
   "id": "c935cbbb",
   "metadata": {},
   "source": [
    "#### L1: Introduction  to  Markov Chains\n",
    "\n",
    "- [Harvard University. “Lecture 31: Markov Chains | Statistics 110.” YouTube, 29 April 2013](https://www.youtube.com/watch?v=8AJPs3gvNlY)\n",
    "- [Markov Chains — Finding Stationary Distributions.](https://www.youtube.com/watch?v=YIHSJR2iJrw)"
   ]
  },
  {
   "cell_type": "markdown",
   "id": "ba8e1191",
   "metadata": {},
   "source": []
  }
 ],
 "metadata": {
  "kernelspec": {
   "display_name": "msc_FE",
   "language": "python",
   "name": "python3"
  },
  "language_info": {
   "codemirror_mode": {
    "name": "ipython",
    "version": 3
   },
   "file_extension": ".py",
   "mimetype": "text/x-python",
   "name": "python",
   "nbconvert_exporter": "python",
   "pygments_lexer": "ipython3",
   "version": "3.12.4"
  }
 },
 "nbformat": 4,
 "nbformat_minor": 5
}
