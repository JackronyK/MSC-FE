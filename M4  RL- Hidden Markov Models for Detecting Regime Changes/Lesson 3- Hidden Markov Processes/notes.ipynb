{
 "cells": [
  {
   "cell_type": "markdown",
   "id": "2e5420c6",
   "metadata": {},
   "source": [
    "### Lesson 3 Hidden Markov Processs"
   ]
  },
  {
   "cell_type": "markdown",
   "id": "3538e9c5",
   "metadata": {},
   "source": [
    "#### Videos\n",
    "1. [Normalized Nerd. “Hidden Markov Model Clearly Explained! Part - 5.”](https://www.youtube.com/watch?v=Ne2lmAZI4-I)\n",
    "2. [mathematicalmonk. “(ML14.4) Hidden Markov Models (HMMs) (Part 1).](https://www.youtube.com/watch?v=TPRoLreU9lA)\n",
    "3. [mathematicalmonk. “(ML14.5) Hidden Markov Models (HMMs) (Part 2).](https://www.youtube.com/watch?v=M_IIW0VYMEA)"
   ]
  },
  {
   "cell_type": "markdown",
   "id": "affe78e5",
   "metadata": {},
   "source": []
  }
 ],
 "metadata": {
  "language_info": {
   "name": "python"
  }
 },
 "nbformat": 4,
 "nbformat_minor": 5
}
