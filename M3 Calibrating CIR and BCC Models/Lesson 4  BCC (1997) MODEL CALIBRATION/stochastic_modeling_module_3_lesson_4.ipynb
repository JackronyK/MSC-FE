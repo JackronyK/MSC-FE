{
 "cells": [
  {
   "cell_type": "markdown",
   "metadata": {
    "id": "wbdl2MJGZifz"
   },
   "source": [
    "## STOCHASTIC MODELING\n",
    "MODULE 3 | LESSON 4\n",
    "\n",
    "\n",
    "---\n"
   ]
  },
  {
   "cell_type": "markdown",
   "metadata": {
    "id": "R-Lyb-5iZnu6"
   },
   "source": [
    "# **BCC (1997) MODEL CALIBRATION** "
   ]
  },
  {
   "cell_type": "markdown",
   "metadata": {
    "id": "gAQWf79oZun1"
   },
   "source": [
    "\n",
    "|  |  |\n",
    "|:---|:---|\n",
    "|**Reading Time** |  65 minutes |\n",
    "|**Prior Knowledge** | BCC (1997), CIR (1985), Bates (1996) |\n",
    "|**Keywords** | BCC (1997), Calibration |\n",
    "\n",
    "\n",
    "---"
   ]
  },
  {
   "cell_type": "markdown",
   "metadata": {
    "id": "bXtf2x6Swdlb"
   },
   "source": [
    "*In this final lesson of Module 4, we are going to fully calibrate the BCC (1997) model to interest rates and market prices. Arguably, we have, at one point in the course or another, performed all the different tasks required for BCC calibration. The purpose of this lesson is to actually put all these pieces together.*\n",
    "\n",
    "As usual, let's start with importing the necessary libraries:"
   ]
  },
  {
   "cell_type": "code",
   "execution_count": null,
   "metadata": {
    "executionInfo": {
     "elapsed": 1149,
     "status": "ok",
     "timestamp": 1664456417632,
     "user": {
      "displayName": "Ivan Blanco",
      "userId": "11863287364861133555"
     },
     "user_tz": -120
    },
    "id": "c5RAXHRBy-Di"
   },
   "outputs": [],
   "source": [
    "import matplotlib.pyplot as plt\n",
    "import numpy as np\n",
    "import pandas as pd\n",
    "from scipy.integrate import quad\n",
    "from scipy.interpolate import splev, splrep\n",
    "from scipy.optimize import brute, fmin"
   ]
  },
  {
   "cell_type": "markdown",
   "metadata": {
    "id": "tYz9U_FjkdqX"
   },
   "source": [
    "As is always the case when we have a model with distinct components that have to be calibrated to market data simultaneously, we have to start by following a sequential order. There are four general steps involved in the calibration of a BCC model:\n",
    "\n",
    "1. Calibration of short interest rates\n",
    "2. Calibration of stochastic volatility component of underlying asset\n",
    "3. Calibration of jump component of underlying asset\n",
    "4. Full calibration with the previous parameters from 2 and 3 as guidance\n",
    "\n",
    "\n",
    "Note that we are indeed establishing a clear separation between the calibration of the interest rates and the rest of the BCC model components. This is due to the assumption that the underlying asset and interest rates have zero correlation between each other. \n",
    "\n",
    "For simplicity, we will use the same data we have been dealing with in previous model calibrations. But remember that we can do this for any dataset with market information on interest rates and underlying asset prices.\n",
    "\n",
    "## **1. Calibration of Short Rates**\n",
    "\n",
    "First, we will calibrate the short rate model in BCC, which is essentially the CIR (1985) model we calibrated in Lesson 2 of this very same module. For the sake of completeness, we reproduce the process here. Please go back to the Lesson 2 notebook for more detailed information on the process."
   ]
  },
  {
   "cell_type": "code",
   "execution_count": null,
   "metadata": {
    "executionInfo": {
     "elapsed": 6,
     "status": "ok",
     "timestamp": 1664456417633,
     "user": {
      "displayName": "Ivan Blanco",
      "userId": "11863287364861133555"
     },
     "user_tz": -120
    },
    "id": "B8Sdm9BAabSk"
   },
   "outputs": [],
   "source": [
    "# Euribor Market data\n",
    "mat_list = np.array((1, 7, 14, 30, 60, 90, 180, 270, 360)) / 360\n",
    "rate_list = (\n",
    "    np.array((-0.032, -0.013, -0.013, 0.007, 0.043, 0.083, 0.183, 0.251, 0.338)) / 100\n",
    ")"
   ]
  },
  {
   "cell_type": "code",
   "execution_count": null,
   "metadata": {
    "executionInfo": {
     "elapsed": 6,
     "status": "ok",
     "timestamp": 1664456417633,
     "user": {
      "displayName": "Ivan Blanco",
      "userId": "11863287364861133555"
     },
     "user_tz": -120
    },
    "id": "UXTMfBLDa-mE"
   },
   "outputs": [],
   "source": [
    "# Capitalization factors and Zero-rates\n",
    "r0 = rate_list[0]\n",
    "factors = 1 + mat_list * rate_list\n",
    "zero_rates = 1 / mat_list * np.log(factors)"
   ]
  },
  {
   "cell_type": "code",
   "execution_count": null,
   "metadata": {
    "executionInfo": {
     "elapsed": 5,
     "status": "ok",
     "timestamp": 1664456417633,
     "user": {
      "displayName": "Ivan Blanco",
      "userId": "11863287364861133555"
     },
     "user_tz": -120
    },
    "id": "h5j7FqlczKw2"
   },
   "outputs": [],
   "source": [
    "# Interpolation and Forward rates\n",
    "bspline = splrep(mat_list, zero_rates, k=3)  # Cubic spline\n",
    "mat_list_n = np.linspace(\n",
    "    0.0, 1.0, 24\n",
    ")  # Create 24 equally spaced maturities between 0 and 1\n",
    "inter_rates = splev(mat_list_n, bspline, der=0)  # Interpolated rates\n",
    "\n",
    "first_der = splev(mat_list_n, bspline, der=1)  # First derivative of spline\n",
    "f = (\n",
    "    inter_rates + first_der * mat_list_n\n",
    ")  # Forward rate given interpolated ones and first derivative"
   ]
  },
  {
   "cell_type": "code",
   "execution_count": null,
   "metadata": {
    "executionInfo": {
     "elapsed": 6,
     "status": "ok",
     "timestamp": 1664456417634,
     "user": {
      "displayName": "Ivan Blanco",
      "userId": "11863287364861133555"
     },
     "user_tz": -120
    },
    "id": "yajMAxsFzKr3"
   },
   "outputs": [],
   "source": [
    "# CIR (1985) Forward rate function\n",
    "\n",
    "\n",
    "def CIR_forward_rate(alpha):\n",
    "    \"\"\"\n",
    "    Forward rates in CIR (1985) model\n",
    "    The set of parameters is called alpha and include Kappa_r, Theta_r and Sigma_r\n",
    "    \"\"\"\n",
    "\n",
    "    kappa_r, theta_r, sigma_r = alpha\n",
    "\n",
    "    t = mat_list_n\n",
    "    g = np.sqrt(kappa_r**2 + 2 * sigma_r**2)\n",
    "\n",
    "    s1 = (kappa_r * theta_r * (np.exp(g * t) - 1)) / (\n",
    "        2 * g + (kappa_r + g) * (np.exp(g * t) - 1)\n",
    "    )\n",
    "\n",
    "    s2 = r0 * (\n",
    "        (4 * g**2 * np.exp(g * t)) / (2 * g + (kappa_r + g) * (np.exp(g * t)-1)) ** 2)\n",
    "    \n",
    "\n",
    "    return s1 + s2"
   ]
  },
  {
   "cell_type": "code",
   "execution_count": null,
   "metadata": {
    "executionInfo": {
     "elapsed": 5,
     "status": "ok",
     "timestamp": 1664456417634,
     "user": {
      "displayName": "Ivan Blanco",
      "userId": "11863287364861133555"
     },
     "user_tz": -120
    },
    "id": "tf7j2fW-zKpK"
   },
   "outputs": [],
   "source": [
    "# CIR (1985) Error function\n",
    "\n",
    "\n",
    "def CIR_error_function(alpha):\n",
    "    \"\"\"\n",
    "    Error function to calibrate CIR (1985) model\n",
    "    \"\"\"\n",
    "\n",
    "    kappa_r, theta_r, sigma_r = alpha\n",
    "\n",
    "    # Few remarks to avoid problems for certain values of parameters:\n",
    "    if 2 * kappa_r * theta_r < sigma_r**2:\n",
    "        return 100\n",
    "    if kappa_r < 0 or theta_r < 0 or sigma_r < 0.001:\n",
    "        return 100\n",
    "\n",
    "    forward_rates = CIR_forward_rate(alpha)\n",
    "    MSE = np.sum((f - forward_rates) ** 2) / len(f)\n",
    "\n",
    "    return MSE"
   ]
  },
  {
   "cell_type": "code",
   "execution_count": null,
   "metadata": {
    "executionInfo": {
     "elapsed": 5,
     "status": "ok",
     "timestamp": 1664456417634,
     "user": {
      "displayName": "Ivan Blanco",
      "userId": "11863287364861133555"
     },
     "user_tz": -120
    },
    "id": "47C11BzSzKmx"
   },
   "outputs": [],
   "source": [
    "# CIR (1985) Calibration via minimizing Forward rate differences\n",
    "\n",
    "\n",
    "def CIR_calibration():\n",
    "    opt = fmin(\n",
    "        CIR_error_function,\n",
    "        [1.0, 0.02, 0.1],\n",
    "        xtol=0.00001,\n",
    "        ftol=0.00001,\n",
    "        maxiter=300,\n",
    "        maxfun=500,\n",
    "    )\n",
    "\n",
    "    return opt"
   ]
  },
  {
   "cell_type": "markdown",
   "metadata": {
    "id": "B4lVEoCzm7_x"
   },
   "source": [
    "And here we have the results of the calibration of CIR (1985). Of course, since we used the same market data as in Lesson 2, we get the same parameter values:"
   ]
  },
  {
   "cell_type": "code",
   "execution_count": null,
   "metadata": {
    "colab": {
     "base_uri": "https://localhost:8080/"
    },
    "executionInfo": {
     "elapsed": 6,
     "status": "ok",
     "timestamp": 1664456417859,
     "user": {
      "displayName": "Ivan Blanco",
      "userId": "11863287364861133555"
     },
     "user_tz": -120
    },
    "id": "MY9V_gUEzKkg",
    "outputId": "89f55059-9588-4f30-f4bd-7ac453487d42"
   },
   "outputs": [],
   "source": [
    "params_CIR = CIR_calibration()\n",
    "params_CIR"
   ]
  },
  {
   "cell_type": "markdown",
   "metadata": {
    "id": "SdVryCjynJQZ"
   },
   "source": [
    "Let's store these parameters in variables for later use:<span style='color: transparent; font-size:1%'>All rights reserved WQU WorldQuant University QQQQ</span>"
   ]
  },
  {
   "cell_type": "code",
   "execution_count": null,
   "metadata": {
    "executionInfo": {
     "elapsed": 3,
     "status": "ok",
     "timestamp": 1664456417859,
     "user": {
      "displayName": "Ivan Blanco",
      "userId": "11863287364861133555"
     },
     "user_tz": -120
    },
    "id": "QU41ukF8nRIZ"
   },
   "outputs": [],
   "source": [
    "# CIR (1985) calibrated parameters\n",
    "kappa_r, theta_r, sigma_r = params_CIR"
   ]
  },
  {
   "cell_type": "markdown",
   "metadata": {
    "id": "bvZHutNZnpYB"
   },
   "source": [
    "## **2. Calibration of Stochastic Volatility Component (Heston, 1993)**\n",
    "\n",
    "Next, we will take the calibrated CIR model parameters as inputs and essentially perform a calibration process similar to the one we implemented for the Bates (1996) model. Once again, we will focus on the same market data (i.e., options on EuroStoxx 50), so the calibration process should be pretty similar to the one we performed in previous modules. Please refer to these modules for further explanation of specific steps if needed.\n",
    "\n",
    "## **2.1. Load Market Data**\n",
    "\n",
    "The first step is to load options market data to be used in the calibration:"
   ]
  },
  {
   "cell_type": "code",
   "execution_count": null,
   "metadata": {
    "executionInfo": {
     "elapsed": 311,
     "status": "ok",
     "timestamp": 1664456418167,
     "user": {
      "displayName": "Ivan Blanco",
      "userId": "11863287364861133555"
     },
     "user_tz": -120
    },
    "id": "OT-qogepo-7k"
   },
   "outputs": [],
   "source": [
    "# Option market data loading\n",
    "h5 = pd.HDFStore(\"option_data_M3.h5\", \"r\")\n",
    "data = h5[\"data\"]  # European call & put option data (3 maturities)\n",
    "h5.close()\n",
    "S0 = 3225.93  # EURO STOXX 50 level 30.09.2014"
   ]
  },
  {
   "cell_type": "code",
   "execution_count": null,
   "metadata": {
    "colab": {
     "base_uri": "https://localhost:8080/"
    },
    "executionInfo": {
     "elapsed": 5,
     "status": "ok",
     "timestamp": 1664456418167,
     "user": {
      "displayName": "Ivan Blanco",
      "userId": "11863287364861133555"
     },
     "user_tz": -120
    },
    "id": "D11N02vypQUV",
    "outputId": "5f33acdb-2e00-42d4-89e2-0e07ad8845d7"
   },
   "outputs": [],
   "source": [
    "# Selection of options for calibration\n",
    "tol = 0.02  # percent ITM/OTM options\n",
    "options = data[(np.abs(data[\"Strike\"] - S0) / S0) < tol]\n",
    "options[\"Date\"] = pd.DatetimeIndex(options[\"Date\"])\n",
    "options[\"Maturity\"] = pd.DatetimeIndex(options[\"Maturity\"])"
   ]
  },
  {
   "cell_type": "markdown",
   "metadata": {
    "id": "oanM0glidwuP"
   },
   "source": [
    "Note that the code is prepared to deal with all maturities in the data at the same time. However, this would imply that we are looking for parameters in our calibration such that our model is able to replicate, with the same parameters, all the maturities we observed. Obviously, this introduces a fitting problem because it is much harder to perfectly match option market prices for different maturities under a constant set of parameters. You are welcome to modify the code and try to match the 3 maturities in the example dataset at the same time. You will see that the calibration process does not do such a good job.\n",
    "\n",
    "However, when you try to calibrate the model to a single maturity, the fit of the model improves drastically. We are going to show you that in this notebook for the closest maturity we observe in the market:"
   ]
  },
  {
   "cell_type": "code",
   "execution_count": null,
   "metadata": {
    "executionInfo": {
     "elapsed": 4,
     "status": "ok",
     "timestamp": 1664456418168,
     "user": {
      "displayName": "Ivan Blanco",
      "userId": "11863287364861133555"
     },
     "user_tz": -120
    },
    "id": "C_LWd6q10mwI"
   },
   "outputs": [],
   "source": [
    "mats = sorted(set(options[\"Maturity\"]))\n",
    "options = options[options[\"Maturity\"] == mats[0]]"
   ]
  },
  {
   "cell_type": "markdown",
   "metadata": {
    "id": "aQ9vrBVzwmlj"
   },
   "source": [
    "## **2.2. Add Time to Maturity and Short Rates**\n",
    "\n",
    "Now, for each option in the market, we calculate its maturity and associated short rate given the CIR (1985) calibration parameters. This requires that, first, we need to incorporate our ZCB pricing functions from CIR."
   ]
  },
  {
   "cell_type": "code",
   "execution_count": null,
   "metadata": {
    "executionInfo": {
     "elapsed": 3,
     "status": "ok",
     "timestamp": 1664456418168,
     "user": {
      "displayName": "Ivan Blanco",
      "userId": "11863287364861133555"
     },
     "user_tz": -120
    },
    "id": "L70jlqjOpQSF"
   },
   "outputs": [],
   "source": [
    "# ZCB pricing functions under CIR (1985)\n",
    "\n",
    "\n",
    "def gamma(kappa_r, sigma_r):\n",
    "    \"\"\"\n",
    "    Gamma function in CIR (1985)\n",
    "    \"\"\"\n",
    "    return np.sqrt(kappa_r**2 + 2 * sigma_r**2)\n",
    "\n",
    "\n",
    "def b1(alpha):\n",
    "    \"\"\"\n",
    "    b1 function in CIR (1985)\n",
    "    alpha is the parameter set\n",
    "    \"\"\"\n",
    "    r0, kappa_r, theta_r, sigma_r, t, T = alpha\n",
    "    g = gamma(kappa_r, sigma_r)\n",
    "    x = (\n",
    "        (2 * g * np.exp((kappa_r + g) * (T - t) / 2))\n",
    "        / (2 * g + (kappa_r + g) * (np.exp(g * (T - t)) - 1))\n",
    "    ) ** (2 * kappa_r * theta_r / sigma_r**2)\n",
    "\n",
    "    return x\n",
    "\n",
    "\n",
    "def b2(alpha):\n",
    "    \"\"\"\n",
    "    b2 function in CIR (1985)\n",
    "    alpha is the parameter set\n",
    "    \"\"\"\n",
    "    r0, kappa_r, theta_r, sigma_r, t, T = alpha\n",
    "    g = gamma(kappa_r, sigma_r)\n",
    "    x = (2 * (np.exp(g * (T - t)) - 1)) / (\n",
    "        2 * g + (kappa_r + g) * (np.exp(g * (T - t)) - 1)\n",
    "    )\n",
    "\n",
    "    return x\n",
    "\n",
    "\n",
    "def B(alpha):\n",
    "    \"\"\"\n",
    "    ZCB prices in the CIR (1985) model\n",
    "    \"\"\"\n",
    "    b_1 = b1(alpha)\n",
    "    b_2 = b2(alpha)\n",
    "    r0, kappa_r, theta_r, sigma_r, t, T = alpha\n",
    "\n",
    "    E_rt = theta_r + np.exp(-kappa_r * t) * (r0 - theta_r)\n",
    "\n",
    "    zcb = b_1 * np.exp(-b_2 * E_rt)\n",
    "\n",
    "    return zcb"
   ]
  },
  {
   "cell_type": "markdown",
   "metadata": {
    "id": "E9hE5DFLyHTG"
   },
   "source": [
    "Now, we can incorporate to each option in the market its maturity and corresponding short rate:"
   ]
  },
  {
   "cell_type": "code",
   "execution_count": null,
   "metadata": {
    "colab": {
     "base_uri": "https://localhost:8080/"
    },
    "executionInfo": {
     "elapsed": 325,
     "status": "ok",
     "timestamp": 1664456418490,
     "user": {
      "displayName": "Ivan Blanco",
      "userId": "11863287364861133555"
     },
     "user_tz": -120
    },
    "id": "yuaQy20LpQP-",
    "outputId": "80c1bc3c-c22a-4c97-fe40-6077f658a31b"
   },
   "outputs": [],
   "source": [
    "# Including short rates and time to maturity\n",
    "for row, option in options.iterrows():\n",
    "    T = (option[\"Maturity\"] - option[\"Date\"]).days / 365.0\n",
    "    options.loc[row, \"T\"] = T\n",
    "    B0T = B([r0, kappa_r, theta_r, sigma_r, 0, T])\n",
    "    options.loc[row, \"r\"] = -np.log(B0T) / T"
   ]
  },
  {
   "cell_type": "markdown",
   "metadata": {
    "id": "gfXeJg5x2bWq"
   },
   "source": [
    "## **2.3. Calibration of Heston (1993) Model**\n",
    "\n",
    "Now, we can calibrate the stochastic volatility component of the BCC model, which as you know is essentially the Heston (1993) model calibration we performed in Module 1. Please refer there for a deeper explanation. \n",
    "\n",
    "*Note that all this coding can be much more efficiently performed by using object-oriented programming. You are very welcome to do that and build your own library with option pricing functions. Here, for the sake of completeness, we reproduce all the functions needed in the process.*"
   ]
  },
  {
   "cell_type": "code",
   "execution_count": null,
   "metadata": {
    "executionInfo": {
     "elapsed": 9,
     "status": "ok",
     "timestamp": 1664456418490,
     "user": {
      "displayName": "Ivan Blanco",
      "userId": "11863287364861133555"
     },
     "user_tz": -120
    },
    "id": "nmnMVBVD3X5c"
   },
   "outputs": [],
   "source": [
    "i = 0\n",
    "min_MSE = 500"
   ]
  },
  {
   "cell_type": "code",
   "execution_count": null,
   "metadata": {
    "executionInfo": {
     "elapsed": 9,
     "status": "ok",
     "timestamp": 1664456418491,
     "user": {
      "displayName": "Ivan Blanco",
      "userId": "11863287364861133555"
     },
     "user_tz": -120
    },
    "id": "4GZdNOY8pQLd"
   },
   "outputs": [],
   "source": [
    "def H93_error_function(p0):\n",
    "    \"\"\"Error function for parameter calibration via\n",
    "    Lewis (2001) Fourier approach for Heston (1993).\n",
    "    Parameters\n",
    "    ==========\n",
    "    kappa_v: float\n",
    "        mean-reversion factor\n",
    "    theta_v: float\n",
    "        long-run mean of variance\n",
    "    sigma_v: float\n",
    "        volatility of variance\n",
    "    rho: float\n",
    "        correlation between variance and stock/index level\n",
    "    v0: float\n",
    "        initial, instantaneous variance\n",
    "    Returns\n",
    "    =======\n",
    "    MSE: float\n",
    "        mean squared error\n",
    "    \"\"\"\n",
    "    global i, min_MSE\n",
    "    kappa_v, theta_v, sigma_v, rho, v0 = p0\n",
    "    if kappa_v < 0.0 or theta_v < 0.005 or sigma_v < 0.0 or rho < -1.0 or rho > 1.0:\n",
    "        return 500.0\n",
    "    if 2 * kappa_v * theta_v < sigma_v**2:\n",
    "        return 500.0\n",
    "    se = []\n",
    "    for row, option in options.iterrows():\n",
    "        model_value = H93_call_value(\n",
    "            S0,\n",
    "            option[\"Strike\"],\n",
    "            option[\"T\"],\n",
    "            option[\"r\"],\n",
    "            kappa_v,\n",
    "            theta_v,\n",
    "            sigma_v,\n",
    "            rho,\n",
    "            v0,\n",
    "        )\n",
    "        se.append((model_value - option[\"Call\"]) ** 2)\n",
    "    MSE = sum(se) / len(se)\n",
    "    min_MSE = min(min_MSE, MSE)\n",
    "    if i % 100 == 0:\n",
    "        print(\"%4d |\" % i, np.array(p0), \"| %7.3f | %7.3f\" % (MSE, min_MSE))\n",
    "    i += 1\n",
    "    return MSE"
   ]
  },
  {
   "cell_type": "code",
   "execution_count": null,
   "metadata": {
    "executionInfo": {
     "elapsed": 8,
     "status": "ok",
     "timestamp": 1664456418491,
     "user": {
      "displayName": "Ivan Blanco",
      "userId": "11863287364861133555"
     },
     "user_tz": -120
    },
    "id": "6CNa2_6ZpQJO"
   },
   "outputs": [],
   "source": [
    "def H93_call_value(S0, K, T, r, kappa_v, theta_v, sigma_v, rho, v0):\n",
    "    \"\"\"Valuation of European call option in H93 model via Lewis (2001)\n",
    "\n",
    "    Parameter definition:\n",
    "    ==========\n",
    "    S0: float\n",
    "        initial stock/index level\n",
    "    K: float\n",
    "        strike price\n",
    "    T: float\n",
    "        time-to-maturity (for t=0)\n",
    "    r: float\n",
    "        constant risk-free short rate\n",
    "    kappa_v: float\n",
    "        mean-reversion factor\n",
    "    theta_v: float\n",
    "        long-run mean of variance\n",
    "    sigma_v: float\n",
    "        volatility of variance\n",
    "    rho: float\n",
    "        correlation between variance and stock/index level\n",
    "    v0: float\n",
    "        initial level of variance\n",
    "    Returns\n",
    "    =======\n",
    "    call_value: float\n",
    "        present value of European call option\n",
    "    \"\"\"\n",
    "    int_value = quad(\n",
    "        lambda u: H93_int_func(u, S0, K, T, r, kappa_v, theta_v, sigma_v, rho, v0),\n",
    "        0,\n",
    "        np.inf,\n",
    "        limit=250,\n",
    "    )[0]\n",
    "    call_value = max(0, S0 - np.exp(-r * T) * np.sqrt(S0 * K) / np.pi * int_value)\n",
    "    return call_value"
   ]
  },
  {
   "cell_type": "code",
   "execution_count": null,
   "metadata": {
    "executionInfo": {
     "elapsed": 9,
     "status": "ok",
     "timestamp": 1664456418492,
     "user": {
      "displayName": "Ivan Blanco",
      "userId": "11863287364861133555"
     },
     "user_tz": -120
    },
    "id": "X53f-JaLpQHN"
   },
   "outputs": [],
   "source": [
    "def H93_int_func(u, S0, K, T, r, kappa_v, theta_v, sigma_v, rho, v0):\n",
    "    \"\"\"\n",
    "    Fourier-based approach for Lewis (2001): Integration function.\n",
    "    \"\"\"\n",
    "    char_func_value = H93_char_func(\n",
    "        u - 1j * 0.5, T, r, kappa_v, theta_v, sigma_v, rho, v0\n",
    "    )\n",
    "    int_func_value = (\n",
    "        1 / (u**2 + 0.25) * (np.exp(1j * u * np.log(S0 / K)) * char_func_value).real\n",
    "    )\n",
    "    return int_func_value"
   ]
  },
  {
   "cell_type": "code",
   "execution_count": null,
   "metadata": {},
   "outputs": [],
   "source": [
    "def H93_char_func(u, T, r, kappa_v, theta_v, sigma_v, rho, v0):\n",
    "    \"\"\"Valuation of European call option in H93 model via Lewis (2001)\n",
    "    Fourier-based approach: characteristic function.\n",
    "    Parameter definitions see function BCC_call_value.\"\"\"\n",
    "    c1 = kappa_v * theta_v\n",
    "    c2 = -np.sqrt(\n",
    "        (rho * sigma_v * u * 1j - kappa_v) ** 2 - sigma_v**2 * (-u * 1j - u**2)\n",
    "    )\n",
    "    c3 = (kappa_v - rho * sigma_v * u * 1j + c2) / (\n",
    "        kappa_v - rho * sigma_v * u * 1j - c2\n",
    "    )\n",
    "    H1 = r * u * 1j * T + (c1 / sigma_v**2) * (\n",
    "        (kappa_v - rho * sigma_v * u * 1j + c2) * T\n",
    "        - 2 * np.log((1 - c3 * np.exp(c2 * T)) / (1 - c3))\n",
    "    )\n",
    "    H2 = (\n",
    "        (kappa_v - rho * sigma_v * u * 1j + c2)\n",
    "        / sigma_v**2\n",
    "        * ((1 - np.exp(c2 * T)) / (1 - c3 * np.exp(c2 * T)))\n",
    "    )\n",
    "    char_func_value = np.exp(H1 + H2 * v0)\n",
    "    return char_func_value"
   ]
  },
  {
   "cell_type": "code",
   "execution_count": null,
   "metadata": {
    "executionInfo": {
     "elapsed": 9,
     "status": "ok",
     "timestamp": 1664456418493,
     "user": {
      "displayName": "Ivan Blanco",
      "userId": "11863287364861133555"
     },
     "user_tz": -120
    },
    "id": "R9_PEGeI3mKU"
   },
   "outputs": [],
   "source": [
    "def H93_calibration_full():\n",
    "    \"\"\"Calibrates Heston (1993) stochastic volatility model to market quotes.\"\"\"\n",
    "    # First run with brute force\n",
    "    # (scan sensible regions, for faster convergence)\n",
    "    p0 = brute(\n",
    "        H93_error_function,\n",
    "        (\n",
    "            (2.5, 10.6, 5.0),  # kappa_v\n",
    "            (0.01, 0.041, 0.01),  # theta_v\n",
    "            (0.05, 0.251, 0.1),  # sigma_v\n",
    "            (-0.75, 0.01, 0.25),  # rho\n",
    "            (0.01, 0.031, 0.01),\n",
    "        ),  # v0\n",
    "        finish=None,\n",
    "    )\n",
    "\n",
    "    # Second run with local, convex minimization\n",
    "    # (we dig deeper where promising results)\n",
    "    opt = fmin(\n",
    "        H93_error_function, p0, xtol=0.000001, ftol=0.000001, maxiter=950, maxfun=900\n",
    "    )\n",
    "    return opt"
   ]
  },
  {
   "cell_type": "markdown",
   "metadata": {
    "id": "XcCubwL95U26"
   },
   "source": [
    "Now it's time to see the first model parameters that our calibration outputs and save them for future use:"
   ]
  },
  {
   "cell_type": "code",
   "execution_count": null,
   "metadata": {
    "colab": {
     "base_uri": "https://localhost:8080/"
    },
    "executionInfo": {
     "elapsed": 78262,
     "status": "ok",
     "timestamp": 1664456496747,
     "user": {
      "displayName": "Ivan Blanco",
      "userId": "11863287364861133555"
     },
     "user_tz": -120
    },
    "id": "ZY9BRUg83mID",
    "outputId": "836a385e-922a-4bb7-cb7f-e012e8b9235c"
   },
   "outputs": [],
   "source": [
    "kappa_v, theta_v, sigma_v, rho, v0 = H93_calibration_full()"
   ]
  },
  {
   "cell_type": "markdown",
   "metadata": {
    "id": "Evhr2P2yB3PG"
   },
   "source": [
    "## **3. Calibration of the Jump Component**\n",
    "\n",
    "Next, we will use these parameter values to calibrate the jump component of BCC (1997). Once again, this process is very similar to that of Bates (1996) calibration, so we will omit a deep explanation of the specific steps.\n",
    "\n",
    "\\\n",
    "Let's start with our error function and the calibration of jump parameters according to the previous stochastic volatility parameter values:"
   ]
  },
  {
   "cell_type": "code",
   "execution_count": null,
   "metadata": {
    "executionInfo": {
     "elapsed": 5,
     "status": "ok",
     "timestamp": 1664456496747,
     "user": {
      "displayName": "Ivan Blanco",
      "userId": "11863287364861133555"
     },
     "user_tz": -120
    },
    "id": "VQ_Z9id_Dg5y"
   },
   "outputs": [],
   "source": [
    "i = 0\n",
    "min_MSE = 5000.0\n",
    "local_opt = False\n",
    "\n",
    "\n",
    "def BCC_error_function_v1(p0):\n",
    "    \"\"\"\n",
    "    Error function for BCC (1997) model\n",
    "    \"\"\"\n",
    "    global i, min_MSE, local_opt, opt1\n",
    "    lamb, mu, delta = p0\n",
    "    if lamb < 0.0 or mu < -0.6 or mu > 0.0 or delta < 0.0:\n",
    "        return 5000.0\n",
    "    se = []\n",
    "    for row, option in options.iterrows():\n",
    "        model_value = BCC_call_value(\n",
    "            S0,\n",
    "            option[\"Strike\"],\n",
    "            option[\"T\"],\n",
    "            option[\"r\"],\n",
    "            kappa_v,\n",
    "            theta_v,\n",
    "            sigma_v,\n",
    "            rho,\n",
    "            v0,\n",
    "            lamb,\n",
    "            mu,\n",
    "            delta,\n",
    "        )\n",
    "        se.append((model_value - option[\"Call\"]) ** 2)\n",
    "    MSE = sum(se) / len(se)\n",
    "    min_MSE = min(min_MSE, MSE)\n",
    "    if i % 100 == 0:\n",
    "        print(\"%4d |\" % i, np.array(p0), \"| %7.3f | %7.3f\" % (MSE, min_MSE))\n",
    "    i += 1\n",
    "    if local_opt:\n",
    "        penalty = np.sqrt(np.sum((p0 - opt1) ** 2)) * 1\n",
    "        return MSE + penalty\n",
    "    return MSE"
   ]
  },
  {
   "cell_type": "code",
   "execution_count": null,
   "metadata": {
    "executionInfo": {
     "elapsed": 5,
     "status": "ok",
     "timestamp": 1664456496747,
     "user": {
      "displayName": "Ivan Blanco",
      "userId": "11863287364861133555"
     },
     "user_tz": -120
    },
    "id": "dYreeqygDg3g"
   },
   "outputs": [],
   "source": [
    "# Call Value function\n",
    "\n",
    "\n",
    "def BCC_call_value(S0, K, T, r, kappa_v, theta_v, sigma_v, rho, v0, lamb, mu, delta):\n",
    "    \"\"\"\n",
    "    Valuation of European call option in B96 Model via Lewis (2001)\n",
    "    Parameters:\n",
    "    ==========\n",
    "    S0: float\n",
    "        initial stock/index level\n",
    "    K: float\n",
    "        strike price\n",
    "    T: float\n",
    "        time-to-maturity (for t=0)\n",
    "    r: float\n",
    "        constant risk-free short rate\n",
    "    kappa_v: float\n",
    "        mean-reversion factor\n",
    "    theta_v: float\n",
    "        long-run mean of variance\n",
    "    sigma_v: float\n",
    "        volatility of variance\n",
    "    rho: float\n",
    "        correlation between variance and stock/index level\n",
    "    v0: float\n",
    "        initial level of variance\n",
    "    lamb: float\n",
    "        jump intensity\n",
    "    mu: float\n",
    "        expected jump size\n",
    "    delta: float\n",
    "        standard deviation of jump\n",
    "    ==========\n",
    "    \"\"\"\n",
    "    int_value = quad(\n",
    "        lambda u: BCC_int_func(\n",
    "            u, S0, K, T, r, kappa_v, theta_v, sigma_v, rho, v0, lamb, mu, delta\n",
    "        ),\n",
    "        0,\n",
    "        np.inf,\n",
    "        limit=250,\n",
    "    )[0]\n",
    "    call_value = max(0, S0 - np.exp(-r * T) * np.sqrt(S0 * K) / np.pi * int_value)\n",
    "    return call_value"
   ]
  },
  {
   "cell_type": "code",
   "execution_count": null,
   "metadata": {
    "executionInfo": {
     "elapsed": 5,
     "status": "ok",
     "timestamp": 1664456496748,
     "user": {
      "displayName": "Ivan Blanco",
      "userId": "11863287364861133555"
     },
     "user_tz": -120
    },
    "id": "EoSUBK8iDg1Q"
   },
   "outputs": [],
   "source": [
    "# BCC (1997) characteristic function (H93+M76)\n",
    "\n",
    "\n",
    "def BCC_char_func(u, T, r, kappa_v, theta_v, sigma_v, rho, v0, lamb, mu, delta):\n",
    "    \"\"\"\n",
    "    BCC (1997) characteristic function\n",
    "    \"\"\"\n",
    "    H93 = H93_char_func(u, T, r, kappa_v, theta_v, sigma_v, rho, v0)\n",
    "    M76J = M76J_char_func(u, T, lamb, mu, delta)\n",
    "    return H93 * M76J\n",
    "\n",
    "\n",
    "# Merton (1976) characteristic function\n",
    "def M76J_char_func(u, T, lamb, mu, delta):\n",
    "    \"\"\"\n",
    "    Adjusted Characteristic function for Merton '76 model: Only jump component\n",
    "    \"\"\"\n",
    "\n",
    "    omega = -lamb * (np.exp(mu + 0.5 * delta**2) - 1)\n",
    "    char_func_value = np.exp(\n",
    "        (1j * u * omega + lamb * (np.exp(1j * u * mu - u**2 * delta**2 * 0.5) - 1))\n",
    "        * T\n",
    "    )\n",
    "    return char_func_value"
   ]
  },
  {
   "cell_type": "code",
   "execution_count": null,
   "metadata": {
    "executionInfo": {
     "elapsed": 5,
     "status": "ok",
     "timestamp": 1664456496748,
     "user": {
      "displayName": "Ivan Blanco",
      "userId": "11863287364861133555"
     },
     "user_tz": -120
    },
    "id": "is2he61GDgsh"
   },
   "outputs": [],
   "source": [
    "# Lewis (2001) integral value of BCC (1997)\n",
    "\n",
    "\n",
    "def BCC_int_func(u, S0, K, T, r, kappa_v, theta_v, sigma_v, rho, v0, lamb, mu, delta):\n",
    "    \"\"\"\n",
    "    Lewis (2001) integral value for BCC (1997) characteristic function\n",
    "    \"\"\"\n",
    "    char_func_value = BCC_char_func(\n",
    "        u - 1j * 0.5, T, r, kappa_v, theta_v, sigma_v, rho, v0, lamb, mu, delta\n",
    "    )\n",
    "    int_func_value = (\n",
    "        1 / (u**2 + 0.25) * (np.exp(1j * u * np.log(S0 / K)) * char_func_value).real\n",
    "    )\n",
    "    return int_func_value"
   ]
  },
  {
   "cell_type": "markdown",
   "metadata": {
    "id": "UF2VuIJaGZdG"
   },
   "source": [
    "And, finally, our calibration function:"
   ]
  },
  {
   "cell_type": "code",
   "execution_count": null,
   "metadata": {
    "executionInfo": {
     "elapsed": 5,
     "status": "ok",
     "timestamp": 1664456496748,
     "user": {
      "displayName": "Ivan Blanco",
      "userId": "11863287364861133555"
     },
     "user_tz": -120
    },
    "id": "j6_SsEy-3mD8"
   },
   "outputs": [],
   "source": [
    "def BCC_calibration_short():\n",
    "    \"\"\"Calibrates jump component of BCC97 model to market quotes.\"\"\"\n",
    "    # We first run with brute force\n",
    "    # (scan sensible regions)\n",
    "    opt1 = 0.0\n",
    "    opt1 = brute(\n",
    "        BCC_error_function_v1,\n",
    "        (\n",
    "            (0.0, 0.51, 0.1),  # lambda\n",
    "            (-0.5, -0.11, 0.1),  # mu\n",
    "            (0.0, 0.51, 0.25),\n",
    "        ),  # delta\n",
    "        finish=None,\n",
    "    )\n",
    "\n",
    "    # second run with local, convex minimization\n",
    "    # (dig deeper where promising)\n",
    "    opt2 = fmin(\n",
    "        BCC_error_function_v1,\n",
    "        opt1,\n",
    "        xtol=0.0000001,\n",
    "        ftol=0.0000001,\n",
    "        maxiter=550,\n",
    "        maxfun=750,\n",
    "    )\n",
    "    return opt2"
   ]
  },
  {
   "cell_type": "code",
   "execution_count": null,
   "metadata": {
    "colab": {
     "base_uri": "https://localhost:8080/"
    },
    "executionInfo": {
     "elapsed": 38263,
     "status": "ok",
     "timestamp": 1664456535007,
     "user": {
      "displayName": "Ivan Blanco",
      "userId": "11863287364861133555"
     },
     "user_tz": -120
    },
    "id": "69G8dD0u3mB9",
    "outputId": "86a6aa6d-325f-4ee7-9361-16ba9a9d0855"
   },
   "outputs": [],
   "source": [
    "lamb, mu, delta = BCC_calibration_short()"
   ]
  },
  {
   "cell_type": "markdown",
   "metadata": {
    "id": "KXGkZltWJ50_"
   },
   "source": [
    "We can now save these parameter estimates for later use and see how our calibration performs by looking at the differences between model output and actual market values:"
   ]
  },
  {
   "cell_type": "code",
   "execution_count": null,
   "metadata": {
    "executionInfo": {
     "elapsed": 6,
     "status": "ok",
     "timestamp": 1664456535007,
     "user": {
      "displayName": "Ivan Blanco",
      "userId": "11863287364861133555"
     },
     "user_tz": -120
    },
    "id": "zL-m6PhB3l_b"
   },
   "outputs": [],
   "source": [
    "p0 = [lamb, mu, delta]"
   ]
  },
  {
   "cell_type": "code",
   "execution_count": null,
   "metadata": {
    "executionInfo": {
     "elapsed": 6,
     "status": "ok",
     "timestamp": 1664456535008,
     "user": {
      "displayName": "Ivan Blanco",
      "userId": "11863287364861133555"
     },
     "user_tz": -120
    },
    "id": "fmGlCB3S3l07"
   },
   "outputs": [],
   "source": [
    "def BCC_jump_calculate_model_values(p0):\n",
    "    \"\"\"Calculates all model values given parameter vector p0.\"\"\"\n",
    "    lamb, mu, delta = p0\n",
    "    values = []\n",
    "    for row, option in options.iterrows():\n",
    "        model_value = BCC_call_value(\n",
    "            S0,\n",
    "            option[\"Strike\"],\n",
    "            option[\"T\"],\n",
    "            option[\"r\"],\n",
    "            kappa_v,\n",
    "            theta_v,\n",
    "            sigma_v,\n",
    "            rho,\n",
    "            v0,\n",
    "            lamb,\n",
    "            mu,\n",
    "            delta,\n",
    "        )\n",
    "        values.append(model_value)\n",
    "    return np.array(values)"
   ]
  },
  {
   "cell_type": "code",
   "execution_count": null,
   "metadata": {
    "executionInfo": {
     "elapsed": 5,
     "status": "ok",
     "timestamp": 1664456535008,
     "user": {
      "displayName": "Ivan Blanco",
      "userId": "11863287364861133555"
     },
     "user_tz": -120
    },
    "id": "HClCCmv8kLfe"
   },
   "outputs": [],
   "source": [
    "def plot_BCC(p0):\n",
    "    options[\"Model\"] = BCC_jump_calculate_model_values(p0)\n",
    "    plt.figure(figsize=(8, 6))\n",
    "    plt.subplot(211)\n",
    "    plt.grid()\n",
    "    plt.title(\"Maturity %s\" % str(options[\"Maturity\"].iloc[0])[:10])\n",
    "    plt.ylabel(\"option values\")\n",
    "    plt.plot(options.Strike, options.Call, \"b\", label=\"market\")\n",
    "    plt.plot(options.Strike, options.Model, \"ro\", label=\"model\")\n",
    "    plt.legend(loc=0)\n",
    "    plt.axis(\n",
    "        [\n",
    "            min(options.Strike) - 10,\n",
    "            max(options.Strike) + 10,\n",
    "            min(options.Call) - 10,\n",
    "            max(options.Call) + 10,\n",
    "        ]\n",
    "    )\n",
    "    plt.subplot(212)\n",
    "    plt.grid()\n",
    "    wi = 5.0\n",
    "    diffs = options.Model.values - options.Call.values\n",
    "    plt.bar(options.Strike.values - wi / 2, diffs, width=wi)\n",
    "    plt.ylabel(\"difference\")\n",
    "    plt.axis(\n",
    "        [\n",
    "            min(options.Strike) - 10,\n",
    "            max(options.Strike) + 10,\n",
    "            min(diffs) * 1.1,\n",
    "            max(diffs) * 1.1,\n",
    "        ]\n",
    "    )\n",
    "    plt.tight_layout()"
   ]
  },
  {
   "cell_type": "code",
   "execution_count": null,
   "metadata": {
    "colab": {
     "base_uri": "https://localhost:8080/",
     "height": 441
    },
    "executionInfo": {
     "elapsed": 518,
     "status": "ok",
     "timestamp": 1664456535521,
     "user": {
      "displayName": "Ivan Blanco",
      "userId": "11863287364861133555"
     },
     "user_tz": -120
    },
    "id": "-DXDlUD0HYO3",
    "outputId": "1a035904-1c93-467e-debd-2213c39a02df"
   },
   "outputs": [],
   "source": [
    "plot_BCC(p0)"
   ]
  },
  {
   "cell_type": "markdown",
   "metadata": {
    "id": "4oTw5yPuKD6f"
   },
   "source": [
    "## **4. Full BCC Calibration**\n",
    "\n",
    "Now that we have some guidelines on the magnitude of the model parameters, we can perform a full calibration of the model to increase its fit with market data that simultaneously works on the stochastic volatility and the jump components:"
   ]
  },
  {
   "cell_type": "code",
   "execution_count": null,
   "metadata": {
    "executionInfo": {
     "elapsed": 4,
     "status": "ok",
     "timestamp": 1664456535521,
     "user": {
      "displayName": "Ivan Blanco",
      "userId": "11863287364861133555"
     },
     "user_tz": -120
    },
    "id": "i73DI9GHHYKn"
   },
   "outputs": [],
   "source": [
    "p0 = [kappa_v, theta_v, sigma_v, rho, v0, lamb, mu, delta]"
   ]
  },
  {
   "cell_type": "code",
   "execution_count": null,
   "metadata": {
    "executionInfo": {
     "elapsed": 899,
     "status": "ok",
     "timestamp": 1664456536417,
     "user": {
      "displayName": "Ivan Blanco",
      "userId": "11863287364861133555"
     },
     "user_tz": -120
    },
    "id": "WPcDzTIaHYIf"
   },
   "outputs": [],
   "source": [
    "i = 0\n",
    "min_MSE = 5000\n",
    "\n",
    "\n",
    "def BCC_error_function(p0):\n",
    "    \"\"\"\n",
    "    Error function for full parameter calibration of BCC model\n",
    "    \"\"\"\n",
    "    global i, min_MSE\n",
    "    kappa_v, theta_v, sigma_v, rho, v0, lamb, mu, delta = p0\n",
    "    if (\n",
    "        kappa_v < 0.0\n",
    "        or theta_v < 0.005\n",
    "        or sigma_v < 0.0\n",
    "        or rho < -1.0\n",
    "        or rho > 1.0\n",
    "        or v0 < 0.0\n",
    "        or lamb < 0.0\n",
    "        or mu < -0.6\n",
    "        or mu > 0.0\n",
    "        or delta < 0.0\n",
    "    ):\n",
    "        return 5000.0\n",
    "    if 2 * kappa_v * theta_v < sigma_v**2:\n",
    "        return 5000.0\n",
    "    se = []\n",
    "    for row, option in options.iterrows():\n",
    "        model_value = BCC_call_value(\n",
    "            S0,\n",
    "            option[\"Strike\"],\n",
    "            option[\"T\"],\n",
    "            option[\"r\"],\n",
    "            kappa_v,\n",
    "            theta_v,\n",
    "            sigma_v,\n",
    "            rho,\n",
    "            v0,\n",
    "            lamb,\n",
    "            mu,\n",
    "            delta,\n",
    "        )\n",
    "        se.append((model_value - option[\"Call\"]) ** 2)\n",
    "    MSE = sum(se) / len(se)\n",
    "    min_MSE = min(min_MSE, MSE)\n",
    "    if i % 100 == 0:\n",
    "        print(\"%4d |\" % i, np.array(p0), \"| %7.3f | %7.3f\" % (MSE, min_MSE))\n",
    "    i += 1\n",
    "    return MSE"
   ]
  },
  {
   "cell_type": "code",
   "execution_count": null,
   "metadata": {
    "executionInfo": {
     "elapsed": 9,
     "status": "ok",
     "timestamp": 1664456536419,
     "user": {
      "displayName": "Ivan Blanco",
      "userId": "11863287364861133555"
     },
     "user_tz": -120
    },
    "id": "wY6R7crdHYGI"
   },
   "outputs": [],
   "source": [
    "def BCC_calibration_full():\n",
    "    \"\"\"\n",
    "    Full calibration of BCC (1997)\n",
    "    \"\"\"\n",
    "    # local, convex minimization for all parameters\n",
    "    opt = fmin(\n",
    "        BCC_error_function, p0, xtol=0.000001, ftol=0.000001, maxiter=450, maxfun=750\n",
    "    )\n",
    "    return opt"
   ]
  },
  {
   "cell_type": "markdown",
   "metadata": {
    "id": "6Ge1Y2ZtObvN"
   },
   "source": [
    "So, let's run our final and full calibration program:"
   ]
  },
  {
   "cell_type": "code",
   "execution_count": null,
   "metadata": {
    "colab": {
     "base_uri": "https://localhost:8080/"
    },
    "executionInfo": {
     "elapsed": 84568,
     "status": "ok",
     "timestamp": 1664456620979,
     "user": {
      "displayName": "Ivan Blanco",
      "userId": "11863287364861133555"
     },
     "user_tz": -120
    },
    "id": "mJNZTy_9HYBX",
    "outputId": "3446c05c-488d-4a8b-9319-6b27b069b72c"
   },
   "outputs": [],
   "source": [
    "params_BCC = BCC_calibration_full()"
   ]
  },
  {
   "cell_type": "code",
   "execution_count": null,
   "metadata": {
    "executionInfo": {
     "elapsed": 5,
     "status": "ok",
     "timestamp": 1664456620980,
     "user": {
      "displayName": "Ivan Blanco",
      "userId": "11863287364861133555"
     },
     "user_tz": -120
    },
    "id": "wXl7S1R_MxqF"
   },
   "outputs": [],
   "source": [
    "kappa_v, theta_v, sigma_v, rho, v0, lamb, mu, delta = params_BCC"
   ]
  },
  {
   "cell_type": "markdown",
   "metadata": {
    "id": "fZ7XkW-xP96a"
   },
   "source": [
    "Let's also plot together our model option prices under the set of calibrated parameters versus the actual option market prices for the different maturities:"
   ]
  },
  {
   "cell_type": "code",
   "execution_count": null,
   "metadata": {
    "executionInfo": {
     "elapsed": 4,
     "status": "ok",
     "timestamp": 1664456620980,
     "user": {
      "displayName": "Ivan Blanco",
      "userId": "11863287364861133555"
     },
     "user_tz": -120
    },
    "id": "BuQq6hRIoBJt"
   },
   "outputs": [],
   "source": [
    "def BCC_calculate_model_values(p0):\n",
    "    \"\"\"Calculates all model values given parameter vector p0.\"\"\"\n",
    "    kappa_v, theta_v, sigma_v, rho, v0, lamb, mu, delta = p0\n",
    "    values = []\n",
    "    for row, option in options.iterrows():\n",
    "        model_value = BCC_call_value(\n",
    "            S0,\n",
    "            option[\"Strike\"],\n",
    "            option[\"T\"],\n",
    "            option[\"r\"],\n",
    "            kappa_v,\n",
    "            theta_v,\n",
    "            sigma_v,\n",
    "            rho,\n",
    "            v0,\n",
    "            lamb,\n",
    "            mu,\n",
    "            delta,\n",
    "        )\n",
    "        values.append(model_value)\n",
    "    return np.array(values)"
   ]
  },
  {
   "cell_type": "code",
   "execution_count": null,
   "metadata": {
    "executionInfo": {
     "elapsed": 4,
     "status": "ok",
     "timestamp": 1664456620980,
     "user": {
      "displayName": "Ivan Blanco",
      "userId": "11863287364861133555"
     },
     "user_tz": -120
    },
    "id": "hbzQLx57nu3p"
   },
   "outputs": [],
   "source": [
    "def plot_BCC_full(p0):\n",
    "    options[\"Model\"] = BCC_calculate_model_values(p0)\n",
    "    plt.figure(figsize=(8, 6))\n",
    "    plt.subplot(211)\n",
    "    plt.grid()\n",
    "    plt.title(\"Maturity %s\" % str(options[\"Maturity\"].iloc[0])[:10])\n",
    "    plt.ylabel(\"option values\")\n",
    "    plt.plot(options.Strike, options.Call, \"b\", label=\"market\")\n",
    "    plt.plot(options.Strike, options.Model, \"ro\", label=\"model\")\n",
    "    plt.legend(loc=0)\n",
    "    plt.axis(\n",
    "        [\n",
    "            min(options.Strike) - 10,\n",
    "            max(options.Strike) + 10,\n",
    "            min(options.Call) - 10,\n",
    "            max(options.Call) + 10,\n",
    "        ]\n",
    "    )\n",
    "    plt.subplot(212)\n",
    "    plt.grid()\n",
    "    wi = 5.0\n",
    "    diffs = options.Model.values - options.Call.values\n",
    "    plt.bar(options.Strike.values - wi / 2, diffs, width=wi)\n",
    "    plt.ylabel(\"difference\")\n",
    "    plt.axis(\n",
    "        [\n",
    "            min(options.Strike) - 10,\n",
    "            max(options.Strike) + 10,\n",
    "            min(diffs) * 1.1,\n",
    "            max(diffs) * 1.1,\n",
    "        ]\n",
    "    )\n",
    "    plt.tight_layout()"
   ]
  },
  {
   "cell_type": "code",
   "execution_count": null,
   "metadata": {
    "colab": {
     "base_uri": "https://localhost:8080/",
     "height": 441
    },
    "executionInfo": {
     "elapsed": 855,
     "status": "ok",
     "timestamp": 1664456621832,
     "user": {
      "displayName": "Ivan Blanco",
      "userId": "11863287364861133555"
     },
     "user_tz": -120
    },
    "id": "sJOLblIjoJ9C",
    "outputId": "95b75173-5be5-4e6a-ec19-5c0387a6adc2"
   },
   "outputs": [],
   "source": [
    "plot_BCC_full(params_BCC)"
   ]
  },
  {
   "cell_type": "markdown",
   "metadata": {
    "id": "EDpYL2YHQTgE"
   },
   "source": [
    "As you can see, we do a very decent job in matching option market prices.\n",
    "\n",
    "Of course, if we had fully calibrated the model for 3 different maturities at the same time, which is very demanding in terms of the actual fit of the model, we would not get such close results. We encourage you to do this and/or repeat it for a different maturity.\n",
    "\n",
    "This also begs the question of which maturity (or maturities) we should consider when calibrating the model. This is indeed a tricky question. In principle, your pricing horizon will dictate this, but in terms of dynamically hedging your position, you would likely prefer parameter estimates that are close to current situations. "
   ]
  },
  {
   "cell_type": "markdown",
   "metadata": {
    "id": "KN1oCvC9Xkc1"
   },
   "source": [
    "## **5. Conclusion**\n",
    "\n",
    "In this lesson, we performed a full calibration of the BCC (1997) model. After analyzing the final results of the calibration process, we raised some questions related to the maturity of the market-traded options we should consider for our calibration. In addition, we have primarily focused on model calibration to market prices, but sometimes, it is common to calibrate the model to options' implied volatility, which has certain benefits. We will analyze more deeply these and other questions in future courses. \n",
    "\n",
    "In the next module, we will start dealing with Markov processes and chains, which are central in our transition to introducing reinforcement learning, a topic that has gained popularity in recent years on several fronts, including model calibration.\n",
    "\n",
    "\\\n",
    "**References**\n",
    "\n",
    "- Bakshi, Gurdip, et al. \"Empirical Performance of Alternative Option Pricing Models.\" *The Journal of Finance* vol. 52, no. 5, 1997, pp. 2003-2049."
   ]
  },
  {
   "cell_type": "markdown",
   "metadata": {
    "deletable": false,
    "editable": false
   },
   "source": [
    "---\n",
    "Copyright 2025 WorldQuant University. This\n",
    "content is licensed solely for personal use. Redistribution or\n",
    "publication of this material is strictly prohibited.\n"
   ]
  }
 ],
 "metadata": {
  "colab": {
   "collapsed_sections": [],
   "provenance": []
  },
  "kernelspec": {
   "display_name": "Python 3 (ipykernel)",
   "language": "python",
   "name": "python3"
  },
  "language_info": {
   "codemirror_mode": {
    "name": "ipython",
    "version": 3
   },
   "file_extension": ".py",
   "mimetype": "text/x-python",
   "name": "python",
   "nbconvert_exporter": "python",
   "pygments_lexer": "ipython3",
   "version": "3.11.0"
  }
 },
 "nbformat": 4,
 "nbformat_minor": 4
}
