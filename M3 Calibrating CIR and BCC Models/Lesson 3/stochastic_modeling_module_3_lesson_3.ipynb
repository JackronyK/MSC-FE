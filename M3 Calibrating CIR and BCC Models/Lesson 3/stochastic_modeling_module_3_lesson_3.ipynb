{
 "cells": [
  {
   "cell_type": "markdown",
   "metadata": {
    "id": "wbdl2MJGZifz"
   },
   "source": [
    "## STOCHASTIC MODELING\n",
    "MODULE 3 | LESSON 3\n",
    "\n",
    "\n",
    "\n",
    "---\n"
   ]
  },
  {
   "cell_type": "markdown",
   "metadata": {
    "id": "R-Lyb-5iZnu6"
   },
   "source": [
    "# **BCC (1997) MODEL** "
   ]
  },
  {
   "cell_type": "markdown",
   "metadata": {
    "id": "gAQWf79oZun1"
   },
   "source": [
    "\n",
    "|  |  |\n",
    "|:---|:---|\n",
    "|**Reading Time** |  40 minutes |\n",
    "|**Prior Knowledge** | Heston (1993), Merton (1976), CIR (1985) |\n",
    "|**Keywords** | BCC (1997), Monte-Carlo |\n",
    "\n",
    "\n",
    "---"
   ]
  },
  {
   "cell_type": "markdown",
   "metadata": {
    "id": "bXtf2x6Swdlb"
   },
   "source": [
    "*In Lesson 3 of Module 3 of Stochastic Modeling, we are going to put together in one model the three different features we have explored in separate models so far: stochastic volatility, stochastic interest rates, and jump diffusion. This is exactly the Bakshi, Cao, and Chen (1997) model.*\n",
    "\n",
    "As usual, let's start with the import of the basic libraries:<span style='color: transparent; font-size:1%'>All rights reserved WQU WorldQuant University QQQQ</span>"
   ]
  },
  {
   "cell_type": "code",
   "execution_count": null,
   "metadata": {
    "id": "c5RAXHRBy-Di"
   },
   "outputs": [],
   "source": [
    "import numpy as np\n",
    "from scipy.integrate import quad"
   ]
  },
  {
   "cell_type": "markdown",
   "metadata": {
    "id": "rfxCbUSCQK1e"
   },
   "source": [
    "## **1. BCC (1997) Model**\n",
    "\n",
    "The Bakshi, Cao, and Chen (BCC) model of 1997 incorporates three very relevant features to model underlying asset prices:\n",
    "\n",
    "- Stochastic volatility (Heston, 1993)\n",
    "- Jump diffusion (Merton, 1976)\n",
    "- Stochastic interests rates (Cox-Ingersoll-Ross, 1985)\n",
    "\n",
    "At  this point, you already know models such as Bates (1996) that incorporate the first two characteristics on the list. Therefore, the transition to BCC (1997) model should be pretty smooth, as it basically only adds a change in the way to set the short-rate as any point $t$.\n",
    "\n",
    "The set of SDEs that BCC (1997) relies on is the following:\n",
    "$$\n",
    "\\\n",
    "\\begin{equation}\n",
    "    dS_t = (r_t - r_J) S_t dt + \\sqrt{\\nu_t} S_t dZ_t^1 + J_t S_t dN_t\n",
    "\\end{equation}\n",
    "$$\n",
    "$$\n",
    "\\\n",
    "\\begin{equation} \n",
    "    d\\nu_t = \\kappa_\\nu (\\theta_\\nu - \\nu_t)dt + \\sigma_\\nu \\sqrt{\\nu_t}dZ_t^2\n",
    "\\end{equation}\n",
    "$$\n",
    "$$\n",
    "\\\n",
    "\\begin{equation} \n",
    "    dr_t = \\kappa_r (\\theta_r - r_t)dt + \\sigma_r \\sqrt{r_t}dZ_t^3\n",
    "\\end{equation}\n",
    "$$\n",
    "\\\n",
    "where $Z_t^i$ are standard Brownian motions, and $N_t$ follows a Poisson process.\n",
    "\n",
    "As we mentioned before, the first 2 equations are equivalent to a Bates (1996) model with exogenous short rate, $r_t$. Hence, let's start by recoding this model, so that later on we can compare it to the BCC (1997) estimates.\n",
    "\n",
    "## **1.1. Revisiting Bates (1996)**\n",
    "\n",
    "For the purpose of later comparison of Bates (1996) versus BCC (1997) models, we include here the code for Bates that we saw in the previous module:"
   ]
  },
  {
   "cell_type": "code",
   "execution_count": null,
   "metadata": {
    "id": "VLXLSpw3S3Zs"
   },
   "outputs": [],
   "source": [
    "# Call Value function\n",
    "\n",
    "\n",
    "def B96_call_value(S0, K, T, r, kappa_v, theta_v, sigma_v, rho, v0, lamb, mu, delta):\n",
    "    \"\"\"\n",
    "    Valuation of European call option in B96 Model via Lewis (2001)\n",
    "    Parameters:\n",
    "    ==========\n",
    "    S0: float\n",
    "        initial stock/index level\n",
    "    K: float\n",
    "        strike price\n",
    "    T: float\n",
    "        time-to-maturity (for t=0)\n",
    "    r: float\n",
    "        constant risk-free short rate\n",
    "    kappa_v: float\n",
    "        mean-reversion factor\n",
    "    theta_v: float\n",
    "        long-run mean of variance\n",
    "    sigma_v: float\n",
    "        volatility of variance\n",
    "    rho: float\n",
    "        correlation between variance and stock/index level\n",
    "    v0: float\n",
    "        initial level of variance\n",
    "    lamb: float\n",
    "        jump intensity\n",
    "    mu: float\n",
    "        expected jump size\n",
    "    delta: float\n",
    "        standard deviation of jump\n",
    "    ==========\n",
    "    \"\"\"\n",
    "    int_value = quad(\n",
    "        lambda u: B96_int_func(\n",
    "            u, S0, K, T, r, kappa_v, theta_v, sigma_v, rho, v0, lamb, mu, delta\n",
    "        ),\n",
    "        0,\n",
    "        np.inf,\n",
    "        limit=250,\n",
    "    )[0]\n",
    "    call_value = max(0, S0 - np.exp(-r * T) * np.sqrt(S0 * K) / np.pi * int_value)\n",
    "    return call_value"
   ]
  },
  {
   "cell_type": "code",
   "execution_count": null,
   "metadata": {
    "id": "pBg1sXPIVUHR"
   },
   "outputs": [],
   "source": [
    "# Heston (1993) characteristic function\n",
    "\n",
    "\n",
    "def H93_char_func(u, T, r, kappa_v, theta_v, sigma_v, rho, v0):\n",
    "    \"\"\"Valuation of European call option in H93 model via Lewis (2001)\n",
    "    Fourier-based approach: characteristic function.\n",
    "    Parameter definitions see function BCC_call_value.\"\"\"\n",
    "    c1 = kappa_v * theta_v\n",
    "    c2 = -np.sqrt(\n",
    "        (rho * sigma_v * u * 1j - kappa_v) ** 2 - sigma_v**2 * (-u * 1j - u**2)\n",
    "    )\n",
    "    c3 = (kappa_v - rho * sigma_v * u * 1j + c2) / (\n",
    "        kappa_v - rho * sigma_v * u * 1j - c2\n",
    "    )\n",
    "    H1 = r * u * 1j * T + (c1 / sigma_v**2) * (\n",
    "        (kappa_v - rho * sigma_v * u * 1j + c2) * T\n",
    "        - 2 * np.log((1 - c3 * np.exp(c2 * T)) / (1 - c3))\n",
    "    )\n",
    "    H2 = (\n",
    "        (kappa_v - rho * sigma_v * u * 1j + c2)\n",
    "        / sigma_v**2\n",
    "        * ((1 - np.exp(c2 * T)) / (1 - c3 * np.exp(c2 * T)))\n",
    "    )\n",
    "    char_func_value = np.exp(H1 + H2 * v0)\n",
    "    return char_func_value"
   ]
  },
  {
   "cell_type": "code",
   "execution_count": null,
   "metadata": {
    "id": "6fUIBpAwVdHb"
   },
   "outputs": [],
   "source": [
    "# Merton (1976) characteristic function\n",
    "\n",
    "\n",
    "def M76J_char_func(u, T, lamb, mu, delta):\n",
    "    \"\"\"\n",
    "    Adjusted Characteristic function for Merton '76 model: Only jump component\n",
    "    \"\"\"\n",
    "\n",
    "    omega = -lamb * (np.exp(mu + 0.5 * delta**2) - 1)\n",
    "    char_func_value = np.exp(\n",
    "        (1j * u * omega + lamb * (np.exp(1j * u * mu - u**2 * delta**2 * 0.5) - 1))\n",
    "        * T\n",
    "    )\n",
    "    return char_func_value"
   ]
  },
  {
   "cell_type": "code",
   "execution_count": null,
   "metadata": {
    "id": "nXn6Mt6wViI8"
   },
   "outputs": [],
   "source": [
    "# Bates (1996) characteristic function (H93+M76)\n",
    "\n",
    "\n",
    "def B96_char_func(u, T, r, kappa_v, theta_v, sigma_v, rho, v0, lamb, mu, delta):\n",
    "    \"\"\"\n",
    "    Bates (1996) characteristic function\n",
    "    \"\"\"\n",
    "    H93 = H93_char_func(u, T, r, kappa_v, theta_v, sigma_v, rho, v0)\n",
    "    M76J = M76J_char_func(u, T, lamb, mu, delta)\n",
    "    return H93 * M76J"
   ]
  },
  {
   "cell_type": "code",
   "execution_count": null,
   "metadata": {
    "id": "MLrCPwmiVqPM"
   },
   "outputs": [],
   "source": [
    "# Lewis (2001) integral value of Bates (1996)\n",
    "\n",
    "\n",
    "def B96_int_func(u, S0, K, T, r, kappa_v, theta_v, sigma_v, rho, v0, lamb, mu, delta):\n",
    "    \"\"\"\n",
    "    Lewis (2001) integral value for Bates (1996) characteristic function\n",
    "    \"\"\"\n",
    "    char_func_value = B96_char_func(\n",
    "        u - 1j * 0.5, T, r, kappa_v, theta_v, sigma_v, rho, v0, lamb, mu, delta\n",
    "    )\n",
    "    int_func_value = (\n",
    "        1 / (u**2 + 0.25) * (np.exp(1j * u * np.log(S0 / K)) * char_func_value).real\n",
    "    )\n",
    "    return int_func_value"
   ]
  },
  {
   "cell_type": "markdown",
   "metadata": {
    "id": "2PMb-mpLV6kV"
   },
   "source": [
    "\n",
    "### **1.2. BCC (1997)**\n",
    "\n",
    "Now, the BCC (1997) model will look pretty similar the the Bates (1996), except from where we take the short-rates for discounting. We will, nevertheless, use specific functions, which we will denote with the term BCC for differentiation.\n",
    "\n",
    "\\\n",
    "First, we will deal with the 'equity component' which, in essence, is identical to Bates (1996), but leaves room for incorporating interest rates as an input:"
   ]
  },
  {
   "cell_type": "code",
   "execution_count": null,
   "metadata": {
    "id": "8m_SMb6RXIK5"
   },
   "outputs": [],
   "source": [
    "# Call Value function\n",
    "\n",
    "\n",
    "def BCC_call_value(S0, K, T, r, kappa_v, theta_v, sigma_v, rho, v0, lamb, mu, delta):\n",
    "    \"\"\"\n",
    "    Valuation of European call option in B96 Model via Lewis (2001)\n",
    "    Parameters:\n",
    "    ==========\n",
    "    S0: float\n",
    "        initial stock/index level\n",
    "    K: float\n",
    "        strike price\n",
    "    T: float\n",
    "        time-to-maturity (for t=0)\n",
    "    r: float\n",
    "        constant risk-free short rate\n",
    "    kappa_v: float\n",
    "        mean-reversion factor\n",
    "    theta_v: float\n",
    "        long-run mean of variance\n",
    "    sigma_v: float\n",
    "        volatility of variance\n",
    "    rho: float\n",
    "        correlation between variance and stock/index level\n",
    "    v0: float\n",
    "        initial level of variance\n",
    "    lamb: float\n",
    "        jump intensity\n",
    "    mu: float\n",
    "        expected jump size\n",
    "    delta: float\n",
    "        standard deviation of jump\n",
    "    ==========\n",
    "    \"\"\"\n",
    "    int_value = quad(\n",
    "        lambda u: BCC_int_func(\n",
    "            u, S0, K, T, r, kappa_v, theta_v, sigma_v, rho, v0, lamb, mu, delta\n",
    "        ),\n",
    "        0,\n",
    "        np.inf,\n",
    "        limit=250,\n",
    "    )[0]\n",
    "    call_value = max(0, S0 - np.exp(-r * T) * np.sqrt(S0 * K) / np.pi * int_value)\n",
    "    return call_value"
   ]
  },
  {
   "cell_type": "code",
   "execution_count": null,
   "metadata": {
    "id": "LMrfvxIkYF_c"
   },
   "outputs": [],
   "source": [
    "# BCC (1997) characteristic function (H93+M76)\n",
    "\n",
    "\n",
    "def BCC_char_func(u, T, r, kappa_v, theta_v, sigma_v, rho, v0, lamb, mu, delta):\n",
    "    \"\"\"\n",
    "    BCC (1997) characteristic function\n",
    "    \"\"\"\n",
    "    H93 = H93_char_func(u, T, r, kappa_v, theta_v, sigma_v, rho, v0)\n",
    "    M76J = M76J_char_func(u, T, lamb, mu, delta)\n",
    "    return H93 * M76J"
   ]
  },
  {
   "cell_type": "code",
   "execution_count": null,
   "metadata": {
    "id": "pO6dUkh-YI2M"
   },
   "outputs": [],
   "source": [
    "# Lewis (2001) integral value of BCC (1997)\n",
    "\n",
    "\n",
    "def BCC_int_func(u, S0, K, T, r, kappa_v, theta_v, sigma_v, rho, v0, lamb, mu, delta):\n",
    "    \"\"\"\n",
    "    Lewis (2001) integral value for BCC (1997) characteristic function\n",
    "    \"\"\"\n",
    "    char_func_value = BCC_char_func(\n",
    "        u - 1j * 0.5, T, r, kappa_v, theta_v, sigma_v, rho, v0, lamb, mu, delta\n",
    "    )\n",
    "    int_func_value = (\n",
    "        1 / (u**2 + 0.25) * (np.exp(1j * u * np.log(S0 / K)) * char_func_value).real\n",
    "    )\n",
    "    return int_func_value"
   ]
  },
  {
   "cell_type": "markdown",
   "metadata": {
    "id": "OSP6I1CxZZVm"
   },
   "source": [
    "Next, let's deal with the interest rate component, which is basically a CIR (1985) process. Now, unlike we have done before with the CIR model (first with pure simulation, then with calibration) we now have to build all pricing functions for the CIR (1985) model. Remember that the ZCB prices and their components in CIR were defined as follows:\n",
    "$$\n",
    "\\\n",
    "\\begin{equation*}\n",
    "        B_0(T) = b_1(T) e^{-b_2(T)\\mathbf{E_0^Q}(r_t)}\n",
    "\\end{equation*}\n",
    "$$\n",
    "\\\n",
    "where\n",
    "$$\n",
    "\\\n",
    "\\begin{equation*}\n",
    "        b_1(T) = \\left[ \\frac{2\\gamma e^{((k_r+\\gamma)(T-t)/2)}}{ 2\\gamma + (k_r +  \\gamma)(e^{\\gamma (T-t)}-1) } \\right]^{\\frac{2k_r\\theta_r}{\\sigma^2_r}}\n",
    "\\end{equation*}\n",
    "$$\n",
    "$$\n",
    "\\\n",
    "\\begin{equation*}\n",
    "        b_2(T) = \\frac{2(e^{\\gamma (T-t)}-1)}{2\\gamma + (k_r + \\gamma)(e^{\\gamma (T-t)}-1)}\n",
    "\\end{equation*}\n",
    "$$\n",
    "\\\n",
    "with \n",
    "$$\n",
    "\\\n",
    "\\begin{equation*}\n",
    "    \\mathbf{E_0^Q}(r_t) = \\theta_r + e^{-\\kappa_r t}(r_0- \\theta_r)\n",
    "\\end{equation*}\n",
    "$$\n",
    "\n",
    "\\\n",
    "So that we can, once we've obtained the ZCB prices, see the implied short-rates as:\n",
    "$$\n",
    "\\\n",
    "\\begin{equation*}\n",
    "    Y(0,T) = - \\frac{log(B_0(T))}{T}\n",
    "\\end{equation*}\n",
    "$$\n",
    "\\\n",
    "Let's then code these functions in:"
   ]
  },
  {
   "cell_type": "code",
   "execution_count": null,
   "metadata": {
    "id": "NvLPv9UEZidG"
   },
   "outputs": [],
   "source": [
    "def gamma(kappa_r, sigma_r):\n",
    "    \"\"\"\n",
    "    Gamma function in CIR (1985)\n",
    "    \"\"\"\n",
    "    return np.sqrt(kappa_r**2 + 2 * sigma_r**2)"
   ]
  },
  {
   "cell_type": "code",
   "execution_count": null,
   "metadata": {
    "id": "jMrYxeSGhIsf"
   },
   "outputs": [],
   "source": [
    "def b1(alpha):\n",
    "    \"\"\"\n",
    "    b1 function in CIR (1985)\n",
    "    alpha is the parameter set\n",
    "    \"\"\"\n",
    "    r0, kappa_r, theta_r, sigma_r, t, T = alpha\n",
    "    g = gamma(kappa_r, sigma_r)\n",
    "    x = (\n",
    "        (2 * g * np.exp((kappa_r + g) * (T - t) / 2))\n",
    "        / (2 * g + (kappa_r + g) * (np.exp(g * (T - t)) - 1))\n",
    "    ) ** (2 * kappa_r * theta_r / sigma_r**2)\n",
    "\n",
    "    return x"
   ]
  },
  {
   "cell_type": "code",
   "execution_count": null,
   "metadata": {
    "id": "pDOoyaV9jHnZ"
   },
   "outputs": [],
   "source": [
    "def b2(alpha):\n",
    "    \"\"\"\n",
    "    b2 function in CIR (1985)\n",
    "    alpha is the parameter set\n",
    "    \"\"\"\n",
    "    r0, kappa_r, theta_r, sigma_r, t, T = alpha\n",
    "    g = gamma(kappa_r, sigma_r)\n",
    "    x = (2 * (np.exp(g * (T - t)) - 1)) / (\n",
    "        2 * g + (kappa_r + g) * (np.exp(g * (T - t)) - 1)\n",
    "    )\n",
    "\n",
    "    return x"
   ]
  },
  {
   "cell_type": "code",
   "execution_count": null,
   "metadata": {
    "id": "G70LzSRGjnvh"
   },
   "outputs": [],
   "source": [
    "def B(alpha):\n",
    "    \"\"\"\n",
    "    ZCB prices in the CIR (1985) model\n",
    "    \"\"\"\n",
    "    b_1 = b1(alpha)\n",
    "    b_2 = b2(alpha)\n",
    "    r0, kappa_r, theta_r, sigma_r, t, T = alpha\n",
    "\n",
    "    E_rt = theta_r + np.exp(-kappa_r * t) * (r0 - theta_r)\n",
    "\n",
    "    zcb = b_1 * np.exp(-b_2 * E_rt)\n",
    "\n",
    "    return zcb"
   ]
  },
  {
   "cell_type": "markdown",
   "metadata": {
    "id": "PVX6hbXnpr6N"
   },
   "source": [
    "So, once we have the full BCC (1997) model pricing functions implemented (including those from CIR), let's do some pricing! \n",
    "\n",
    "## **2. Pricing Results and Comparisons**\n",
    "\n",
    "As you should already know by now, in order to properly use these models for pricing, we should first calibrate them to vanilla market prices and interest rates in order to extract the different parameter values that guarantee we are in a risk-neutral setting (and that we actually can apply risk-neutral valuation!).\n",
    "\n",
    "We will do this next in Lesson 4. For now, let's just do it with some given parameters:\n",
    "\n",
    "\\\n",
    "Short-rate parameters:\n",
    "- $r_0 = -0.032\\%$\n",
    "- $\\kappa_r = 0.068$\n",
    "- $\\theta_r = 0.207$\n",
    "- $\\sigma_r = 0.112$\n",
    "\n",
    "\\\n",
    "Stochastic volatility parameters:\n",
    "- $\\kappa_\\nu = 18.447$\n",
    "- $\\theta_\\nu = 0.026$\n",
    "- $\\sigma_\\nu = 0.978$\n",
    "- $\\rho = -0.821$\n",
    "- $\\nu_0 = 0.035$\n",
    "\n",
    "\\\n",
    "Jump diffusion parameters:\n",
    "- $\\lambda = 0.008$\n",
    "- $\\mu = -0.600$\n",
    "- $\\delta = 0.001$"
   ]
  },
  {
   "cell_type": "code",
   "execution_count": null,
   "metadata": {
    "id": "dHcNWlcmrnY_"
   },
   "outputs": [],
   "source": [
    "# Short-rates\n",
    "r0 = -0.032 / 100\n",
    "kappa_r = 0.068\n",
    "theta_r = 0.207\n",
    "sigma_r = 0.112\n",
    "\n",
    "# SV\n",
    "kappa_v = 18.447\n",
    "theta_v = 0.026\n",
    "sigma_v = 0.978\n",
    "rho = -0.821\n",
    "v0 = 0.035\n",
    "\n",
    "# JD\n",
    "lamb = 0.008\n",
    "mu = -0.600\n",
    "delta = 0.001"
   ]
  },
  {
   "cell_type": "markdown",
   "metadata": {
    "id": "rNJd9k3JsEkW"
   },
   "source": [
    "### **2.1. Results**\n",
    "\n",
    "We will compare the prices obtained under the Bates (1996) and BCC (1997) models for a very simple call option with $S_0=100$, $K=90$, and $T=1$.\n",
    "\n",
    "Next, we present the results according to the Bates (1996) model, keeping short-rate, $r_0$ fixed at its initial level:"
   ]
  },
  {
   "cell_type": "code",
   "execution_count": null,
   "metadata": {
    "colab": {
     "base_uri": "https://localhost:8080/"
    },
    "executionInfo": {
     "elapsed": 290,
     "status": "ok",
     "timestamp": 1662485198028,
     "user": {
      "displayName": "Maurizio Tiso",
      "userId": "16427352648509308808"
     },
     "user_tz": 420
    },
    "id": "qNDg1HTqsyRf",
    "outputId": "04b60661-1fa2-4c41-c4ef-fe60dd3c1cba"
   },
   "outputs": [],
   "source": [
    "B96_call = B96_call_value(\n",
    "    100, 90, 1, r0, kappa_v, theta_v, sigma_v, rho, v0, lamb, mu, delta\n",
    ")\n",
    "print(\"Call value under Bates (1996): \", B96_call)"
   ]
  },
  {
   "cell_type": "markdown",
   "metadata": {
    "id": "g3JjWVbtuHJ5"
   },
   "source": [
    "Finally, let's do the same exercise for the same option, under the BCC (1997) model. This requires that, first, we calculate our ZCB prices given CIR model parameters. Then, we will extract the short-rates associated with each maturity and use them for the discounting."
   ]
  },
  {
   "cell_type": "code",
   "execution_count": null,
   "metadata": {
    "id": "X5Ob98IKuVrO"
   },
   "outputs": [],
   "source": [
    "B0T = B([r0, kappa_r, theta_r, sigma_r, 0, 1])\n",
    "r = -np.log(B0T) / 1"
   ]
  },
  {
   "cell_type": "markdown",
   "metadata": {
    "id": "BGVypAVGv_V3"
   },
   "source": [
    "Once we have our short-rates for the maturity needed, we can now apply the same call_value function:"
   ]
  },
  {
   "cell_type": "code",
   "execution_count": null,
   "metadata": {
    "colab": {
     "base_uri": "https://localhost:8080/"
    },
    "executionInfo": {
     "elapsed": 420,
     "status": "ok",
     "timestamp": 1662485205865,
     "user": {
      "displayName": "Maurizio Tiso",
      "userId": "16427352648509308808"
     },
     "user_tz": 420
    },
    "id": "C8IN-sqBwFVZ",
    "outputId": "101ebd15-45f8-48a9-e885-c0049637a077"
   },
   "outputs": [],
   "source": [
    "BCC_call = BCC_call_value(\n",
    "    100, 90, 1, r, kappa_v, theta_v, sigma_v, rho, v0, lamb, mu, delta\n",
    ")\n",
    "print(\"Call value under BCC (1997): \", BCC_call)"
   ]
  },
  {
   "cell_type": "markdown",
   "metadata": {
    "id": "nml3bvrtwajG"
   },
   "source": [
    "Obviously, the only difference between both prices is due to the short-rate used, which, in the case of BCC, is determined by the calibrated parameters. So it can very well be the case that the values of these parameters (or not properly obtaining these values) affects and biases our pricing. "
   ]
  },
  {
   "cell_type": "markdown",
   "metadata": {
    "id": "KN1oCvC9Xkc1"
   },
   "source": [
    "\n",
    "## **3. Conclusion**\n",
    "\n",
    "In this lesson, we have implemented a BCC (1997) model with stochastic volatility, stochastic interest rates, and jump diffusion. We have performed some synthetic pricing exercises, assuming model parameters as given and exogenously determined. In the next lesson, we will perform a full calibration of the BCC (1997) model in order to properly extract the different parameter values necessary for pricing.\n",
    "\n",
    "\\\n",
    "**References**\n",
    "\n",
    "- Bakshi, Gurdip, et al. \"Empirical Performance of Alternative Option Pricing Models.\" *The Journal of Finance*, vol. 52, no. 5, 1997, pp. 2003-2049."
   ]
  },
  {
   "cell_type": "markdown",
   "metadata": {
    "deletable": false,
    "editable": false
   },
   "source": [
    "---\n",
    "Copyright 2025 WorldQuant University. This\n",
    "content is licensed solely for personal use. Redistribution or\n",
    "publication of this material is strictly prohibited.\n"
   ]
  }
 ],
 "metadata": {
  "colab": {
   "collapsed_sections": [],
   "provenance": []
  },
  "kernelspec": {
   "display_name": "Python 3 (ipykernel)",
   "language": "python",
   "name": "python3"
  },
  "language_info": {
   "codemirror_mode": {
    "name": "ipython",
    "version": 3
   },
   "file_extension": ".py",
   "mimetype": "text/x-python",
   "name": "python",
   "nbconvert_exporter": "python",
   "pygments_lexer": "ipython3",
   "version": "3.11.0"
  }
 },
 "nbformat": 4,
 "nbformat_minor": 4
}
