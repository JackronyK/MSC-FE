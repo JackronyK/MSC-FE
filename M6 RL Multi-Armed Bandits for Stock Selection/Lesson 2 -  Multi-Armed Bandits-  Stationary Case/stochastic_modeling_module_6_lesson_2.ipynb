{
 "cells": [
  {
   "cell_type": "markdown",
   "metadata": {
    "id": "qPO7A0XtabMS"
   },
   "source": [
    "\n",
    "## STOCHASTIC MODELING\n",
    "MODULE 6 | LESSON 2\n",
    "\n",
    "\n",
    "---"
   ]
  },
  {
   "cell_type": "markdown",
   "metadata": {
    "id": "FpX3nF_qa9JU"
   },
   "source": [
    "# **MULTI-ARMED BANDITS: Practice**"
   ]
  },
  {
   "cell_type": "markdown",
   "metadata": {
    "id": "70NEODWpaj7k"
   },
   "source": [
    "|  |  |\n",
    "|:---|:---|\n",
    "|**Reading Time** |  30 min |\n",
    "|**Prior Knowledge** |Markov process, Optimization, Monte Carlo  |\n",
    "|**Keywords** |Reinforcement learning, multi-armed bandits\n",
    "\n",
    "\n",
    "---"
   ]
  },
  {
   "cell_type": "markdown",
   "metadata": {
    "id": "gEiXjT4tcL4X"
   },
   "source": [
    "*In this notebook, we introduce the theory to understand the stationary k-bandit problem presented in the next lesson. This lecture represents the first building block in order to understand more complex versions of k-bandit models. Make sure you understand this properly because it is going to lay the foundation for the next lesson (non-stationary k-bandit problem).*<span style='color: transparent; font-size:1%'>All rights reserved WQU WorldQuant University QQQQ</span>"
   ]
  },
  {
   "cell_type": "markdown",
   "metadata": {
    "id": "eEUE1G-HOyNP"
   },
   "source": [
    "## **1. A Stationary $k$-bandit Problem**\n",
    "\n",
    "We are going to focus this second lesson on the implementation of optimal choices in the context of a $k$-armed bandit stationary problem. Before starting, let's upload the libraries we need in this module."
   ]
  },
  {
   "cell_type": "code",
   "execution_count": 1,
   "metadata": {
    "id": "6P0EZ0QcRUp9"
   },
   "outputs": [],
   "source": [
    "# LOAD LIBRARIES\n",
    "\n",
    "import matplotlib.pyplot as plt\n",
    "import numpy as np\n",
    "from numpy.random import rand, seed"
   ]
  },
  {
   "cell_type": "markdown",
   "metadata": {
    "id": "38BeqgOFRVQ0"
   },
   "source": [
    "The core of the algorithm is made of two pieces within each time step: first, an optimal action choice given information about the past, and second, an updating of the expected reward from choosing the given action.\n",
    "\n",
    "The next block of code defines the function that performs optimal action selection. In the policy choice, the function takes an array that provides information about the rewards obtained in the past from each action and some parameter that determines the probability of not being *greedy*. If not greedy, the agent chooses randomly across actions with equal probability. The function also takes care of the existence of ties, mostly relevant in the initial time steps of an episode. "
   ]
  },
  {
   "cell_type": "code",
   "execution_count": 2,
   "metadata": {
    "id": "MfHYsJx5RYoc"
   },
   "outputs": [],
   "source": [
    "def optimal_action(qvalue, eps):\n",
    "    \"\"\"\n",
    "    Determines what is the action to take given a measure of past\n",
    "    expected rewards across actions. With probability eps the action\n",
    "    is not the greedy one\n",
    "    \"\"\"\n",
    "    nactions = qvalue.shape[0]\n",
    "    action_hat = np.where(qvalue == np.max(qvalue))\n",
    "\n",
    "    if rand() <= eps:\n",
    "        randnum = rand()\n",
    "        for aa in range(nactions):\n",
    "            if randnum < (aa + 1) / nactions:\n",
    "                break\n",
    "    elif action_hat[0].shape[0] > 1:\n",
    "        # Randomize action when ties\n",
    "        randnum = rand()\n",
    "        for aa in range(action_hat[0].shape[0]):\n",
    "            if randnum < (aa + 1) / action_hat[0].shape[0]:\n",
    "                break\n",
    "        aa = action_hat[0][aa]\n",
    "    else:\n",
    "        aa = np.argmax(qvalue)\n",
    "\n",
    "    return aa"
   ]
  },
  {
   "cell_type": "markdown",
   "metadata": {
    "id": "lfyIWpNyRavl"
   },
   "source": [
    "The next block of code implements the second step of the algorithm. That is, the new update on the action-value given the choice that comes out of the previous function."
   ]
  },
  {
   "cell_type": "code",
   "execution_count": 3,
   "metadata": {
    "id": "tO-kWH21RcYs"
   },
   "outputs": [],
   "source": [
    "def reward_update(action, reward, qvalue_old, alpha):\n",
    "    qvalue_new = qvalue_old.copy()\n",
    "\n",
    "    qvalue_new[action] = qvalue_old[action] + alpha * (reward - qvalue_old[action])\n",
    "\n",
    "    return qvalue_new"
   ]
  },
  {
   "cell_type": "markdown",
   "metadata": {
    "id": "fkT-Kw3xRdI7"
   },
   "source": [
    "We will study the learning ability of an agent in the context of a 10-armed bandit problem. The average payoff from each bandit comes from the draws of a standard normal distribution, while the rewards of choosing each arm come from a normal distribution centered at the corresponding mean, with a unit standard deviation.\n",
    "\n",
    "The role of the agent is to learn from experience what is the arm that yields the highest expected value. We are going to evaluate the performance of the agent to learn over a run, or \"episode,\" of 1,000 time steps. Evaluation of the learning ability of the agent over a single history may be contaminated by \"too much randomness.\" Thus, we allow the agent to make 1,000 episodes, more than enough to reduce noise. We check the learning ability of the agent by averaging, at each time step, the rewards obtained by the agent across all episodes. "
   ]
  },
  {
   "cell_type": "code",
   "execution_count": 4,
   "metadata": {
    "colab": {
     "base_uri": "https://localhost:8080/"
    },
    "executionInfo": {
     "elapsed": 6,
     "status": "ok",
     "timestamp": 1663684929488,
     "user": {
      "displayName": "Alvaro Remesal Martin",
      "userId": "13772153249100390070"
     },
     "user_tz": -120
    },
    "id": "WFlfdWj-RhJl",
    "outputId": "5dd49eca-e738-4169-9ef4-91a45d78e724"
   },
   "outputs": [
    {
     "name": "stdout",
     "output_type": "stream",
     "text": [
      "[ 0.47143516 -1.19097569  1.43270697 -0.3126519  -0.72058873  0.88716294\n",
      "  0.85958841 -0.6365235   0.01569637 -2.24268495]\n"
     ]
    }
   ],
   "source": [
    "# EXAMPLE OF A STATIONARY k-BANDIT PROBLEM\n",
    "# Parameters\n",
    "NK = 10\n",
    "ITEMAX = 1000\n",
    "EPSILON_M = [0.0, 0.1]\n",
    "NEPISODES = 1000\n",
    "\n",
    "seed(1234)\n",
    "\n",
    "# Initialize actual distribution of each bandit\n",
    "NMEANS = np.random.normal(loc=0.0, scale=1.0, size=NK)\n",
    "\n",
    "print(NMEANS)"
   ]
  },
  {
   "cell_type": "markdown",
   "metadata": {
    "id": "7Hxf9DHpRj88"
   },
   "source": [
    "Notice that action 3 is the optimal action to take.\n",
    "\n",
    "We will compare the learning ability of a *$\\varepsilon$-greedy* action policy as compared to a purely greedy policy. The comparison can be made according to two statistics (i) the average reward across episodes at the same time step, and (ii) the average times that the actual optimal action was taken across episodes in the same time step. For this, we initialize two arrays that are going to store each measure of performance for each time step and $\\varepsilon$.\n",
    "\n",
    "You can easily check the performance of the agent for a broader set of $\\varepsilon$. We leave this as an exercise."
   ]
  },
  {
   "cell_type": "code",
   "execution_count": 5,
   "metadata": {
    "id": "Yf4SorFTRjSe"
   },
   "outputs": [],
   "source": [
    "reward_avg = np.zeros((ITEMAX, 2))\n",
    "optimal_avg = np.zeros((ITEMAX, 2))"
   ]
  },
  {
   "cell_type": "markdown",
   "metadata": {
    "id": "CwXm5WsyRl7L"
   },
   "source": [
    "Now let's check the performance of each policy."
   ]
  },
  {
   "cell_type": "code",
   "execution_count": null,
   "metadata": {
    "id": "juGp7Z8uRnpE"
   },
   "outputs": [],
   "source": [
    "for ee in range(2):\n",
    "    epsilon = EPSILON_M[ee]\n",
    "    for run in range(NEPISODES):\n",
    "        # Initialize q function and actions record\n",
    "        qvalue = np.zeros((NK))\n",
    "        nchoices = np.zeros((NK))\n",
    "        for tt in range(ITEMAX):\n",
    "            aa_opt = optimal_action(qvalue, epsilon)\n",
    "            reward = np.random.normal(loc=NMEANS[aa_opt], scale=1.0)\n",
    "            nchoices[aa_opt] += 1  # update with avg. number of times aa_opt was chosen\n",
    "            qvalue = reward_update(aa_opt, reward, qvalue, 1 / nchoices[aa_opt])\n",
    "            reward_avg[tt, ee] += reward / NEPISODES\n",
    "            optimal_avg[tt, ee] += (aa_opt == np.argmax(NMEANS)) / NEPISODES"
   ]
  },
  {
   "cell_type": "markdown",
   "metadata": {
    "id": "hBAL_DpiRp9M"
   },
   "source": [
    "Let's plot the results."
   ]
  },
  {
   "cell_type": "code",
   "execution_count": null,
   "metadata": {
    "colab": {
     "base_uri": "https://localhost:8080/",
     "height": 409
    },
    "executionInfo": {
     "elapsed": 629,
     "status": "ok",
     "timestamp": 1663684996178,
     "user": {
      "displayName": "Alvaro Remesal Martin",
      "userId": "13772153249100390070"
     },
     "user_tz": -120
    },
    "id": "EUel07A2RrqT",
    "outputId": "23b5ab7c-e695-49c4-81cf-d9d23746a0d7"
   },
   "outputs": [],
   "source": [
    "plt.subplot(1, 2, 1)\n",
    "plt.plot(reward_avg[:, 0], label=\"Greedy\")\n",
    "plt.plot(reward_avg[:, 1], label=\"0.1-Greedy\")\n",
    "plt.xlabel(\"Step\", fontsize=\"x-large\")\n",
    "plt.title(\"Average reward\", fontsize=\"x-large\")\n",
    "legend = plt.legend(loc=\"lower right\", shadow=True, fontsize=\"x-large\")\n",
    "plt.subplot(1, 2, 2)\n",
    "plt.plot(optimal_avg[:, 0], label=\"Greedy\")\n",
    "plt.plot(optimal_avg[:, 1], label=\"0.1-Greedy\")\n",
    "plt.xlabel(\"Step\", fontsize=\"x-large\")\n",
    "plt.title(\"Frequency of optimal action\", fontsize=\"x-large\")\n",
    "fig = plt.gcf()\n",
    "fig.set_size_inches(12, 6)\n",
    "plt.show()"
   ]
  },
  {
   "cell_type": "markdown",
   "metadata": {
    "id": "aLEg0YlhRu01"
   },
   "source": [
    "The greedy method learns slightly faster than the other method at the beginning but then reaches a lower average reward. It achieves a reward-per-step of only about 1, compared with the best possible of about 1.43. The greedy method performs worse in the long run because it gets stuck performing suboptimal actions.\n",
    "\n",
    "The other graph shows that the greedy method finds the optimal action in roughly one-third of the steps. The $\\varepsilon$-greedy method eventually performs better because its exploration of other actions in search of the optimal one. You can verify that the long-term performance of a low $\\varepsilon$ is better, so it is possible to reduce the parameter over the steps to maximize the advantages of both high and low values.\n",
    "\n",
    "The advantage of $\\varepsilon$-greedy over greedy methods depends on the task. For instance, noisier rewards (higher variance) increases the long-term advantages of exploring the action space and, thus, make $\\varepsilon$-greedy more efficient. On the other hand, with low variances, the greedy method would quickly find the optimal action and then never explore. But even in the deterministic case, there is a large advantage to exploring if we weaken some of the other assumptions, such as non-stationarity."
   ]
  },
  {
   "cell_type": "markdown",
   "metadata": {
    "id": "IvDnUAJ_ctrj"
   },
   "source": [
    "## **2. Conclusion**\n",
    "\n",
    "In this lesson, we have worked through concepts of k-bandit problems in the stationary case. In the next lesson, we will extend the problem to non-stationary applications.\n",
    "\n",
    "See you there!"
   ]
  },
  {
   "cell_type": "markdown",
   "metadata": {
    "deletable": false,
    "editable": false
   },
   "source": [
    "---\n",
    "Copyright 2025 WorldQuant University. This\n",
    "content is licensed solely for personal use. Redistribution or\n",
    "publication of this material is strictly prohibited.\n"
   ]
  }
 ],
 "metadata": {
  "colab": {
   "collapsed_sections": [],
   "provenance": []
  },
  "kernelspec": {
   "display_name": "Python 3 (ipykernel)",
   "language": "python",
   "name": "python3"
  },
  "language_info": {
   "codemirror_mode": {
    "name": "ipython",
    "version": 3
   },
   "file_extension": ".py",
   "mimetype": "text/x-python",
   "name": "python",
   "nbconvert_exporter": "python",
   "pygments_lexer": "ipython3",
   "version": "3.11.0"
  }
 },
 "nbformat": 4,
 "nbformat_minor": 4
}
