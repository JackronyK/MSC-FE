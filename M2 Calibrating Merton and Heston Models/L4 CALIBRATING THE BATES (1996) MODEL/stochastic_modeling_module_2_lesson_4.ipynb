{
 "cells": [
  {
   "cell_type": "markdown",
   "metadata": {
    "id": "wbdl2MJGZifz"
   },
   "source": [
    "## STOCHASTIC MODELING\n",
    "MODULE 2 | LESSON 4\n",
    "\n",
    "\n",
    "---\n"
   ]
  },
  {
   "cell_type": "markdown",
   "metadata": {
    "id": "R-Lyb-5iZnu6"
   },
   "source": [
    "# **CALIBRATING BATES (1996)** "
   ]
  },
  {
   "cell_type": "markdown",
   "metadata": {
    "id": "gAQWf79oZun1"
   },
   "source": [
    "\n",
    "|  |  |\n",
    "|:---|:---|\n",
    "|**Reading Time** |  75 minutes |\n",
    "|**Prior Knowledge** | Merton model, Heston model, Fourier transform, Characteristic function, Bates model  |\n",
    "|**Keywords** | Bates, Lewis, Calibration |\n",
    "\n",
    "\n",
    "---"
   ]
  },
  {
   "cell_type": "markdown",
   "metadata": {
    "id": "bXtf2x6Swdlb"
   },
   "source": [
    "*In Lesson 4 of Module 2 of Stochastic Modeling we will use Lewis (2001) approach to fully calibrate Bates (1996) model based on real option market quotes for the EuroStoxx 50, as we have done before for other models. Different from the calibrations we have done so far, Bates (1996) requires a sequential procedure, whereby we first calibrate the stochastic volatility component of a Heston (1993) type of model. Then, we use those parameters to calibrate the jump component of Bates (1996). Finally, we calibrate, via local optimization, the general model.*\n",
    "\n",
    "As usual, let's start with the import the necessary libraries:"
   ]
  },
  {
   "cell_type": "code",
   "execution_count": 1,
   "metadata": {
    "executionInfo": {
     "elapsed": 634,
     "status": "ok",
     "timestamp": 1664399940813,
     "user": {
      "displayName": "Ivan Blanco",
      "userId": "11863287364861133555"
     },
     "user_tz": -120
    },
    "id": "c5RAXHRBy-Di"
   },
   "outputs": [],
   "source": [
    "import matplotlib.pyplot as plt\n",
    "import numpy as np\n",
    "import pandas as pd\n",
    "from scipy.integrate import quad\n",
    "from scipy.optimize import brute, fmin"
   ]
  },
  {
   "cell_type": "markdown",
   "metadata": {
    "id": "ET51Zg-ITAAu"
   },
   "source": [
    "## 1. Calibrate Heston (1993) stochastic volatility model\n",
    "\n",
    "We already know that Bates (1996) model combines two desirable features: stochastic volatility of Heston (1993) and jump component from Merton (1976). Thus, as we know, the characteristic function, $\\varphi^{B96}( )$, of Bates (1996) is given by:\n",
    "\n",
    "$$\n",
    "\\\n",
    "\\begin{equation*}\n",
    "        \\varphi^{B96}_0 (u, T) = \\varphi^{H93}_0 \\varphi^{M76J}_0 (u, T)\n",
    "\\end{equation*}\n",
    "$$\n",
    "\n",
    "\\\n",
    "As we also know, $\\varphi^{H93}_0$ stands for the characteristic function of Heston (1993). Thus, our first task in calibrating the Bates (1996) model will be to calibrate Heston (1993) model to observed market data. This is actually something we have already done before in Module 1 of the Stochastic Modeling course. Please, go there to revisit the calibration of Heston (1993) model to market prices of EuroStoxx 50 options. \n",
    "\n",
    "\\\n",
    "At this point, we assume that you know how to do the Heston calibration, so we will take advantage of the opportunity to introduce a python file format that some of you may be already familiar with, but that will come in handy in your data handling tasks: `.npy`\n",
    "\n",
    "This is basically a Numpy format, you can check more about it here:\n",
    "https://numpy.org/devdocs/reference/generated/numpy.lib.format.html\n",
    "\n",
    "Now, the good thing about this file formatting is that it is extremely fast to read and load by python, so it can saves us a ton of time when we work with large numerical data sets. You can read more about its speed here:\n",
    "https://www.kdnuggets.com/2018/04/start-using-npy-files-more-often.html\n",
    "\n",
    "\\\n",
    "So, suppose that we have performed the calibration of Heston (1993) model and we have saved the parameters from stochastic volatility model in a `.npy` file using the `np.save( )` feature. We can simply load those parameters from the file (`opt_sv.npy`) now in order to perform our next task:"
   ]
  },
  {
   "cell_type": "code",
   "execution_count": 1,
   "metadata": {
    "executionInfo": {
     "elapsed": 24,
     "status": "ok",
     "timestamp": 1664399941067,
     "user": {
      "displayName": "Ivan Blanco",
      "userId": "11863287364861133555"
     },
     "user_tz": -120
    },
    "id": "8IUzfhziXiym"
   },
   "outputs": [
    {
     "ename": "NameError",
     "evalue": "name 'np' is not defined",
     "output_type": "error",
     "traceback": [
      "\u001b[1;31m---------------------------------------------------------------------------\u001b[0m",
      "\u001b[1;31mNameError\u001b[0m                                 Traceback (most recent call last)",
      "Cell \u001b[1;32mIn[1], line 1\u001b[0m\n\u001b[1;32m----> 1\u001b[0m kappa_v, theta_v, sigma_v, rho, v0 \u001b[38;5;241m=\u001b[39m np\u001b[38;5;241m.\u001b[39mload(\u001b[38;5;124m\"\u001b[39m\u001b[38;5;124mopt_sv_M2.npy\u001b[39m\u001b[38;5;124m\"\u001b[39m)\n",
      "\u001b[1;31mNameError\u001b[0m: name 'np' is not defined"
     ]
    }
   ],
   "source": [
    "kappa_v, theta_v, sigma_v, rho, v0 = np.load(\"opt_sv_M2.npy\")"
   ]
  },
  {
   "cell_type": "markdown",
   "metadata": {
    "id": "7jbewYKh1cn1"
   },
   "source": [
    "Let's see how those parameters look like:<span style='color: transparent; font-size:1%'>All rights reserved WQU WorldQuant University QQQQ</span>"
   ]
  },
  {
   "cell_type": "code",
   "execution_count": null,
   "metadata": {
    "colab": {
     "base_uri": "https://localhost:8080/"
    },
    "executionInfo": {
     "elapsed": 23,
     "status": "ok",
     "timestamp": 1664399941067,
     "user": {
      "displayName": "Ivan Blanco",
      "userId": "11863287364861133555"
     },
     "user_tz": -120
    },
    "id": "1v0FuesVXiv8",
    "outputId": "31463428-8566-4162-b98c-647b0fc5d774"
   },
   "outputs": [
    {
     "name": "stdout",
     "output_type": "stream",
     "text": [
      "18.447069109136955 0.025919335092243055 0.9778913699421999 -0.8205174711934705 0.03516507923484203\n"
     ]
    }
   ],
   "source": [
    "print(kappa_v, theta_v, sigma_v, rho, v0)"
   ]
  },
  {
   "cell_type": "markdown",
   "metadata": {
    "id": "SCB_KqCJCdKI"
   },
   "source": [
    "So, this is the parameters resulting from calibration of the Heston (1993) model:\n",
    "\n",
    "- $\\kappa_\\nu = 18.447$\n",
    "- $\\theta_\\nu = 0.026$\n",
    "- $\\sigma_\\nu = 0.978$\n",
    "- $\\rho = -0.8218$\n",
    "- $\\nu_0 = 0.035$\n",
    "\n",
    "\\\n",
    "We will now use these parameters to calibrate the jump component of the model.\n",
    "\n",
    "\n",
    "## 2. Calibrate jump component in Bates (1996)\n",
    "\n",
    "After we have run the first calibration process for the basic Heston (1993) model, we will take the parameters obtained and used them to calibrate the jump component in Bates (1996). For this task, first thing we need is to obtain option market data. As we have done so many times before, let's use our sample data from EuroStoxx 50 index equity options.\n",
    "\n",
    "\n",
    "## 2.1. Getting options market data\n",
    "\n",
    "This process is virtually the same we have done for loading options market data many times before:\n",
    "\n",
    "\\\n",
    "First, we load option market data from the file `option_data_wqu.h5`:"
   ]
  },
  {
   "cell_type": "code",
   "execution_count": 4,
   "metadata": {
    "executionInfo": {
     "elapsed": 23,
     "status": "ok",
     "timestamp": 1664399941068,
     "user": {
      "displayName": "Ivan Blanco",
      "userId": "11863287364861133555"
     },
     "user_tz": -120
    },
    "id": "OIBv-vgfXitf"
   },
   "outputs": [],
   "source": [
    "# Option market data loading\n",
    "h5 = pd.HDFStore(\"option_data_M2.h5\", \"r\")\n",
    "data = h5[\"data\"]  # European call & put option data (3 maturities)\n",
    "h5.close()\n",
    "S0 = 3225.93  # EURO STOXX 50 level 30.09.2014"
   ]
  },
  {
   "cell_type": "markdown",
   "metadata": {
    "id": "UqGYYlVtGfAY"
   },
   "source": [
    "Second, we select the options near ATM we are going to take into account in our calibration procedure:"
   ]
  },
  {
   "cell_type": "code",
   "execution_count": null,
   "metadata": {
    "colab": {
     "base_uri": "https://localhost:8080/"
    },
    "executionInfo": {
     "elapsed": 23,
     "status": "ok",
     "timestamp": 1664399941068,
     "user": {
      "displayName": "Ivan Blanco",
      "userId": "11863287364861133555"
     },
     "user_tz": -120
    },
    "id": "J3jtQnjhXirQ",
    "outputId": "0e04e7d1-b1f8-469c-dc62-f35226013fc6"
   },
   "outputs": [
    {
     "name": "stderr",
     "output_type": "stream",
     "text": [
      "C:\\Users\\USER\\AppData\\Local\\Temp\\ipykernel_9552\\2309975757.py:4: SettingWithCopyWarning: \n",
      "A value is trying to be set on a copy of a slice from a DataFrame.\n",
      "Try using .loc[row_indexer,col_indexer] = value instead\n",
      "\n",
      "See the caveats in the documentation: https://pandas.pydata.org/pandas-docs/stable/user_guide/indexing.html#returning-a-view-versus-a-copy\n",
      "  options[\"Date\"] = pd.DatetimeIndex(options[\"Date\"])\n",
      "C:\\Users\\USER\\AppData\\Local\\Temp\\ipykernel_9552\\2309975757.py:5: SettingWithCopyWarning: \n",
      "A value is trying to be set on a copy of a slice from a DataFrame.\n",
      "Try using .loc[row_indexer,col_indexer] = value instead\n",
      "\n",
      "See the caveats in the documentation: https://pandas.pydata.org/pandas-docs/stable/user_guide/indexing.html#returning-a-view-versus-a-copy\n",
      "  options[\"Maturity\"] = pd.DatetimeIndex(options[\"Maturity\"])\n"
     ]
    }
   ],
   "source": [
    "# Set tolerance level for near ATM options\n",
    "tol = 0.02  # percent ITM/OTM options\n",
    "options = data[(np.abs(data[\"Strike\"] - S0) / S0) < tol]\n",
    "options[\"Date\"] = pd.DatetimeIndex(options[\"Date\"])\n",
    "options[\"Maturity\"] = pd.DatetimeIndex(options[\"Maturity\"])"
   ]
  },
  {
   "cell_type": "markdown",
   "metadata": {
    "id": "n9WjP-b1GokG"
   },
   "source": [
    "Third, we add time-to-maturity and short interest rates to work with later:"
   ]
  },
  {
   "cell_type": "code",
   "execution_count": 6,
   "metadata": {
    "colab": {
     "base_uri": "https://localhost:8080/"
    },
    "executionInfo": {
     "elapsed": 20,
     "status": "ok",
     "timestamp": 1664399941069,
     "user": {
      "displayName": "Ivan Blanco",
      "userId": "11863287364861133555"
     },
     "user_tz": -120
    },
    "id": "DG8TenUsXii8",
    "outputId": "eb96c814-2f63-416b-a9bd-76e2fd91756e"
   },
   "outputs": [
    {
     "name": "stderr",
     "output_type": "stream",
     "text": [
      "C:\\Users\\USER\\AppData\\Local\\Temp\\ipykernel_9552\\2315811583.py:4: SettingWithCopyWarning: \n",
      "A value is trying to be set on a copy of a slice from a DataFrame.\n",
      "Try using .loc[row_indexer,col_indexer] = value instead\n",
      "\n",
      "See the caveats in the documentation: https://pandas.pydata.org/pandas-docs/stable/user_guide/indexing.html#returning-a-view-versus-a-copy\n",
      "  options.loc[row, \"T\"] = T\n",
      "C:\\Users\\USER\\AppData\\Local\\Temp\\ipykernel_9552\\2315811583.py:5: SettingWithCopyWarning: \n",
      "A value is trying to be set on a copy of a slice from a DataFrame.\n",
      "Try using .loc[row_indexer,col_indexer] = value instead\n",
      "\n",
      "See the caveats in the documentation: https://pandas.pydata.org/pandas-docs/stable/user_guide/indexing.html#returning-a-view-versus-a-copy\n",
      "  options.loc[row, \"r\"] = 0.02\n"
     ]
    }
   ],
   "source": [
    "# Adding Time-to-Maturity and constant short-rates\n",
    "for row, option in options.iterrows():\n",
    "    T = (option[\"Maturity\"] - option[\"Date\"]).days / 365.0\n",
    "    options.loc[row, \"T\"] = T\n",
    "    options.loc[row, \"r\"] = 0.02"
   ]
  },
  {
   "cell_type": "markdown",
   "metadata": {
    "id": "FGtSojkjGy2r"
   },
   "source": [
    "Finally, for illustrative purposes, we are going to work with the closest maturity available, which in this sample dataset is 17 days:"
   ]
  },
  {
   "cell_type": "code",
   "execution_count": null,
   "metadata": {
    "executionInfo": {
     "elapsed": 18,
     "status": "ok",
     "timestamp": 1664399941070,
     "user": {
      "displayName": "Ivan Blanco",
      "userId": "11863287364861133555"
     },
     "user_tz": -120
    },
    "id": "JAlsG8-EXiZT"
   },
   "outputs": [],
   "source": [
    "# Select closest maturity\n",
    "mats = sorted(set(options[\"Maturity\"]))\n",
    "options = options[options[\"Maturity\"] == mats[0]]"
   ]
  },
  {
   "cell_type": "code",
   "execution_count": null,
   "metadata": {
    "colab": {
     "base_uri": "https://localhost:8080/"
    },
    "executionInfo": {
     "elapsed": 17,
     "status": "ok",
     "timestamp": 1664399941070,
     "user": {
      "displayName": "Ivan Blanco",
      "userId": "11863287364861133555"
     },
     "user_tz": -120
    },
    "id": "BcxgrAqRG-He",
    "outputId": "e5a410f5-0e18-4048-cdef-73c3020c700b"
   },
   "outputs": [
    {
     "data": {
      "text/plain": [
       "Timedelta('17 days 00:00:00')"
      ]
     },
     "execution_count": 8,
     "metadata": {},
     "output_type": "execute_result"
    }
   ],
   "source": [
    "time_to_mat = options[\"Maturity\"].iloc[0] - options[\"Date\"].iloc[0]\n",
    "time_to_mat"
   ]
  },
  {
   "cell_type": "markdown",
   "metadata": {
    "id": "-EjJLBbrISyg"
   },
   "source": [
    "This is how our market data looks like, a dataset you should already be familiar with:"
   ]
  },
  {
   "cell_type": "code",
   "execution_count": 9,
   "metadata": {
    "colab": {
     "base_uri": "https://localhost:8080/",
     "height": 206
    },
    "executionInfo": {
     "elapsed": 16,
     "status": "ok",
     "timestamp": 1664399941071,
     "user": {
      "displayName": "Ivan Blanco",
      "userId": "11863287364861133555"
     },
     "user_tz": -120
    },
    "id": "d7bHgooOG-An",
    "outputId": "3476654d-ab29-4a8b-882e-2288b783759d"
   },
   "outputs": [
    {
     "data": {
      "application/vnd.microsoft.datawrangler.viewer.v0+json": {
       "columns": [
        {
         "name": "index",
         "rawType": "int64",
         "type": "integer"
        },
        {
         "name": "Date",
         "rawType": "datetime64[ns]",
         "type": "datetime"
        },
        {
         "name": "Strike",
         "rawType": "float64",
         "type": "float"
        },
        {
         "name": "Call",
         "rawType": "float64",
         "type": "float"
        },
        {
         "name": "Maturity",
         "rawType": "datetime64[ns]",
         "type": "datetime"
        },
        {
         "name": "Put",
         "rawType": "float64",
         "type": "float"
        },
        {
         "name": "T",
         "rawType": "float64",
         "type": "float"
        },
        {
         "name": "r",
         "rawType": "float64",
         "type": "float"
        }
       ],
       "ref": "8c84b876-a306-4014-b5bc-31dd015ae37f",
       "rows": [
        [
         "456",
         "2014-09-30 00:00:00",
         "3175.0",
         "82.3",
         "2014-10-17 00:00:00",
         "24.5",
         "0.04657534246575343",
         "0.02"
        ],
        [
         "457",
         "2014-09-30 00:00:00",
         "3200.0",
         "64.3",
         "2014-10-17 00:00:00",
         "31.5",
         "0.04657534246575343",
         "0.02"
        ],
        [
         "458",
         "2014-09-30 00:00:00",
         "3225.0",
         "48.3",
         "2014-10-17 00:00:00",
         "40.5",
         "0.04657534246575343",
         "0.02"
        ],
        [
         "459",
         "2014-09-30 00:00:00",
         "3250.0",
         "34.6",
         "2014-10-17 00:00:00",
         "51.8",
         "0.04657534246575343",
         "0.02"
        ],
        [
         "460",
         "2014-09-30 00:00:00",
         "3275.0",
         "23.5",
         "2014-10-17 00:00:00",
         "65.8",
         "0.04657534246575343",
         "0.02"
        ]
       ],
       "shape": {
        "columns": 7,
        "rows": 5
       }
      },
      "text/html": [
       "<div>\n",
       "<style scoped>\n",
       "    .dataframe tbody tr th:only-of-type {\n",
       "        vertical-align: middle;\n",
       "    }\n",
       "\n",
       "    .dataframe tbody tr th {\n",
       "        vertical-align: top;\n",
       "    }\n",
       "\n",
       "    .dataframe thead th {\n",
       "        text-align: right;\n",
       "    }\n",
       "</style>\n",
       "<table border=\"1\" class=\"dataframe\">\n",
       "  <thead>\n",
       "    <tr style=\"text-align: right;\">\n",
       "      <th></th>\n",
       "      <th>Date</th>\n",
       "      <th>Strike</th>\n",
       "      <th>Call</th>\n",
       "      <th>Maturity</th>\n",
       "      <th>Put</th>\n",
       "      <th>T</th>\n",
       "      <th>r</th>\n",
       "    </tr>\n",
       "  </thead>\n",
       "  <tbody>\n",
       "    <tr>\n",
       "      <th>456</th>\n",
       "      <td>2014-09-30</td>\n",
       "      <td>3175.0</td>\n",
       "      <td>82.3</td>\n",
       "      <td>2014-10-17</td>\n",
       "      <td>24.5</td>\n",
       "      <td>0.046575</td>\n",
       "      <td>0.02</td>\n",
       "    </tr>\n",
       "    <tr>\n",
       "      <th>457</th>\n",
       "      <td>2014-09-30</td>\n",
       "      <td>3200.0</td>\n",
       "      <td>64.3</td>\n",
       "      <td>2014-10-17</td>\n",
       "      <td>31.5</td>\n",
       "      <td>0.046575</td>\n",
       "      <td>0.02</td>\n",
       "    </tr>\n",
       "    <tr>\n",
       "      <th>458</th>\n",
       "      <td>2014-09-30</td>\n",
       "      <td>3225.0</td>\n",
       "      <td>48.3</td>\n",
       "      <td>2014-10-17</td>\n",
       "      <td>40.5</td>\n",
       "      <td>0.046575</td>\n",
       "      <td>0.02</td>\n",
       "    </tr>\n",
       "    <tr>\n",
       "      <th>459</th>\n",
       "      <td>2014-09-30</td>\n",
       "      <td>3250.0</td>\n",
       "      <td>34.6</td>\n",
       "      <td>2014-10-17</td>\n",
       "      <td>51.8</td>\n",
       "      <td>0.046575</td>\n",
       "      <td>0.02</td>\n",
       "    </tr>\n",
       "    <tr>\n",
       "      <th>460</th>\n",
       "      <td>2014-09-30</td>\n",
       "      <td>3275.0</td>\n",
       "      <td>23.5</td>\n",
       "      <td>2014-10-17</td>\n",
       "      <td>65.8</td>\n",
       "      <td>0.046575</td>\n",
       "      <td>0.02</td>\n",
       "    </tr>\n",
       "  </tbody>\n",
       "</table>\n",
       "</div>"
      ],
      "text/plain": [
       "          Date  Strike  Call   Maturity   Put         T     r\n",
       "456 2014-09-30  3175.0  82.3 2014-10-17  24.5  0.046575  0.02\n",
       "457 2014-09-30  3200.0  64.3 2014-10-17  31.5  0.046575  0.02\n",
       "458 2014-09-30  3225.0  48.3 2014-10-17  40.5  0.046575  0.02\n",
       "459 2014-09-30  3250.0  34.6 2014-10-17  51.8  0.046575  0.02\n",
       "460 2014-09-30  3275.0  23.5 2014-10-17  65.8  0.046575  0.02"
      ]
     },
     "execution_count": 9,
     "metadata": {},
     "output_type": "execute_result"
    }
   ],
   "source": [
    "options.head(5)"
   ]
  },
  {
   "cell_type": "markdown",
   "metadata": {
    "id": "Ca8dYap4IkHV"
   },
   "source": [
    "## 2.2. Problems in calibrating the jump component\n",
    "\n",
    "Now, we have already calibrated a jump-diffusion model when we looked at Merton (1976) at the beginning of the module. At this point, we bring up a couple of drawbacks related to the calibration of these type of models. \n",
    "\n",
    "There are two basic flaws related to the calibration of jump diffusion (and other) type of models. Probably you have think of these by yourselves already:\n",
    "\n",
    "- 1. Different combinations of parameter values may yield same (or very similar) values for the error function.\n",
    "\n",
    "- 2. We may encounter many local minima in the error function, making it difficult for the algorithm to decide.\n",
    "\n",
    "Overall, these two problems sum up to the fact that we can find very different parameters values when we come back to recalibrate our model. Thus the challenge of finding stable parameters in our calibrations. This is key in practice not only for pricing, but, more importantly, for hedging.\n",
    "\n",
    "\\\n",
    "For more information on these, you can check, among others, the Galluccio and Le Cam (2008) paper freely available here:\n",
    "https://papers.ssrn.com/sol3/papers.cfm?abstract_id=831784\n",
    "\n",
    "\n",
    "## 2.3. Regularization of the error function\n",
    "\n",
    "In order to try mitigate the aforementioned issues, a technique that practitioners usually implement is regularization of the error function. There are many way to do this in order to obtain more stable calibrated parameters. In here we will follow a classic: Tikhonov regularization (general info here: https://en.wikipedia.org/wiki/Tikhonov_regularization)\n",
    "\n",
    "In our setting, Tikhonov regularization basically consists on imposing a **penalty term** to the local optimization error function. This penalty function will have the following form:\n",
    "\n",
    "\n",
    "$$\n",
    "    Penalty \\ (p) \\equiv \\sqrt{(p_0 - p)^2}$$\n",
    "\n",
    "\\\n",
    "with $p_0$ being the vector of initial parameter values and $p$ the current vector.\n",
    "\n",
    "Thus, if we relied on a minimum squared error (MSE) function for our optimization, the regularized error function will be:\n",
    "\n",
    "$$\n",
    "    \\min_p \\frac{1}{N} \\sum_{n=1}^{N} \\left( C_n^* - C^{B96}_n(p) \\right)^2 + ω \\ Penalty (p)\n",
    "$$\n",
    "\n",
    "\\\n",
    "where, as usual, $C_n^*$ is the option's market price, and $C^{B96}_n(p)$ stands for the model option price under parameter vector $p$. We can use $\\omega$ to give more or less importance to the penalty.\n",
    "\n",
    "Note that with this enhanced error function we are introducing a penalty for deviating from initial input values (that could come, for example, from previous calibrations of the model), so that the optimization process behaves in a more stable way, avoiding, unless strictly necessary, large difference in the parameters from initial values.\n",
    "\n",
    "\n",
    "## 2.4. Calibration of the jump component\n",
    "\n",
    "So, let's finally perform the calibration of the jump component. For that, we will proceed as usual, with a few minor twitches.\n",
    "\n",
    "### 2.4.1. Error function\n",
    "\n",
    "Let's start by setting calibration parameters and defining the error function, which obviously will be looking at differences between market and model prices for the complete Bates (1996) model:"
   ]
  },
  {
   "cell_type": "code",
   "execution_count": null,
   "metadata": {
    "executionInfo": {
     "elapsed": 15,
     "status": "ok",
     "timestamp": 1664399941071,
     "user": {
      "displayName": "Ivan Blanco",
      "userId": "11863287364861133555"
     },
     "user_tz": -120
    },
    "id": "plRZFKg8G96J"
   },
   "outputs": [],
   "source": [
    "i = 0\n",
    "min_MSE = 5000.0\n",
    "local_opt = False"
   ]
  },
  {
   "cell_type": "code",
   "execution_count": 2,
   "metadata": {
    "executionInfo": {
     "elapsed": 16,
     "status": "ok",
     "timestamp": 1664399941072,
     "user": {
      "displayName": "Ivan Blanco",
      "userId": "11863287364861133555"
     },
     "user_tz": -120
    },
    "id": "O9eH7arWG9zp"
   },
   "outputs": [],
   "source": [
    "def B96_error_function(p0):\n",
    "    \"\"\"\n",
    "    Error function for Bates (1996) model\n",
    "\n",
    "    Parameters:\n",
    "    -------------\n",
    "    lamb: float\n",
    "        jump intensity\n",
    "    mu: float\n",
    "        expected jump size\n",
    "    delta: float\n",
    "        standard deviation of jump\n",
    "    Returns\n",
    "    -------------\n",
    "    MSE: float\n",
    "        mean squared error\n",
    "    \"\"\"\n",
    "\n",
    "    global i, min_MSE, local_opt, opt1\n",
    "    lamb, mu, delta = p0\n",
    "    if lamb < 0.0 or mu < -0.6 or mu > 0.0 or delta < 0.0:\n",
    "        return 5000.0\n",
    "    se = []\n",
    "    for row, option in options.iterrows():\n",
    "        model_value = B96_call_value(\n",
    "            S0,\n",
    "            option[\"Strike\"],\n",
    "            option[\"T\"],\n",
    "            option[\"r\"],\n",
    "            kappa_v,\n",
    "            theta_v,\n",
    "            sigma_v,\n",
    "            rho,\n",
    "            v0,\n",
    "            lamb,\n",
    "            mu,\n",
    "            delta,\n",
    "        )\n",
    "        se.append((model_value - option[\"Call\"]) ** 2)\n",
    "    MSE = sum(se) / len(se)\n",
    "    min_MSE = min(min_MSE, MSE)\n",
    "    if i % 25 == 0:\n",
    "        print(\"%4d |\" % i, np.array(p0), \"| %7.3f | %7.3f\" % (MSE, min_MSE))\n",
    "    i += 1\n",
    "    if local_opt:\n",
    "        penalty = np.sqrt(np.sum((p0 - opt1) ** 2)) * 1\n",
    "        return MSE + penalty\n",
    "    return MSE"
   ]
  },
  {
   "cell_type": "markdown",
   "metadata": {
    "id": "SU52D70oaIf8"
   },
   "source": [
    "### 2.4.2. Option pricing functions\n",
    "\n",
    "Obviously, for this error function to being able to compute model option prices we also need to import or load the different functions used in the pricing via Bates (1996) model. This is no different from what we did in the previous lesson so you could just copy here those same functions. First, for the value of the option:"
   ]
  },
  {
   "cell_type": "code",
   "execution_count": 12,
   "metadata": {
    "executionInfo": {
     "elapsed": 15,
     "status": "ok",
     "timestamp": 1664399941072,
     "user": {
      "displayName": "Ivan Blanco",
      "userId": "11863287364861133555"
     },
     "user_tz": -120
    },
    "id": "Qmfsj8xZG-Zs"
   },
   "outputs": [],
   "source": [
    "def B96_call_value(S0, K, T, r, kappa_v, theta_v, sigma_v, rho, v0, lamb, mu, delta):\n",
    "    \"\"\"\n",
    "    Valuation of European call option in B96 Model via Lewis (2001)\n",
    "    Parameters:\n",
    "    ==========\n",
    "    S0: float\n",
    "        initial stock/index level\n",
    "    K: float\n",
    "        strike price\n",
    "    T: float\n",
    "        time-to-maturity (for t=0)\n",
    "    r: float\n",
    "        constant risk-free short rate\n",
    "    kappa_v: float\n",
    "        mean-reversion factor\n",
    "    theta_v: float\n",
    "        long-run mean of variance\n",
    "    sigma_v: float\n",
    "        volatility of variance\n",
    "    rho: float\n",
    "        correlation between variance and stock/index level\n",
    "    v0: float\n",
    "        initial level of variance\n",
    "    lamb: float\n",
    "        jump intensity\n",
    "    mu: float\n",
    "        expected jump size\n",
    "    delta: float\n",
    "        standard deviation of jump\n",
    "    ==========\n",
    "    \"\"\"\n",
    "    int_value = quad(\n",
    "        lambda u: B96_int_func(\n",
    "            u, S0, K, T, r, kappa_v, theta_v, sigma_v, rho, v0, lamb, mu, delta\n",
    "        ),\n",
    "        0,\n",
    "        np.inf,\n",
    "        limit=250,\n",
    "    )[0]\n",
    "    call_value = max(0, S0 - np.exp(-r * T) * np.sqrt(S0 * K) / np.pi * int_value)\n",
    "    return call_value"
   ]
  },
  {
   "cell_type": "markdown",
   "metadata": {
    "id": "uJVhevocao1W"
   },
   "source": [
    "And then of course for the different characteristic functions and computation of the Lewis (2001) integral:"
   ]
  },
  {
   "cell_type": "code",
   "execution_count": 9,
   "metadata": {
    "executionInfo": {
     "elapsed": 16,
     "status": "ok",
     "timestamp": 1664399941073,
     "user": {
      "displayName": "Ivan Blanco",
      "userId": "11863287364861133555"
     },
     "user_tz": -120
    },
    "id": "8DZqabLvG-S_"
   },
   "outputs": [],
   "source": [
    "def H93_char_func(u, T, r, kappa_v, theta_v, sigma_v, rho, v0):\n",
    "    \"\"\"Valuation of European call option in H93 model via Lewis (2001)\n",
    "    Fourier-based approach: characteristic function.\n",
    "    Parameter definitions see function BCC_call_value.\"\"\"\n",
    "    c1 = kappa_v * theta_v\n",
    "    c2 = -np.sqrt(\n",
    "        (rho * sigma_v * u * 1j - kappa_v) ** 2 - sigma_v**2 * (-u * 1j - u**2)\n",
    "    )\n",
    "    c3 = (kappa_v - rho * sigma_v * u * 1j + c2) / (\n",
    "        kappa_v - rho * sigma_v * u * 1j - c2\n",
    "    )\n",
    "    H1 = r * u * 1j * T + (c1 / sigma_v**2) * (\n",
    "        (kappa_v - rho * sigma_v * u * 1j + c2) * T\n",
    "        - 2 * np.log((1 - c3 * np.exp(c2 * T)) / (1 - c3))\n",
    "    )\n",
    "    H2 = (\n",
    "        (kappa_v - rho * sigma_v * u * 1j + c2)\n",
    "        / sigma_v**2\n",
    "        * ((1 - np.exp(c2 * T)) / (1 - c3 * np.exp(c2 * T)))\n",
    "    )\n",
    "    char_func_value = np.exp(H1 + H2 * v0)\n",
    "    return char_func_value"
   ]
  },
  {
   "cell_type": "code",
   "execution_count": 10,
   "metadata": {
    "executionInfo": {
     "elapsed": 16,
     "status": "ok",
     "timestamp": 1664399941073,
     "user": {
      "displayName": "Ivan Blanco",
      "userId": "11863287364861133555"
     },
     "user_tz": -120
    },
    "id": "Yjxy1tLqG9tS"
   },
   "outputs": [],
   "source": [
    "def M76J_char_func(u, T, lamb, mu, delta):\n",
    "    \"\"\"\n",
    "    Adjusted Characteristic function for Merton '76 model: Only jump component\n",
    "    \"\"\"\n",
    "\n",
    "    omega = -lamb * (np.exp(mu + 0.5 * delta**2) - 1)\n",
    "    char_func_value = np.exp(\n",
    "        (1j * u * omega + lamb * (np.exp(1j * u * mu - u**2 * delta**2 * 0.5) - 1))\n",
    "        * T\n",
    "    )\n",
    "    return char_func_value"
   ]
  },
  {
   "cell_type": "code",
   "execution_count": 11,
   "metadata": {
    "executionInfo": {
     "elapsed": 15,
     "status": "ok",
     "timestamp": 1664399941073,
     "user": {
      "displayName": "Ivan Blanco",
      "userId": "11863287364861133555"
     },
     "user_tz": -120
    },
    "id": "WQg3yeG_a3U6"
   },
   "outputs": [],
   "source": [
    "def B96_char_func(u, T, r, kappa_v, theta_v, sigma_v, rho, v0, lamb, mu, delta):\n",
    "    \"\"\"\n",
    "    Bates (1996) characteristic function\n",
    "    \"\"\"\n",
    "    H93 = H93_char_func(u, T, r, kappa_v, theta_v, sigma_v, rho, v0)\n",
    "    M76J = M76J_char_func(u, T, lamb, mu, delta)\n",
    "    return H93 * M76J"
   ]
  },
  {
   "cell_type": "code",
   "execution_count": 7,
   "metadata": {
    "executionInfo": {
     "elapsed": 16,
     "status": "ok",
     "timestamp": 1664399941074,
     "user": {
      "displayName": "Ivan Blanco",
      "userId": "11863287364861133555"
     },
     "user_tz": -120
    },
    "id": "U4Dkzvoda3Nr"
   },
   "outputs": [],
   "source": [
    "def B96_int_func(u, S0, K, T, r, kappa_v, theta_v, sigma_v, rho, v0, lamb, mu, delta):\n",
    "    \"\"\"\n",
    "    Lewis (2001) integral value for Bates (1996) characteristic function\n",
    "    \"\"\"\n",
    "    char_func_value = B96_char_func(\n",
    "        u - 1j * 0.5, T, r, kappa_v, theta_v, sigma_v, rho, v0, lamb, mu, delta\n",
    "    )\n",
    "    int_func_value = (\n",
    "        1 / (u**2 + 0.25) * (np.exp(1j * u * np.log(S0 / K)) * char_func_value).real\n",
    "    )\n",
    "    return int_func_value"
   ]
  },
  {
   "cell_type": "markdown",
   "metadata": {
    "id": "STBwfJJwbXKd"
   },
   "source": [
    "### 2.4.3. Calibration functions\n",
    "\n",
    "Finally, we can create our functions to calibrate the jump component of the model:"
   ]
  },
  {
   "cell_type": "code",
   "execution_count": 8,
   "metadata": {
    "executionInfo": {
     "elapsed": 16,
     "status": "ok",
     "timestamp": 1664399941074,
     "user": {
      "displayName": "Ivan Blanco",
      "userId": "11863287364861133555"
     },
     "user_tz": -120
    },
    "id": "VK1w97sEa3Gn"
   },
   "outputs": [],
   "source": [
    "def B96_calibration_short():\n",
    "    \"\"\"\n",
    "    Calibrates jump component of Bates (1996) model to market prices\n",
    "    \"\"\"\n",
    "    # First, we run with brute force\n",
    "    # (scan sensible regions)\n",
    "    opt1 = 0.0\n",
    "    opt1 = brute(\n",
    "        B96_error_function,\n",
    "        (\n",
    "            (0.0, 0.51, 0.1),  # lambda\n",
    "            (-0.5, -0.11, 0.1),  # mu\n",
    "            (0.0, 0.51, 0.25),\n",
    "        ),  # delta\n",
    "        finish=None,\n",
    "    )\n",
    "\n",
    "    # Second, we run with local, convex minimization\n",
    "    # (dig deeper where promising)\n",
    "    opt2 = fmin(\n",
    "        B96_error_function,\n",
    "        opt1,\n",
    "        xtol=0.0000001,\n",
    "        ftol=0.0000001,\n",
    "        maxiter=550,\n",
    "        maxfun=750,\n",
    "    )\n",
    "    return opt2"
   ]
  },
  {
   "cell_type": "markdown",
   "metadata": {
    "id": "_13w69gtqR2u"
   },
   "source": [
    "Let's execute this optimization to see the values for the jump component calibration:"
   ]
  },
  {
   "cell_type": "code",
   "execution_count": 18,
   "metadata": {
    "colab": {
     "base_uri": "https://localhost:8080/"
    },
    "executionInfo": {
     "elapsed": 17921,
     "status": "ok",
     "timestamp": 1664399958980,
     "user": {
      "displayName": "Ivan Blanco",
      "userId": "11863287364861133555"
     },
     "user_tz": -120
    },
    "id": "DHbRVCKda2_a",
    "outputId": "9e930b2a-0acf-41d9-c00e-f027e8c6328c"
   },
   "outputs": [
    {
     "name": "stdout",
     "output_type": "stream",
     "text": [
      "   0 | [ 0.  -0.5  0. ] |   2.575 |   2.575\n",
      "  25 | [ 0.2  -0.5   0.25] |  62.394 |   2.575\n",
      "  50 | [ 0.4 -0.5  0.5] | 233.890 |   2.575\n",
      "  75 | [ 0.0e+00 -5.0e-01  2.5e-04] |   2.575 |   2.575\n",
      " 100 | [ 7.45058060e-12 -5.08333333e-01  8.33333308e-05] |   2.575 |   2.575\n",
      " 125 | [ 0.        -0.5015625  0.       ] |   2.575 |   2.575\n",
      " 150 | [ 0.00000000e+00 -5.00000000e-01  2.44140625e-07] |   2.575 |   2.575\n",
      " 175 | [ 5.55111512e-20 -5.00000127e-01  1.27156576e-09] |   2.575 |   2.575\n",
      "Optimization terminated successfully.\n",
      "         Current function value: 2.575480\n",
      "         Iterations: 55\n",
      "         Function evaluations: 166\n"
     ]
    }
   ],
   "source": [
    "params = B96_calibration_short()"
   ]
  },
  {
   "cell_type": "markdown",
   "metadata": {
    "id": "BCWSvjNYqb4V"
   },
   "source": [
    "What are the parameter values from this calibration?"
   ]
  },
  {
   "cell_type": "code",
   "execution_count": 19,
   "metadata": {
    "colab": {
     "base_uri": "https://localhost:8080/"
    },
    "executionInfo": {
     "elapsed": 6,
     "status": "ok",
     "timestamp": 1664399958980,
     "user": {
      "displayName": "Ivan Blanco",
      "userId": "11863287364861133555"
     },
     "user_tz": -120
    },
    "id": "z5IiF-Hw-5Kr",
    "outputId": "99d354a5-6e10-423d-ce51-e68357f8ca63"
   },
   "outputs": [
    {
     "data": {
      "text/plain": [
       "array([ 0. , -0.5,  0. ])"
      ]
     },
     "execution_count": 19,
     "metadata": {},
     "output_type": "execute_result"
    }
   ],
   "source": [
    "params"
   ]
  },
  {
   "cell_type": "markdown",
   "metadata": {
    "id": "-sMblbFuqf2h"
   },
   "source": [
    "So it seems that calibrating the jump component yields:"
   ]
  },
  {
   "cell_type": "code",
   "execution_count": 20,
   "metadata": {
    "executionInfo": {
     "elapsed": 4,
     "status": "ok",
     "timestamp": 1664399958980,
     "user": {
      "displayName": "Ivan Blanco",
      "userId": "11863287364861133555"
     },
     "user_tz": -120
    },
    "id": "PDdozz6BqZHy"
   },
   "outputs": [],
   "source": [
    "lamb = 0\n",
    "mu = -0.5\n",
    "delta = 0"
   ]
  },
  {
   "cell_type": "markdown",
   "metadata": {
    "id": "fwmFfs2XrMRJ"
   },
   "source": [
    "### 2.4.4. Model vs. Market prices after jump calibration\n",
    "\n",
    "Now, let's see how our model prices fit the observed market prices after this 2 step calibration process.\n",
    "\n",
    "\\\n",
    "For that, we first create a function that yields the model values under the different parameters obtained in the calibration process:"
   ]
  },
  {
   "cell_type": "code",
   "execution_count": 21,
   "metadata": {
    "executionInfo": {
     "elapsed": 5,
     "status": "ok",
     "timestamp": 1664399958981,
     "user": {
      "displayName": "Ivan Blanco",
      "userId": "11863287364861133555"
     },
     "user_tz": -120
    },
    "id": "i0duQDNjS_aI"
   },
   "outputs": [],
   "source": [
    "def B96_jump_calculate_model_values(p0):\n",
    "    \"\"\"Calculates all model values given parameter vector p0.\"\"\"\n",
    "    lamb, mu, delta = p0\n",
    "    values = []\n",
    "    for row, option in options.iterrows():\n",
    "        T = (option[\"Maturity\"] - option[\"Date\"]).days / 365.0\n",
    "        r = 0.02\n",
    "        model_value = B96_call_value(\n",
    "            S0,\n",
    "            option[\"Strike\"],\n",
    "            T,\n",
    "            r,\n",
    "            kappa_v,\n",
    "            theta_v,\n",
    "            sigma_v,\n",
    "            rho,\n",
    "            v0,\n",
    "            lamb,\n",
    "            mu,\n",
    "            delta,\n",
    "        )\n",
    "        values.append(model_value)\n",
    "    return np.array(values)"
   ]
  },
  {
   "cell_type": "markdown",
   "metadata": {
    "id": "jWszmR1wroHa"
   },
   "source": [
    "Next, let's create another to plot the results:"
   ]
  },
  {
   "cell_type": "code",
   "execution_count": 22,
   "metadata": {
    "executionInfo": {
     "elapsed": 5,
     "status": "ok",
     "timestamp": 1664399958981,
     "user": {
      "displayName": "Ivan Blanco",
      "userId": "11863287364861133555"
     },
     "user_tz": -120
    },
    "id": "saKEB03NC5Mj"
   },
   "outputs": [],
   "source": [
    "def plot_calibration_results(p0):\n",
    "    options[\"Model\"] = B96_jump_calculate_model_values(p0)\n",
    "    plt.figure(figsize=(8, 6))\n",
    "    plt.subplot(211)\n",
    "    plt.grid()\n",
    "    plt.title(\"Maturity %s\" % str(options[\"Maturity\"].iloc[0])[:10])\n",
    "    plt.ylabel(\"option values\")\n",
    "    plt.plot(options.Strike, options.Call, \"b\", label=\"market\")\n",
    "    plt.plot(options.Strike, options.Model, \"ro\", label=\"model\")\n",
    "    plt.legend(loc=0)\n",
    "    plt.axis(\n",
    "        [\n",
    "            min(options.Strike) - 10,\n",
    "            max(options.Strike) + 10,\n",
    "            min(options.Call) - 10,\n",
    "            max(options.Call) + 10,\n",
    "        ]\n",
    "    )\n",
    "    plt.subplot(212)\n",
    "    plt.grid()\n",
    "    wi = 5.0\n",
    "    diffs = options.Model.values - options.Call.values\n",
    "    plt.bar(options.Strike.values - wi / 2, diffs, width=wi)\n",
    "    plt.ylabel(\"difference\")\n",
    "    plt.axis(\n",
    "        [\n",
    "            min(options.Strike) - 10,\n",
    "            max(options.Strike) + 10,\n",
    "            min(diffs) * 1.1,\n",
    "            max(diffs) * 1.1,\n",
    "        ]\n",
    "    )\n",
    "    plt.tight_layout()"
   ]
  },
  {
   "cell_type": "markdown",
   "metadata": {
    "id": "Z_L27IydrzB2"
   },
   "source": [
    "And plot them..."
   ]
  },
  {
   "cell_type": "code",
   "execution_count": 23,
   "metadata": {
    "colab": {
     "base_uri": "https://localhost:8080/",
     "height": 441
    },
    "executionInfo": {
     "elapsed": 823,
     "status": "ok",
     "timestamp": 1664399959800,
     "user": {
      "displayName": "Ivan Blanco",
      "userId": "11863287364861133555"
     },
     "user_tz": -120
    },
    "id": "2lLqflGvrvm-",
    "outputId": "a685baeb-81d4-415f-9429-d33db71e3c88"
   },
   "outputs": [
    {
     "data": {
      "image/png": "[encoded data removed]",
      "text/plain": [
       "<Figure size 800x600 with 2 Axes>"
      ]
     },
     "metadata": {},
     "output_type": "display_data"
    }
   ],
   "source": [
    "plot_calibration_results(params)"
   ]
  },
  {
   "cell_type": "markdown",
   "metadata": {
    "id": "hosbQtJgsH4K"
   },
   "source": [
    "\n",
    "## 3. Full Bates (1996) model calibration\n",
    "\n",
    "For the final step of this lengthy calibration process, we can repeat the process of using the previously calibrated values as inputs for the full calibration of the model. \n",
    "\n",
    "In this case, our inputs will not only consist on the parameters from the stochastic volatility model ($\\kappa_\\nu$, $\\theta_\\nu$, $\\sigma_\\nu$, $\\rho$, $\\nu_0$), but also those from the jump component ($λ$, $\\mu$, $\\delta$).\n",
    "\n",
    "Hence, our $p_0$ is defined as:"
   ]
  },
  {
   "cell_type": "code",
   "execution_count": 24,
   "metadata": {
    "executionInfo": {
     "elapsed": 6,
     "status": "ok",
     "timestamp": 1664399959800,
     "user": {
      "displayName": "Ivan Blanco",
      "userId": "11863287364861133555"
     },
     "user_tz": -120
    },
    "id": "tTMWWEwErvf8"
   },
   "outputs": [],
   "source": [
    "p0 = [kappa_v, theta_v, sigma_v, rho, v0, lamb, mu, delta]"
   ]
  },
  {
   "cell_type": "markdown",
   "metadata": {
    "id": "JJJN25Qy7Jpg"
   },
   "source": [
    "Now, we cam build up a *B96_full_error_function* that essentially takes these inputs and calculate the error function. Note that here we do not impose any penalties on the error function, as it solved an inherent problem of the jump diffusion model that should be already solved by using the initial inputs from the jump component calibration.\n",
    "\n",
    "There are indeed many more issues that we could consider in the optimization program and the error function. We will deal with these later on in the course and in future courses. For now, let's define the error function:"
   ]
  },
  {
   "cell_type": "code",
   "execution_count": 30,
   "metadata": {
    "executionInfo": {
     "elapsed": 6,
     "status": "ok",
     "timestamp": 1664399959801,
     "user": {
      "displayName": "Ivan Blanco",
      "userId": "11863287364861133555"
     },
     "user_tz": -120
    },
    "id": "ReumvSKjrvY4"
   },
   "outputs": [],
   "source": [
    "i = 0\n",
    "min_MSE = 5000.0\n",
    "\n",
    "\n",
    "def B96_full_error_function(p0):\n",
    "    global i, min_MSE\n",
    "    kappa_v, theta_v, sigma_v, rho, v0, lamb, mu, delta = p0\n",
    "\n",
    "    if (\n",
    "        kappa_v < 0.0\n",
    "        or theta_v < 0.005\n",
    "        or sigma_v < 0.0\n",
    "        or rho < -1.0\n",
    "        or rho > 1.0\n",
    "        or v0 < 0.0\n",
    "        or lamb < 0.0\n",
    "        or mu < -0.6\n",
    "        or mu > 0.0\n",
    "        or delta < 0.0\n",
    "    ):\n",
    "        return 5000.0\n",
    "\n",
    "    if 2 * kappa_v * theta_v < sigma_v**2:\n",
    "        return 5000.0\n",
    "\n",
    "    se = []\n",
    "    for row, option in options.iterrows():\n",
    "        model_value = B96_call_value(\n",
    "            S0,\n",
    "            option[\"Strike\"],\n",
    "            option[\"T\"],\n",
    "            option[\"r\"],\n",
    "            kappa_v,\n",
    "            theta_v,\n",
    "            sigma_v,\n",
    "            rho,\n",
    "            v0,\n",
    "            lamb,\n",
    "            mu,\n",
    "            delta,\n",
    "        )\n",
    "        se.append((model_value - option[\"Call\"]) ** 2)\n",
    "\n",
    "    MSE = sum(se) / len(se)\n",
    "    min_MSE = min(min_MSE, MSE)\n",
    "    if i % 25 == 0:\n",
    "        print(\"%4d |\" % i, np.array(p0), \"| %7.3f | %7.3f\" % (MSE, min_MSE))\n",
    "    i += 1\n",
    "    return MSE"
   ]
  },
  {
   "cell_type": "markdown",
   "metadata": {
    "id": "nEImbi8j7vt8"
   },
   "source": [
    "Next, the classic calibration we have done before for other models:"
   ]
  },
  {
   "cell_type": "code",
   "execution_count": 31,
   "metadata": {
    "executionInfo": {
     "elapsed": 5,
     "status": "ok",
     "timestamp": 1664399959801,
     "user": {
      "displayName": "Ivan Blanco",
      "userId": "11863287364861133555"
     },
     "user_tz": -120
    },
    "id": "3FupB5qHrvR9"
   },
   "outputs": [],
   "source": [
    "def B96_calibration_full():\n",
    "    opt = fmin(\n",
    "        B96_full_error_function, p0, xtol=0.001, ftol=0.001, maxiter=1250, maxfun=650\n",
    "    )\n",
    "    return opt"
   ]
  },
  {
   "cell_type": "markdown",
   "metadata": {
    "id": "rI9K8FYQ8BCP"
   },
   "source": [
    "And, finally, a function to calculate values under full model calibration:"
   ]
  },
  {
   "cell_type": "code",
   "execution_count": 32,
   "metadata": {
    "executionInfo": {
     "elapsed": 6,
     "status": "ok",
     "timestamp": 1664399959802,
     "user": {
      "displayName": "Ivan Blanco",
      "userId": "11863287364861133555"
     },
     "user_tz": -120
    },
    "id": "vnMhmTdvrvLR"
   },
   "outputs": [],
   "source": [
    "def B96_calculate_model_values(p0):\n",
    "    kappa_v, theta_v, sigma_v, rho, v0, lamb, mu, delta = p0\n",
    "    values = []\n",
    "    for row, option in options.iterrows():\n",
    "        model_value = B96_call_value(\n",
    "            S0,\n",
    "            option[\"Strike\"],\n",
    "            option[\"T\"],\n",
    "            option[\"r\"],\n",
    "            kappa_v,\n",
    "            theta_v,\n",
    "            sigma_v,\n",
    "            rho,\n",
    "            v0,\n",
    "            lamb,\n",
    "            mu,\n",
    "            delta,\n",
    "        )\n",
    "\n",
    "        values.append(model_value)\n",
    "\n",
    "    return np.array(values)"
   ]
  },
  {
   "cell_type": "markdown",
   "metadata": {
    "id": "Lz8Lqydp8L8-"
   },
   "source": [
    "## 3.1. Full model calibration parameters\n",
    "\n",
    "Now, we can see what are the different parameter values yielded by this calibration:"
   ]
  },
  {
   "cell_type": "code",
   "execution_count": 33,
   "metadata": {
    "colab": {
     "base_uri": "https://localhost:8080/"
    },
    "executionInfo": {
     "elapsed": 22146,
     "status": "ok",
     "timestamp": 1664399981942,
     "user": {
      "displayName": "Ivan Blanco",
      "userId": "11863287364861133555"
     },
     "user_tz": -120
    },
    "id": "bJgy8KlTru7B",
    "outputId": "e87b5b3e-1184-4a25-8c96-fac61e5cc321"
   },
   "outputs": [
    {
     "name": "stdout",
     "output_type": "stream",
     "text": [
      "   0 | [18.44706911  0.02591934  0.97789137 -0.82051747  0.03516508  0.\n",
      " -0.5         0.        ] |   2.575 |   2.575\n",
      "  25 | [ 1.89196546e+01  2.66353670e-02  9.45309145e-01 -8.55622980e-01\n",
      "  3.01835172e-02  2.65971214e-04 -5.02080393e-01  3.12703375e-04] |   0.768 |   0.164\n",
      "  50 | [ 1.88912776e+01  2.62162522e-02  9.53512467e-01 -8.47490495e-01\n",
      "  3.13883965e-02  2.12755936e-04 -5.05850862e-01  2.43397839e-04] |   0.256 |   0.164\n",
      "  75 | [ 1.88659969e+01  2.45371124e-02  9.58449397e-01 -8.79395537e-01\n",
      "  3.27722444e-02  1.81806738e-04 -4.99787220e-01  3.17490996e-04] |   0.121 |   0.116\n",
      " 100 | [ 1.86471208e+01  2.32460445e-02  9.23885953e-01 -9.50793258e-01\n",
      "  3.32800631e-02  1.62535845e-04 -4.75958591e-01  5.48375076e-04] |   0.101 |   0.100\n",
      " 125 | [ 1.86204047e+01  2.32470583e-02  9.25942793e-01 -9.47783422e-01\n",
      "  3.33544512e-02  1.59456557e-04 -4.78243704e-01  5.30355840e-04] |   0.099 |   0.099\n",
      " 150 | [ 1.86379352e+01  2.33935895e-02  9.33498759e-01 -9.38345133e-01\n",
      "  3.33228408e-02  1.79727743e-04 -4.80399551e-01  5.22395527e-04] |   0.098 |   0.098\n",
      " 175 | [ 1.86261730e+01  2.33558757e-02  9.32289596e-01 -9.42297209e-01\n",
      "  3.33314696e-02  1.74371747e-04 -4.78928190e-01  5.27109194e-04] |   0.098 |   0.098\n",
      " 200 | [ 1.85931938e+01  2.38514807e-02  9.41317453e-01 -9.33110625e-01\n",
      "  3.31019435e-02  1.91082066e-04 -4.76632183e-01  5.11370560e-04] |   0.097 |   0.097\n",
      " 225 | [ 1.84129060e+01  2.55480252e-02  9.68854336e-01 -9.05723611e-01\n",
      "  3.23631993e-02  1.80971008e-04 -4.74386919e-01  4.04379493e-04] |   0.094 |   0.094\n",
      " 250 | [ 1.82224245e+01  2.67093616e-02  9.86061471e-01 -8.97965208e-01\n",
      "  3.18638069e-02  1.55231078e-04 -4.68752336e-01  3.24232048e-04] |   0.091 |   0.091\n",
      " 275 | [ 1.80533301e+01  2.74230091e-02  9.94674081e-01 -8.97160286e-01\n",
      "  3.15974535e-02  9.78250901e-05 -4.67732727e-01  2.40436545e-04] |   0.088 |   0.088\n",
      " 300 | [ 1.77677881e+01  2.91499919e-02  1.01774605e+00 -8.83960546e-01\n",
      "  3.08662243e-02  1.17403781e-05 -4.64910671e-01  8.85210805e-05] |   0.085 |   0.085\n",
      " 325 | [ 1.77779772e+01  2.90129774e-02  1.01540818e+00 -8.86161529e-01\n",
      "  3.09308023e-02  8.83645553e-06 -4.65539201e-01  9.34100851e-05] |   0.085 |   0.085\n",
      " 350 | [ 1.77652807e+01  2.91181681e-02  1.01713233e+00 -8.84207024e-01\n",
      "  3.08942125e-02  2.19131115e-06 -4.66359953e-01  8.05755208e-05] |   0.085 |   0.085\n",
      " 375 | [ 1.77734112e+01  2.90694775e-02  1.01650911e+00 -8.84279278e-01\n",
      "  3.09195290e-02  2.10985136e-06 -4.66955955e-01  8.21919725e-05] |   0.084 |   0.084\n",
      " 400 | [ 1.77887914e+01  2.89930709e-02  1.01560314e+00 -8.83747095e-01\n",
      "  3.09633674e-02  7.66983313e-07 -4.68427458e-01  8.32555291e-05] |   0.084 |   0.084\n",
      " 425 | [ 1.77908921e+01  2.90233864e-02  1.01619214e+00 -8.82419970e-01\n",
      "  3.09523409e-02  1.07695669e-06 -4.68796929e-01  8.18817491e-05] |   0.084 |   0.084\n",
      " 450 | [ 1.77773042e+01  2.91759874e-02  1.01849310e+00 -8.79914234e-01\n",
      "  3.08833017e-02  7.63735693e-07 -4.68384370e-01  7.49646515e-05] |   0.084 |   0.084\n",
      " 475 | [ 1.77727414e+01  2.93232459e-02  1.02092937e+00 -8.75906886e-01\n",
      "  3.08227429e-02  4.29212519e-07 -4.68924314e-01  6.76594180e-05] |   0.084 |   0.084\n"
     ]
    },
    {
     "name": "stderr",
     "output_type": "stream",
     "text": [
      "C:\\Users\\USER\\AppData\\Local\\Temp\\ipykernel_9552\\3962071003.py:2: RuntimeWarning: Maximum number of function evaluations has been exceeded.\n",
      "  opt = fmin(\n"
     ]
    }
   ],
   "source": [
    "full_params = B96_calibration_full()"
   ]
  },
  {
   "cell_type": "markdown",
   "metadata": {
    "id": "EsSf1iYp8Z2y"
   },
   "source": [
    "Let's check the parameter values:"
   ]
  },
  {
   "cell_type": "code",
   "execution_count": 29,
   "metadata": {
    "colab": {
     "base_uri": "https://localhost:8080/"
    },
    "executionInfo": {
     "elapsed": 17,
     "status": "ok",
     "timestamp": 1664399981943,
     "user": {
      "displayName": "Ivan Blanco",
      "userId": "11863287364861133555"
     },
     "user_tz": -120
    },
    "id": "PTj9aUykypFl",
    "outputId": "b4a02359-73da-412c-ba57-bff3d7a46449"
   },
   "outputs": [
    {
     "data": {
      "text/plain": [
       "array([ 1.77663477e+01,  2.94142961e-02,  1.02232309e+00, -8.74077400e-01,\n",
       "        3.07828972e-02,  4.37982342e-08, -4.68886712e-01,  6.34155426e-05])"
      ]
     },
     "execution_count": 29,
     "metadata": {},
     "output_type": "execute_result"
    }
   ],
   "source": [
    "full_params"
   ]
  },
  {
   "cell_type": "markdown",
   "metadata": {
    "id": "2JFa3y9p8ia6"
   },
   "source": [
    "Which basically yields (note that these would slightly change upon small twitches of the code):\n",
    "\n",
    "- $\\kappa_\\nu = 18.858$\n",
    "- $\\theta_\\nu = 0.0249$\n",
    "- $\\sigma_\\nu = 0.961$\n",
    "- $\\rho = -0.917$\n",
    "- $\\nu_0 = 0.0327$\n",
    "- $\\lambda = 0.000$\n",
    "- $\\mu = -0.508$\n",
    "- $\\delta = 0.001$\n",
    "\n",
    "\n",
    "## 3.2. Market vs. Model prices in full calibration \n",
    "\n",
    "As before, let's see what are the differences that our model produces using the parameters resulting from calibration, and compare those to observed market prices:"
   ]
  },
  {
   "cell_type": "code",
   "execution_count": null,
   "metadata": {
    "executionInfo": {
     "elapsed": 15,
     "status": "ok",
     "timestamp": 1664399981943,
     "user": {
      "displayName": "Ivan Blanco",
      "userId": "11863287364861133555"
     },
     "user_tz": -120
    },
    "id": "fd0DaPXS0c_J"
   },
   "outputs": [],
   "source": [
    "def plot_full_calibration_results(p0):\n",
    "    options[\"Model\"] = B96_calculate_model_values(p0)\n",
    "    plt.figure(figsize=(8, 6))\n",
    "    plt.subplot(211)\n",
    "    plt.grid()\n",
    "    plt.title(\"Maturity %s\" % str(options[\"Maturity\"].iloc[0])[:10])\n",
    "    plt.ylabel(\"option values\")\n",
    "    plt.plot(options.Strike, options.Call, \"b\", label=\"market\")\n",
    "    plt.plot(options.Strike, options.Model, \"ro\", label=\"model\")\n",
    "    plt.legend(loc=0)\n",
    "    plt.axis(\n",
    "        [\n",
    "            min(options.Strike) - 10,\n",
    "            max(options.Strike) + 10,\n",
    "            min(options.Call) - 10,\n",
    "            max(options.Call) + 10,\n",
    "        ]\n",
    "    )\n",
    "    plt.subplot(212)\n",
    "    plt.grid()\n",
    "    wi = 5.0\n",
    "    diffs = options.Model.values - options.Call.values\n",
    "    plt.bar(options.Strike.values - wi / 2, diffs, width=wi)\n",
    "    plt.ylabel(\"difference\")\n",
    "    plt.axis(\n",
    "        [\n",
    "            min(options.Strike) - 10,\n",
    "            max(options.Strike) + 10,\n",
    "            min(diffs) * 1.1,\n",
    "            max(diffs) * 1.1,\n",
    "        ]\n",
    "    )\n",
    "    plt.tight_layout()"
   ]
  },
  {
   "cell_type": "code",
   "execution_count": null,
   "metadata": {
    "colab": {
     "base_uri": "https://localhost:8080/",
     "height": 441
    },
    "executionInfo": {
     "elapsed": 716,
     "status": "ok",
     "timestamp": 1664399982644,
     "user": {
      "displayName": "Ivan Blanco",
      "userId": "11863287364861133555"
     },
     "user_tz": -120
    },
    "id": "PXa2fa6h0tzs",
    "outputId": "7d73c1e4-a000-47ec-b4ee-b873db579636"
   },
   "outputs": [],
   "source": [
    "plot_full_calibration_results(full_params)"
   ]
  },
  {
   "cell_type": "markdown",
   "metadata": {
    "id": "zs2eQqUQ9rjU"
   },
   "source": [
    "As you can see, the model does a better job in terms of fitting the observed option market prices after the full calibration process. \n",
    "\n",
    "Now, we have done this for the shortest (closest) options maturity, can you do it for others?"
   ]
  },
  {
   "cell_type": "markdown",
   "metadata": {
    "id": "aP5l6Zg1txWT",
    "jp-MarkdownHeadingCollapsed": true,
    "tags": []
   },
   "source": [
    "## 4. Conclusion\n",
    "\n",
    "In this lesson we have learned about the different steps part of the full calibration of a stochastic volatility jump diffusion model such Bates (1996). It is indeed a challenging tasks that requires that you properly understand all the steps involved. \n",
    "\n",
    "By the end of module 2 you should be familiar with models such Bates (1996), that combine stochastic volatility and a jump diffusion. There is still one thing that we have kept fixed and exogenously given so far: interest rates, which models such Bates (1996) do not consider. In the next module, we will explore the case of Bakshi, Cao, and Chen model of 1997 (BCC model), that puts together 3 different features: stochastic volatility, stochastic interest rates, and jumps.\n",
    "\n",
    "\n",
    "**References**\n",
    "\n",
    "- Hilpisch, Yves. Derivatives analytics with Python: data analysis, models, simulation, calibration and hedging. John Wiley & Sons, 2015.\n",
    "\n",
    "- Bates, David S. 'Jumps and stochastic volatility: Exchange rate processes implicit in deutsche mark options'. The Review of Financial Studies 9.1 (1996): 69-107.\n",
    "\n",
    "- Cherubini, Umberto, et al. Fourier transform methods in finance. John Wiley & Sons, 2010\n",
    "\n",
    "- Galluccio, Stefano, and Yann Lecam. \"Implied calibration and moments asymptotics in stochastic volatility jump diffusion models.\" Available at SSRN 831784 (2008)."
   ]
  },
  {
   "cell_type": "markdown",
   "metadata": {
    "deletable": false,
    "editable": false
   },
   "source": [
    "---\n",
    "Copyright 2025 WorldQuant University. This\n",
    "content is licensed solely for personal use. Redistribution or\n",
    "publication of this material is strictly prohibited.\n"
   ]
  }
 ],
 "metadata": {
  "colab": {
   "collapsed_sections": [],
   "provenance": []
  },
  "kernelspec": {
   "display_name": "msc_FE",
   "language": "python",
   "name": "python3"
  },
  "language_info": {
   "codemirror_mode": {
    "name": "ipython",
    "version": 3
   },
   "file_extension": ".py",
   "mimetype": "text/x-python",
   "name": "python",
   "nbconvert_exporter": "python",
   "pygments_lexer": "ipython3",
   "version": "3.12.4"
  }
 },
 "nbformat": 4,
 "nbformat_minor": 4
}
