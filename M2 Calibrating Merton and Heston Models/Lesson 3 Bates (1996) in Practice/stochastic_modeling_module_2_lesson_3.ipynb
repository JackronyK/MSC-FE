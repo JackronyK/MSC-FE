{
 "cells": [
  {
   "cell_type": "markdown",
   "metadata": {
    "id": "wbdl2MJGZifz"
   },
   "source": [
    "## STOCHASTIC MODELING\n",
    "MODULE 2 | LESSON 3\n",
    "\n",
    "\n",
    "---\n"
   ]
  },
  {
   "cell_type": "markdown",
   "metadata": {
    "id": "R-Lyb-5iZnu6"
   },
   "source": [
    "# **BATES (1996) IN PRACTICE** "
   ]
  },
  {
   "cell_type": "markdown",
   "metadata": {
    "id": "gAQWf79oZun1"
   },
   "source": [
    "\n",
    "|  |  |\n",
    "|:---|:---|\n",
    "|**Reading Time** |  75 minutes |\n",
    "|**Prior Knowledge** | Merton model, Heston model, Fourier transform, Characteristic function, Lewis, FFT  |\n",
    "|**Keywords** | Bates, Lewis, FFT |\n",
    "\n",
    "\n",
    "---"
   ]
  },
  {
   "cell_type": "markdown",
   "metadata": {
    "id": "bXtf2x6Swdlb"
   },
   "source": [
    "*In Lesson 3 of Module 2 of Stochastic Modeling, we will look at how to use previously learned methods like Lewis (2001) and FFT on the Bates (1996) model. As was the case in the previous module, most of the code in this notebook is based on and adapted from Hilpisch.*\n",
    "\n",
    "To start with, let's import the necessary libraries:"
   ]
  },
  {
   "cell_type": "code",
   "execution_count": 3,
   "metadata": {
    "id": "c5RAXHRBy-Di"
   },
   "outputs": [],
   "source": [
    "import numpy as np\n",
    "from scipy.integrate import quad"
   ]
  },
  {
   "cell_type": "markdown",
   "metadata": {
    "id": "ET51Zg-ITAAu"
   },
   "source": [
    "## **1. Lewis (2001) Approach**\n",
    "\n",
    "As we already know, the value of a call option under Lewis (2001) is determined by:\n",
    "\n",
    "$$\n",
    "\\begin{equation*}\n",
    "    C_0 = S_0 - \\frac{\\sqrt{S_0 K} e^{-rT}}{\\pi} \\int_{0}^{\\infty} \\mathbf{Re}[e^{izk} \\varphi^{B96}(z-i/2)] \\frac{dz}{z^2+1/4}\n",
    "\\end{equation*}\n",
    "$$\n",
    "where $\\varphi^{B96}( )$ is the characteristic function of the model. In this case, the characteristic function of Bates (1996) was given by:\n",
    "\n",
    "$$\n",
    "\\begin{equation*}\n",
    "        \\varphi^{B96}_0 (u, T) = \\varphi^{H93}_0 \\varphi^{M76J}_0 (u, T)\n",
    "\\end{equation*}\n",
    "$$\n",
    "\n",
    "which is essentially the product of two characteristic functions. Let's first define each of these characteristic functions:\n",
    "\n",
    "\n",
    "### **1.1. Characteristic Functions** \n",
    "\n",
    "### **1.1.1. Heston (1993) Characteristic Function**\n",
    "\n",
    "The characteristic function of Heston (1993), as we saw in Module 1, is given by:\n",
    "\n",
    "$$\n",
    "\\\n",
    "\\begin{equation*}\n",
    "  \\varphi^{H93} (u, T) = e^{H_1(u, T)+H_2(u,T)\\nu_0}\n",
    "\\end{equation*}\n",
    "$$\n",
    "\\\n",
    "where\n",
    "$$\n",
    "\\\n",
    "\\begin{equation*}\n",
    "  H_1 (u, T) \\equiv r_0 uiT + \\frac{c_1}{\\sigma_\\nu^2}\\Biggl\\{ (\\kappa_\\nu - \\rho \\sigma_\\nu ui+c_2) T - 2 log \\left[ \\frac{1-c_3e^{c_2T}}{1-c_3} \\right] \\Biggl\\}\n",
    "\\end{equation*}\n",
    "$$\n",
    "$$\n",
    "\\\n",
    "\\begin{equation*}\n",
    "  H_2 (u, T) \\equiv \\frac{\\kappa_\\nu - \\rho \\sigma_\\nu ui + c_2}{\\sigma_\\nu^2} \\left[ \\frac{1-e^{c_2T}}{1-c_3e^{c_2T}} \\right]\n",
    "\\end{equation*}\n",
    "$$\n",
    "$$\n",
    "\\\n",
    "\\begin{equation*}\n",
    "  c_1 \\equiv \\kappa_\\nu \\theta_\\nu\n",
    "\\end{equation*}\n",
    "$$\n",
    "$$\n",
    "\\\n",
    "\\begin{equation*}\n",
    "  c_2 \\equiv - \\sqrt{(\\rho \\sigma_\\nu ui - \\kappa_\\nu)^2 - \\sigma_\\nu^2(-ui-u^2) }\n",
    "\\end{equation*}\n",
    "$$\n",
    "$$\n",
    "\\\n",
    "\\begin{equation*}\n",
    "  c_3 \\equiv \\frac{\\kappa_\\nu - \\rho \\sigma_\\nu ui + c_2}{\\kappa_\\nu - \\rho \\sigma_\\nu ui - c_2}\n",
    "\\end{equation*}\n",
    "$$\n",
    "\n",
    "So let's first code this into a function to use later:\n"
   ]
  },
  {
   "cell_type": "code",
   "execution_count": 4,
   "metadata": {
    "id": "z5IiF-Hw-5Kr"
   },
   "outputs": [],
   "source": [
    "def H93_char_func(u, T, r, kappa_v, theta_v, sigma_v, rho, v0):\n",
    "    \"\"\"Valuation of European call option in H93 model via Lewis (2001)\n",
    "    Fourier-based approach: characteristic function.\n",
    "    Parameter definitions see function BCC_call_value.\"\"\"\n",
    "    c1 = kappa_v * theta_v\n",
    "    c2 = -np.sqrt(\n",
    "        (rho * sigma_v * u * 1j - kappa_v) ** 2 - sigma_v**2 * (-u * 1j - u**2)\n",
    "    )\n",
    "    c3 = (kappa_v - rho * sigma_v * u * 1j + c2) / (\n",
    "        kappa_v - rho * sigma_v * u * 1j - c2\n",
    "    )\n",
    "    H1 = r * u * 1j * T + (c1 / sigma_v**2) * (\n",
    "        (kappa_v - rho * sigma_v * u * 1j + c2) * T\n",
    "        - 2 * np.log((1 - c3 * np.exp(c2 * T)) / (1 - c3))\n",
    "    )\n",
    "    H2 = (\n",
    "        (kappa_v - rho * sigma_v * u * 1j + c2)\n",
    "        / sigma_v**2\n",
    "        * ((1 - np.exp(c2 * T)) / (1 - c3 * np.exp(c2 * T)))\n",
    "    )\n",
    "    char_func_value = np.exp(H1 + H2 * v0)\n",
    "    return char_func_value"
   ]
  },
  {
   "cell_type": "markdown",
   "metadata": {
    "id": "lYG633X6-5u7"
   },
   "source": [
    "\n",
    "### **1.1.2. Merton (1976) *Adjusted* Characteristic Function (Only Jump Component)**\n",
    "\n",
    "Remember that in order to produce a stochastic volatility jump-diffusion model, we need to incorporate **only** the jump component of the Merton (1976) characteristic function. \n",
    "\n",
    "The adjusted (only jump) characteristic function of Merton (1976) is therefore given by:\n",
    "$$\n",
    "\\\n",
    "\\begin{equation*}\n",
    "    \\varphi^{M76J}_0 (u, T) = e^{\\left( \\left( i u \\omega + \\lambda ( e^{i u \\mu_j - u^2 \\delta^2/2}-1) \\right) T \\right)}\n",
    "\\end{equation*}\n",
    "$$\n",
    "\n",
    "where,\n",
    "$$\n",
    "\\\n",
    "\\begin{equation*}\n",
    "    \\omega = - \\lambda \\left( e^{\\mu_j + \\delta^2/2}-1 \\right)\n",
    "\\end{equation*}\n",
    "$$\n",
    "\\\n",
    "Let's then code in this characteristic function:"
   ]
  },
  {
   "cell_type": "code",
   "execution_count": 5,
   "metadata": {
    "id": "i0duQDNjS_aI"
   },
   "outputs": [],
   "source": [
    "def M76J_char_func(u, T, lamb, mu, delta):\n",
    "    \"\"\"\n",
    "    Adjusted Characteristic function for Merton '76 model: Only jump component\n",
    "    \"\"\"\n",
    "\n",
    "    omega = -lamb * (np.exp(mu + 0.5 * delta**2) - 1)\n",
    "    char_func_value = np.exp(\n",
    "        (1j * u * omega + lamb * (np.exp(1j * u * mu - u**2 * delta**2 * 0.5) - 1))\n",
    "        * T\n",
    "    )\n",
    "    return char_func_value"
   ]
  },
  {
   "cell_type": "markdown",
   "metadata": {
    "id": "TJOICj_8Cv9B"
   },
   "source": [
    "### **1.1.3. Bates (1996) Characteristic Function**\n",
    "\n",
    "Now we can combine both previous characteristic functions to produce the one we are interested in:"
   ]
  },
  {
   "cell_type": "code",
   "execution_count": 6,
   "metadata": {
    "id": "saKEB03NC5Mj"
   },
   "outputs": [],
   "source": [
    "def B96_char_func(u, T, r, kappa_v, theta_v, sigma_v, rho, v0, lamb, mu, delta):\n",
    "    \"\"\"\n",
    "    Bates (1996) characteristic function\n",
    "    \"\"\"\n",
    "    H93 = H93_char_func(u, T, r, kappa_v, theta_v, sigma_v, rho, v0)\n",
    "    M76J = M76J_char_func(u, T, lamb, mu, delta)\n",
    "    return H93 * M76J"
   ]
  },
  {
   "cell_type": "markdown",
   "metadata": {
    "id": "xTkXbP52C6YM"
   },
   "source": [
    "### **1.2. Call and Integral Value in Bates (1996)**\n",
    "\n",
    "The next step is to calculate the value of the Lewis (2001) integral for the specific case of the Bates (1996) characteristic function:"
   ]
  },
  {
   "cell_type": "code",
   "execution_count": 7,
   "metadata": {
    "id": "uz9ZF6tLIPOI"
   },
   "outputs": [],
   "source": [
    "def B96_int_func(u, S0, K, T, r, kappa_v, theta_v, sigma_v, rho, v0, lamb, mu, delta):\n",
    "    \"\"\"\n",
    "    Lewis (2001) integral value for Bates (1996) characteristic function\n",
    "    \"\"\"\n",
    "    char_func_value = B96_char_func(\n",
    "        u - 1j * 0.5, T, r, kappa_v, theta_v, sigma_v, rho, v0, lamb, mu, delta\n",
    "    )\n",
    "    int_func_value = (\n",
    "        1 / (u**2 + 0.25) * (np.exp(1j * u * np.log(S0 / K)) * char_func_value).real\n",
    "    )\n",
    "    return int_func_value"
   ]
  },
  {
   "cell_type": "markdown",
   "metadata": {
    "id": "uWDSEF-3Jmgb"
   },
   "source": [
    "And, finally, we also need a function to compute the overall call option value once we have all the ingredients:<span style='color: transparent; font-size:1%'>All rights reserved WQU WorldQuant University QQQQ</span>"
   ]
  },
  {
   "cell_type": "code",
   "execution_count": 8,
   "metadata": {
    "id": "IwDSiITYIZoR"
   },
   "outputs": [],
   "source": [
    "def B96_call_value(S0, K, T, r, kappa_v, theta_v, sigma_v, rho, v0, lamb, mu, delta):\n",
    "    \"\"\"\n",
    "    Valuation of European call option in B96 Model via Lewis (2001)\n",
    "    Parameters:\n",
    "    ==========\n",
    "    S0: float\n",
    "        initial stock/index level\n",
    "    K: float\n",
    "        strike price\n",
    "    T: float\n",
    "        time-to-maturity (for t=0)\n",
    "    r: float\n",
    "        constant risk-free short rate\n",
    "    kappa_v: float\n",
    "        mean-reversion factor\n",
    "    theta_v: float\n",
    "        long-run mean of variance\n",
    "    sigma_v: float\n",
    "        volatility of variance\n",
    "    rho: float\n",
    "        correlation between variance and stock/index level\n",
    "    v0: float\n",
    "        initial level of variance\n",
    "    lamb: float\n",
    "        jump intensity\n",
    "    mu: float\n",
    "        expected jump size\n",
    "    delta: float\n",
    "        standard deviation of jump\n",
    "    ==========\n",
    "    \"\"\"\n",
    "    int_value = quad(\n",
    "        lambda u: B96_int_func(\n",
    "            u, S0, K, T, r, kappa_v, theta_v, sigma_v, rho, v0, lamb, mu, delta\n",
    "        ),\n",
    "        0,\n",
    "        np.inf,\n",
    "        limit=250,\n",
    "    )[0]\n",
    "    call_value = max(0, S0 - np.exp(-r * T) * np.sqrt(S0 * K) / np.pi * int_value)\n",
    "    return call_value"
   ]
  },
  {
   "cell_type": "markdown",
   "metadata": {
    "id": "er6GehvNC6St"
   },
   "source": [
    "### **1.3. Pricing via Lewis (2001) with Bates (1996)**\n",
    "\n",
    "Now, let's assign some values to the different parameters so we can perform some pricing exercises and compare them later on to the Carr and Madan (1999) approach."
   ]
  },
  {
   "cell_type": "code",
   "execution_count": 9,
   "metadata": {
    "id": "eneXfUtfKdYq"
   },
   "outputs": [],
   "source": [
    "# General Parameters\n",
    "S0 = 100\n",
    "K = 100\n",
    "T = 1\n",
    "r = 0.05\n",
    "\n",
    "# Heston'93 Parameters\n",
    "kappa_v = 1.5\n",
    "theta_v = 0.02\n",
    "sigma_v = 0.15\n",
    "rho = 0.1\n",
    "v0 = 0.01\n",
    "\n",
    "# Merton'76 Parameters\n",
    "lamb = 0.25\n",
    "mu = -0.2\n",
    "delta = 0.1\n",
    "sigma = np.sqrt(v0)"
   ]
  },
  {
   "cell_type": "markdown",
   "metadata": {
    "id": "NUHbgq1mL9Rf"
   },
   "source": [
    "Let's see what is the price of the call option then:"
   ]
  },
  {
   "cell_type": "code",
   "execution_count": 10,
   "metadata": {
    "colab": {
     "base_uri": "https://localhost:8080/"
    },
    "executionInfo": {
     "elapsed": 233,
     "status": "ok",
     "timestamp": 1659541735134,
     "user": {
      "displayName": "Sergio García",
      "userId": "13816158105599623863"
     },
     "user_tz": -120
    },
    "id": "-L9h5zfpL9ta",
    "outputId": "a6aa4374-f711-4ce5-a999-10661218315f"
   },
   "outputs": [
    {
     "name": "stdout",
     "output_type": "stream",
     "text": [
      "B96 Call option price via Lewis(2001): $    8.9047\n"
     ]
    }
   ],
   "source": [
    "print(\n",
    "    \"B96 Call option price via Lewis(2001): $%10.4f\"\n",
    "    % B96_call_value(S0, K, T, r, kappa_v, theta_v, sigma_v, rho, v0, lamb, mu, delta)\n",
    ")"
   ]
  },
  {
   "cell_type": "markdown",
   "metadata": {
    "id": "pqkSzJsOC6NT"
   },
   "source": [
    "\n",
    "## **2. FFT Approach - Carr and Madan (1999)**\n",
    "\n",
    "As an alternative to Lewis (2001), we could also implement the FFT algorithm. Essentially, we can apply FFT to the integral in the call option price derived by Carr and Madan (1999):\n",
    "$$\n",
    "\\\n",
    "\\begin{equation*}\n",
    "    C_0 = \\frac{e^{-\\alpha \\kappa}}{\\pi} \\int_{0}^{\\infty} e^{-i\\nu \\kappa} \\frac{e^{-rT} \\varphi^{B96} (\\nu - (\\alpha + 1)i, T)}{\\alpha^2 + \\alpha - \\nu^2 + i(2\\alpha + 1)\\nu} d\\nu\n",
    "\\end{equation*}\n",
    "$$\n",
    "\\\n",
    "Here we are going to use the same numerical routine we implemented in Module 1; please go there for more information. As was the case with the Lewis (2001) approach, we basically have to adapt the characteristic function we are considering to be the Bates (1996) one."
   ]
  },
  {
   "cell_type": "code",
   "execution_count": 11,
   "metadata": {
    "id": "EwNuI6YRWxL0"
   },
   "outputs": [],
   "source": [
    "def B96_call_FFT(S0, K, T, r, kappa_v, theta_v, sigma_v, rho, v0, lamb, mu, delta):\n",
    "    \"\"\"\n",
    "    Call option price in Bates (1996) under FFT\n",
    "    \"\"\"\n",
    "\n",
    "    k = np.log(K / S0)\n",
    "    g = 1  # Factor to increase accuracy\n",
    "    N = g * 4096\n",
    "    eps = (g * 150) ** -1\n",
    "    eta = 2 * np.pi / (N * eps)\n",
    "    b = 0.5 * N * eps - k\n",
    "    u = np.arange(1, N + 1, 1)\n",
    "    vo = eta * (u - 1)\n",
    "\n",
    "    # Modifications to ensure integrability\n",
    "    if S0 >= 0.95 * K:  # ITM Case\n",
    "        alpha = 1.5\n",
    "        v = vo - (alpha + 1) * 1j\n",
    "        modcharFunc = np.exp(-r * T) * (\n",
    "            B96_char_func(v, T, r, kappa_v, theta_v, sigma_v, rho, v0, lamb, mu, delta)\n",
    "            / (alpha**2 + alpha - vo**2 + 1j * (2 * alpha + 1) * vo)\n",
    "        )\n",
    "\n",
    "    else:\n",
    "        alpha = 1.1\n",
    "        v = (vo - 1j * alpha) - 1j\n",
    "        modcharFunc1 = np.exp(-r * T) * (\n",
    "            1 / (1 + 1j * (vo - 1j * alpha))\n",
    "            - np.exp(r * T) / (1j * (vo - 1j * alpha))\n",
    "            - B96_char_func(\n",
    "                v, T, r, kappa_v, theta_v, sigma_v, rho, v0, lamb, mu, delta\n",
    "            )\n",
    "            / ((vo - 1j * alpha) ** 2 - 1j * (vo - 1j * alpha))\n",
    "        )\n",
    "\n",
    "        v = (vo + 1j * alpha) - 1j\n",
    "\n",
    "        modcharFunc2 = np.exp(-r * T) * (\n",
    "            1 / (1 + 1j * (vo + 1j * alpha))\n",
    "            - np.exp(r * T) / (1j * (vo + 1j * alpha))\n",
    "            - B96_char_func(\n",
    "                v, T, r, kappa_v, theta_v, sigma_v, rho, v0, lamb, mu, delta\n",
    "            )\n",
    "            / ((vo + 1j * alpha) ** 2 - 1j * (vo + 1j * alpha))\n",
    "        )\n",
    "\n",
    "    # Numerical FFT Routine\n",
    "    delt = np.zeros(N)\n",
    "    delt[0] = 1\n",
    "    j = np.arange(1, N + 1, 1)\n",
    "    SimpsonW = (3 + (-1) ** j - delt) / 3\n",
    "    if S0 >= 0.95 * K:\n",
    "        FFTFunc = np.exp(1j * b * vo) * modcharFunc * eta * SimpsonW\n",
    "        payoff = (np.fft.fft(FFTFunc)).real\n",
    "        CallValueM = np.exp(-alpha * k) / np.pi * payoff\n",
    "    else:\n",
    "        FFTFunc = (\n",
    "            np.exp(1j * b * vo) * (modcharFunc1 - modcharFunc2) * 0.5 * eta * SimpsonW\n",
    "        )\n",
    "        payoff = (np.fft.fft(FFTFunc)).real\n",
    "        CallValueM = payoff / (np.sinh(alpha * k) * np.pi)\n",
    "\n",
    "    pos = int((k + b) / eps)\n",
    "    CallValue = CallValueM[pos] * S0\n",
    "\n",
    "    return CallValue"
   ]
  },
  {
   "cell_type": "markdown",
   "metadata": {
    "id": "1AP5_-yhZEMZ"
   },
   "source": [
    "Now, let's see how the FFT algorithm performs in pricing an option with the same given parameters as the Lewis (2001) example:"
   ]
  },
  {
   "cell_type": "code",
   "execution_count": 13,
   "metadata": {
    "colab": {
     "base_uri": "https://localhost:8080/"
    },
    "executionInfo": {
     "elapsed": 254,
     "status": "ok",
     "timestamp": 1659541740441,
     "user": {
      "displayName": "Sergio García",
      "userId": "13816158105599623863"
     },
     "user_tz": -120
    },
    "id": "Qpq1CPi-YJ_6",
    "outputId": "c5bc4a40-8f08-465e-c191-7fea72ce9141"
   },
   "outputs": [
    {
     "name": "stdout",
     "output_type": "stream",
     "text": [
      "B96 Call option price via FFT: $    8.9047\n"
     ]
    }
   ],
   "source": [
    "print(\n",
    "    \"B96 Call option price via FFT: $%10.4f\"\n",
    "    % B96_call_FFT(S0, K, T, r, kappa_v, theta_v, sigma_v, rho, v0, lamb, mu, delta)\n",
    ")"
   ]
  },
  {
   "cell_type": "markdown",
   "metadata": {
    "id": "wtIfJYu-C6Hy"
   },
   "source": [
    "As you can see, we get exactly the same number for the call option price, with up to 4 decimal places. If you increase the number of decimal places to be shown, though, you will see that the prices are slightly different. This is what we should expect from two different methodologies.  "
   ]
  },
  {
   "cell_type": "markdown",
   "metadata": {
    "id": "aP5l6Zg1txWT"
   },
   "source": [
    "## **3. Conclusion**\n",
    "\n",
    "In this lesson, we have applied both Fourier-based techniques learned in Module 1--Lewis (2001) and Carr and Madan (1999) FFT procedure--to the stochastic volatility jump-diffusion model of Bates (1996). As you can see, once we are familiar with Fourier pricing methods, it is just a matter of adapting the code to the characteristic function of the underlying asset process.\n",
    "\n",
    "We still have not touched upon the most important issue, though: model calibration. That's what we will do in the next lesson.\n",
    "\n",
    "\\\n",
    "**References**\n",
    "\n",
    "- Hilpisch, Yves. *Derivatives Analytics with Python: Data Analysis, Models, Simulation, Calibration and Hedging.* John Wiley & Sons, 2015.\n",
    "\n",
    "- Bates, David S. \"Jumps and Stochastic Volatility: Exchange Rate Processes Implicit in Deutsche Mark Options.\" *The Review of Financial Studies*, vol. 9, no. 1, 1996, pp. 69-107."
   ]
  },
  {
   "cell_type": "markdown",
   "metadata": {
    "deletable": false,
    "editable": false
   },
   "source": [
    "---\n",
    "Copyright 2025 WorldQuant University. This\n",
    "content is licensed solely for personal use. Redistribution or\n",
    "publication of this material is strictly prohibited.\n"
   ]
  }
 ],
 "metadata": {
  "colab": {
   "collapsed_sections": [],
   "provenance": []
  },
  "kernelspec": {
   "display_name": "msc_FE",
   "language": "python",
   "name": "python3"
  },
  "language_info": {
   "codemirror_mode": {
    "name": "ipython",
    "version": 3
   },
   "file_extension": ".py",
   "mimetype": "text/x-python",
   "name": "python",
   "nbconvert_exporter": "python",
   "pygments_lexer": "ipython3",
   "version": "3.12.4"
  }
 },
 "nbformat": 4,
 "nbformat_minor": 4
}
