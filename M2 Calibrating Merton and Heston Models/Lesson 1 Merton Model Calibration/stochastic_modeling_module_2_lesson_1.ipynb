{
 "cells": [
  {
   "cell_type": "markdown",
   "metadata": {
    "id": "wbdl2MJGZifz"
   },
   "source": [
    "## STOCHASTIC MODELING\n",
    "MODULE 2 | LESSON 1\n",
    "\n",
    "\n",
    "---\n"
   ]
  },
  {
   "cell_type": "markdown",
   "metadata": {
    "id": "R-Lyb-5iZnu6"
   },
   "source": [
    "# **MERTON MODEL CALIBRATION** "
   ]
  },
  {
   "cell_type": "markdown",
   "metadata": {
    "id": "gAQWf79oZun1"
   },
   "source": [
    "\n",
    "|  |  |\n",
    "|:---|:---|\n",
    "|**Reading Time** |  65 minutes |\n",
    "|**Prior Knowledge** | Merton model, Fourier transform, Characteristic function, Lewis  |\n",
    "|**Keywords** | Characteristic function, Lewis, Merton model calibration |\n",
    "\n",
    "\n",
    "---<span style='color: transparent; font-size:1%'>All rights reserved WQU WorldQuant University QQQQ</span>"
   ]
  },
  {
   "cell_type": "markdown",
   "metadata": {
    "id": "bXtf2x6Swdlb"
   },
   "source": [
    "*In this first lesson of Module 2 of Stochastic Modeling, we will look at how to use previously learned methods like Lewis (2001) on Merton (1976) model in order to perform model calibration. As was the case in the previous module, most of the code in this notebook is based on and adapted from Hilpisch's* Derivatives Analytics with Python.\n",
    "\n",
    "To start with, let's import the necessary libraries:"
   ]
  },
  {
   "cell_type": "code",
   "execution_count": 1,
   "metadata": {
    "executionInfo": {
     "elapsed": 546,
     "status": "ok",
     "timestamp": 1664398422050,
     "user": {
      "displayName": "Ivan Blanco",
      "userId": "11863287364861133555"
     },
     "user_tz": -120
    },
    "id": "c5RAXHRBy-Di"
   },
   "outputs": [],
   "source": [
    "import matplotlib.pyplot as plt\n",
    "import numpy as np\n",
    "from scipy.integrate import quad"
   ]
  },
  {
   "cell_type": "markdown",
   "metadata": {
    "id": "ET51Zg-ITAAu"
   },
   "source": [
    "## **1. Lewis (2001) Approach**\n",
    "\n",
    "Let's start by revisiting the Fourier methods for pricing in the Merton (1976) model. Essentially, under the Lewis (2001) approach, the value of the Call option is determined by:\n",
    "\n",
    "$$\n",
    "\\begin{equation*}\n",
    "    C_0 = S_0 - \\frac{\\sqrt{S_0 K} e^{-rT}}{\\pi} \\int_{0}^{\\infty} \\mathbf{Re}[e^{izk} \\varphi(z-i/2)] \\frac{dz}{z^2+1/4}\n",
    "\\end{equation*}\n",
    "$$\n",
    "which means that we just need the characteristic function of the process in Merton (1976).\n",
    "\n",
    "### **1.1. Merton (1976) Characteristic Function**\n",
    "\n",
    "Merton's (1976) characteristic function is given by:\n",
    "\n",
    "$$\n",
    "\\begin{equation*}\n",
    "    \\varphi^{M76}_0 (u, T) = e^{\\left( \\left( i u \\omega - \\frac{u^2 \\sigma^2}{2}+ \\lambda ( e^{i u \\mu_j - u^2 \\delta^2/2}-1) \\right) T \\right)}\n",
    "\\end{equation*}\n",
    "$$\n",
    "\n",
    "where,\n",
    "\n",
    "$$\n",
    "\\begin{equation*}\n",
    "    \\omega = r - \\frac{\\sigma^2}{2} - \\lambda \\left( e^{\\mu_j + \\delta^2/2}-1 \\right)\n",
    "\\end{equation*}\n",
    "$$\n",
    "\n",
    "Thus, let's start by coding this characteristic function:"
   ]
  },
  {
   "cell_type": "code",
   "execution_count": 2,
   "metadata": {
    "executionInfo": {
     "elapsed": 6,
     "status": "ok",
     "timestamp": 1664398422051,
     "user": {
      "displayName": "Ivan Blanco",
      "userId": "11863287364861133555"
     },
     "user_tz": -120
    },
    "id": "i0duQDNjS_aI"
   },
   "outputs": [],
   "source": [
    "def M76_char_func(u, T, r, sigma, lamb, mu, delta):\n",
    "    \"\"\"\n",
    "    Characteristic function for Merton '76 model\n",
    "    \"\"\"\n",
    "\n",
    "    omega = r - 0.5 * sigma**2 - lamb * (np.exp(mu + 0.5 * delta**2) - 1)\n",
    "    char_func_value = np.exp(\n",
    "        (\n",
    "            1j * u * omega\n",
    "            - 0.5 * u**2 * sigma**2\n",
    "            + lamb * (np.exp(1j * u * mu - u**2 * delta**2 * 0.5) - 1)\n",
    "        )\n",
    "        * T\n",
    "    )\n",
    "    return char_func_value"
   ]
  },
  {
   "cell_type": "markdown",
   "metadata": {},
   "source": [
    "$$\n",
    "\\begin{equation*}\n",
    "    C_0 = S_0 - \\frac{\\sqrt{S_0 K} e^{-rT}}{\\pi} \\int_{0}^{\\infty} \\mathbf{Re}[e^{izk} \\varphi(z-i/2)] \\frac{dz}{z^2+1/4}\n",
    "\\end{equation*}\n",
    "$$"
   ]
  },
  {
   "cell_type": "markdown",
   "metadata": {
    "id": "tXsusTwo-Sxj"
   },
   "source": [
    "### **1.2. Lewis (2001) Integral Value**\n",
    "\n",
    "The next step is to define the value of the integral in Lewis (2001) given the characteristic function:"
   ]
  },
  {
   "cell_type": "code",
   "execution_count": 3,
   "metadata": {
    "executionInfo": {
     "elapsed": 5,
     "status": "ok",
     "timestamp": 1664398422051,
     "user": {
      "displayName": "Ivan Blanco",
      "userId": "11863287364861133555"
     },
     "user_tz": -120
    },
    "id": "Nu99sGcH7qhb"
   },
   "outputs": [],
   "source": [
    "def M76_integration_function(u, S0, K, T, r, sigma, lamb, mu, delta):\n",
    "    \"\"\"\n",
    "    Integral function for Lewis (2001) under Merton'76 characteristic function\n",
    "    \"\"\"\n",
    "    char_func = M76_char_func(u - 0.5 * 1j, T, r, sigma, lamb, mu, delta)\n",
    "\n",
    "    value = 1 / (u**2 + 0.25) * (np.exp(1j * u * np.log(S0 / K)) * char_func).real\n",
    "\n",
    "    return value"
   ]
  },
  {
   "cell_type": "markdown",
   "metadata": {
    "id": "T7qYs7ZaAagl"
   },
   "source": [
    "And the value of the Call option:"
   ]
  },
  {
   "cell_type": "code",
   "execution_count": 4,
   "metadata": {
    "executionInfo": {
     "elapsed": 6,
     "status": "ok",
     "timestamp": 1664398422052,
     "user": {
      "displayName": "Ivan Blanco",
      "userId": "11863287364861133555"
     },
     "user_tz": -120
    },
    "id": "fLrTdxI1AG7k"
   },
   "outputs": [],
   "source": [
    "def M76_call_value(S0, K, T, r, sigma, lamb, mu, delta):\n",
    "    \"\"\"\n",
    "    Value of the Call option under Lewis (2001) for Merton'76 jump diffusion model\n",
    "    \"\"\"\n",
    "\n",
    "    int_value = quad(\n",
    "        lambda u: M76_integration_function(u, S0, K, T, r, sigma, lamb, mu, delta),\n",
    "        0,\n",
    "        50,\n",
    "        limit=250,\n",
    "    )[0]\n",
    "\n",
    "    call_value = max(0, S0 - np.exp(-r * T) * np.sqrt(S0 * K) / np.pi * int_value)\n",
    "\n",
    "    return call_value"
   ]
  },
  {
   "cell_type": "markdown",
   "metadata": {
    "id": "v-YjgjIwBQwd"
   },
   "source": [
    "### **1.3. Pricing Example with Given Parameters**\n",
    "\n",
    "Once we have this set of functions, we can, given some parameters, price a call option under the Merton (1976) jump diffusion model. \n",
    "\n",
    "For example, assume the following parameters:\n",
    "\n",
    "- $S_0 = 100$\n",
    "- $K = 100$\n",
    "- $T=1$\n",
    "- $r = 0.05$\n",
    "- $\\sigma = 0.4$\n",
    "- $\\lambda = 1.0$\n",
    "- $\\mu = -0.2$\n",
    "- $\\delta = 0.1$\n",
    "\n",
    "What would be the price of a Call option under Lewis (2001)? "
   ]
  },
  {
   "cell_type": "code",
   "execution_count": 5,
   "metadata": {
    "executionInfo": {
     "elapsed": 6,
     "status": "ok",
     "timestamp": 1664398422052,
     "user": {
      "displayName": "Ivan Blanco",
      "userId": "11863287364861133555"
     },
     "user_tz": -120
    },
    "id": "CRiQhTcQCJX5"
   },
   "outputs": [],
   "source": [
    "S0 = 100\n",
    "K = 100\n",
    "T = 1\n",
    "r = 0.05\n",
    "sigma = 0.4\n",
    "lamb = 1\n",
    "mu = -0.2\n",
    "delta = 0.1"
   ]
  },
  {
   "cell_type": "code",
   "execution_count": 6,
   "metadata": {
    "colab": {
     "base_uri": "https://localhost:8080/"
    },
    "executionInfo": {
     "elapsed": 279,
     "status": "ok",
     "timestamp": 1664398422326,
     "user": {
      "displayName": "Ivan Blanco",
      "userId": "11863287364861133555"
     },
     "user_tz": -120
    },
    "id": "ifsqneMJCXx7",
    "outputId": "3b65dcf2-5914-4e7d-e77a-3743d0695446"
   },
   "outputs": [
    {
     "name": "stdout",
     "output_type": "stream",
     "text": [
      "Value of the Call option under Merton (1976) is: $  19.9479\n"
     ]
    }
   ],
   "source": [
    "print(f\"Value of the Call option under Merton (1976) is: $ {M76_call_value(S0, K, T, r, sigma, lamb, mu, delta): .4f}\")"
   ]
  },
  {
   "cell_type": "markdown",
   "metadata": {
    "id": "4dEFBnscGDiR"
   },
   "source": [
    "## **2. Merton (1976) Model Calibration**\n",
    "\n",
    "The next step is to calibrate the Merton (1976) model to observed option market prices in order to infer the model parameters. In order to do so, we are going to follow a very similar approach to that of the Heston model developed in the past module. In fact, we are going to use the same option market data file from the previous module on EuroStoxx 50 options.\n",
    "\n",
    "\n",
    "## **2.1. Obtaining Options Market Data**"
   ]
  },
  {
   "cell_type": "code",
   "execution_count": 7,
   "metadata": {
    "executionInfo": {
     "elapsed": 346,
     "status": "ok",
     "timestamp": 1664398422669,
     "user": {
      "displayName": "Ivan Blanco",
      "userId": "11863287364861133555"
     },
     "user_tz": -120
    },
    "id": "oUlbf_-cKR1k"
   },
   "outputs": [],
   "source": [
    "import pandas as pd\n",
    "from scipy.optimize import brute, fmin"
   ]
  },
  {
   "cell_type": "code",
   "execution_count": 8,
   "metadata": {
    "executionInfo": {
     "elapsed": 315,
     "status": "ok",
     "timestamp": 1664398422982,
     "user": {
      "displayName": "Ivan Blanco",
      "userId": "11863287364861133555"
     },
     "user_tz": -120
    },
    "id": "vQkTKilPJpBF"
   },
   "outputs": [],
   "source": [
    "# Market Data from www.eurexchange.com\n",
    "# as of September 30, 2014\n",
    "\n",
    "h5 = pd.HDFStore(\n",
    "    \"option_data_M2.h5\", \"r\"\n",
    ")  # Place this file in the same directory before running the code\n",
    "data = h5[\"data\"]  # European call & put option data (3 maturities)\n",
    "h5.close()\n",
    "S0 = 3225.93  # EURO STOXX 50 level September 30, 2014"
   ]
  },
  {
   "cell_type": "markdown",
   "metadata": {
    "id": "gF6iwKDoKdH9"
   },
   "source": [
    "As was the case in the previous module, we will select near ATM options:"
   ]
  },
  {
   "cell_type": "code",
   "execution_count": 9,
   "metadata": {},
   "outputs": [
    {
     "data": {
      "application/vnd.microsoft.datawrangler.viewer.v0+json": {
       "columns": [
        {
         "name": "index",
         "rawType": "int64",
         "type": "integer"
        },
        {
         "name": "Date",
         "rawType": "int64",
         "type": "integer"
        },
        {
         "name": "Strike",
         "rawType": "float64",
         "type": "float"
        },
        {
         "name": "Call",
         "rawType": "float64",
         "type": "float"
        },
        {
         "name": "Maturity",
         "rawType": "int64",
         "type": "integer"
        },
        {
         "name": "Put",
         "rawType": "float64",
         "type": "float"
        }
       ],
       "ref": "a43992a4-c87c-470e-b08f-01a38122c00a",
       "rows": [
        [
         "0",
         "1412035200000000000",
         "1850.0",
         "1373.6",
         "1418947200000000000",
         "0.5"
        ],
        [
         "1",
         "1412035200000000000",
         "1900.0",
         "1323.7",
         "1418947200000000000",
         "0.6"
        ],
        [
         "2",
         "1412035200000000000",
         "1950.0",
         "1273.8",
         "1418947200000000000",
         "0.8"
        ],
        [
         "3",
         "1412035200000000000",
         "2000.0",
         "1223.9",
         "1418947200000000000",
         "0.9"
        ],
        [
         "4",
         "1412035200000000000",
         "2050.0",
         "1174.1",
         "1418947200000000000",
         "1.1"
        ],
        [
         "5",
         "1412035200000000000",
         "2100.0",
         "1124.3",
         "1418947200000000000",
         "1.3"
        ],
        [
         "6",
         "1412035200000000000",
         "2150.0",
         "1074.5",
         "1418947200000000000",
         "1.5"
        ],
        [
         "7",
         "1412035200000000000",
         "2200.0",
         "1024.8",
         "1418947200000000000",
         "1.7"
        ],
        [
         "8",
         "1412035200000000000",
         "2250.0",
         "975.1",
         "1418947200000000000",
         "2.1"
        ],
        [
         "9",
         "1412035200000000000",
         "2300.0",
         "925.4",
         "1418947200000000000",
         "2.4"
        ],
        [
         "10",
         "1412035200000000000",
         "2350.0",
         "875.9",
         "1418947200000000000",
         "2.9"
        ],
        [
         "11",
         "1412035200000000000",
         "2400.0",
         "826.4",
         "1418947200000000000",
         "3.4"
        ],
        [
         "12",
         "1412035200000000000",
         "2450.0",
         "777.0",
         "1418947200000000000",
         "4.0"
        ],
        [
         "13",
         "1412035200000000000",
         "2500.0",
         "727.8",
         "1418947200000000000",
         "4.8"
        ],
        [
         "14",
         "1412035200000000000",
         "2550.0",
         "678.7",
         "1418947200000000000",
         "5.7"
        ],
        [
         "15",
         "1412035200000000000",
         "2600.0",
         "629.9",
         "1418947200000000000",
         "6.9"
        ],
        [
         "16",
         "1412035200000000000",
         "2625.0",
         "605.6",
         "1418947200000000000",
         "7.6"
        ],
        [
         "17",
         "1412035200000000000",
         "2650.0",
         "581.3",
         "1418947200000000000",
         "8.3"
        ],
        [
         "18",
         "1412035200000000000",
         "2675.0",
         "557.2",
         "1418947200000000000",
         "9.2"
        ],
        [
         "19",
         "1412035200000000000",
         "2700.0",
         "533.2",
         "1418947200000000000",
         "10.1"
        ],
        [
         "20",
         "1412035200000000000",
         "2725.0",
         "509.2",
         "1418947200000000000",
         "11.2"
        ],
        [
         "21",
         "1412035200000000000",
         "2750.0",
         "485.4",
         "1418947200000000000",
         "12.4"
        ],
        [
         "22",
         "1412035200000000000",
         "2775.0",
         "461.8",
         "1418947200000000000",
         "13.8"
        ],
        [
         "23",
         "1412035200000000000",
         "2800.0",
         "438.3",
         "1418947200000000000",
         "15.3"
        ],
        [
         "24",
         "1412035200000000000",
         "2825.0",
         "415.0",
         "1418947200000000000",
         "17.0"
        ],
        [
         "25",
         "1412035200000000000",
         "2850.0",
         "391.9",
         "1418947200000000000",
         "18.9"
        ],
        [
         "26",
         "1412035200000000000",
         "2875.0",
         "369.0",
         "1418947200000000000",
         "21.0"
        ],
        [
         "27",
         "1412035200000000000",
         "2900.0",
         "346.4",
         "1418947200000000000",
         "23.4"
        ],
        [
         "28",
         "1412035200000000000",
         "2925.0",
         "324.1",
         "1418947200000000000",
         "26.0"
        ],
        [
         "29",
         "1412035200000000000",
         "2950.0",
         "302.0",
         "1418947200000000000",
         "29.0"
        ],
        [
         "30",
         "1412035200000000000",
         "2975.0",
         "280.4",
         "1418947200000000000",
         "32.4"
        ],
        [
         "31",
         "1412035200000000000",
         "3000.0",
         "259.2",
         "1418947200000000000",
         "36.2"
        ],
        [
         "32",
         "1412035200000000000",
         "3025.0",
         "238.4",
         "1418947200000000000",
         "40.4"
        ],
        [
         "33",
         "1412035200000000000",
         "3050.0",
         "218.1",
         "1418947200000000000",
         "45.1"
        ],
        [
         "34",
         "1412035200000000000",
         "3075.0",
         "198.5",
         "1418947200000000000",
         "50.5"
        ],
        [
         "35",
         "1412035200000000000",
         "3100.0",
         "179.4",
         "1418947200000000000",
         "56.4"
        ],
        [
         "36",
         "1412035200000000000",
         "3125.0",
         "161.1",
         "1418947200000000000",
         "63.1"
        ],
        [
         "37",
         "1412035200000000000",
         "3150.0",
         "143.5",
         "1418947200000000000",
         "70.5"
        ],
        [
         "38",
         "1412035200000000000",
         "3175.0",
         "126.8",
         "1418947200000000000",
         "78.8"
        ],
        [
         "39",
         "1412035200000000000",
         "3200.0",
         "110.9",
         "1418947200000000000",
         "87.9"
        ],
        [
         "40",
         "1412035200000000000",
         "3225.0",
         "96.1",
         "1418947200000000000",
         "98.1"
        ],
        [
         "41",
         "1412035200000000000",
         "3250.0",
         "82.3",
         "1418947200000000000",
         "109.3"
        ],
        [
         "42",
         "1412035200000000000",
         "3275.0",
         "69.6",
         "1418947200000000000",
         "121.6"
        ],
        [
         "43",
         "1412035200000000000",
         "3300.0",
         "58.1",
         "1418947200000000000",
         "135.1"
        ],
        [
         "44",
         "1412035200000000000",
         "3325.0",
         "47.8",
         "1418947200000000000",
         "149.8"
        ],
        [
         "45",
         "1412035200000000000",
         "3350.0",
         "38.8",
         "1418947200000000000",
         "165.8"
        ],
        [
         "46",
         "1412035200000000000",
         "3375.0",
         "31.0",
         "1418947200000000000",
         "183.0"
        ],
        [
         "47",
         "1412035200000000000",
         "3400.0",
         "24.4",
         "1418947200000000000",
         "201.4"
        ],
        [
         "48",
         "1412035200000000000",
         "3425.0",
         "18.9",
         "1418947200000000000",
         "221.0"
        ],
        [
         "49",
         "1412035200000000000",
         "3450.0",
         "14.5",
         "1418947200000000000",
         "241.5"
        ]
       ],
       "shape": {
        "columns": 5,
        "rows": 164
       }
      },
      "text/html": [
       "<div>\n",
       "<style scoped>\n",
       "    .dataframe tbody tr th:only-of-type {\n",
       "        vertical-align: middle;\n",
       "    }\n",
       "\n",
       "    .dataframe tbody tr th {\n",
       "        vertical-align: top;\n",
       "    }\n",
       "\n",
       "    .dataframe thead th {\n",
       "        text-align: right;\n",
       "    }\n",
       "</style>\n",
       "<table border=\"1\" class=\"dataframe\">\n",
       "  <thead>\n",
       "    <tr style=\"text-align: right;\">\n",
       "      <th></th>\n",
       "      <th>Date</th>\n",
       "      <th>Strike</th>\n",
       "      <th>Call</th>\n",
       "      <th>Maturity</th>\n",
       "      <th>Put</th>\n",
       "    </tr>\n",
       "  </thead>\n",
       "  <tbody>\n",
       "    <tr>\n",
       "      <th>0</th>\n",
       "      <td>1412035200000000000</td>\n",
       "      <td>1850.0</td>\n",
       "      <td>1373.6</td>\n",
       "      <td>1418947200000000000</td>\n",
       "      <td>0.5</td>\n",
       "    </tr>\n",
       "    <tr>\n",
       "      <th>1</th>\n",
       "      <td>1412035200000000000</td>\n",
       "      <td>1900.0</td>\n",
       "      <td>1323.7</td>\n",
       "      <td>1418947200000000000</td>\n",
       "      <td>0.6</td>\n",
       "    </tr>\n",
       "    <tr>\n",
       "      <th>2</th>\n",
       "      <td>1412035200000000000</td>\n",
       "      <td>1950.0</td>\n",
       "      <td>1273.8</td>\n",
       "      <td>1418947200000000000</td>\n",
       "      <td>0.8</td>\n",
       "    </tr>\n",
       "    <tr>\n",
       "      <th>3</th>\n",
       "      <td>1412035200000000000</td>\n",
       "      <td>2000.0</td>\n",
       "      <td>1223.9</td>\n",
       "      <td>1418947200000000000</td>\n",
       "      <td>0.9</td>\n",
       "    </tr>\n",
       "    <tr>\n",
       "      <th>4</th>\n",
       "      <td>1412035200000000000</td>\n",
       "      <td>2050.0</td>\n",
       "      <td>1174.1</td>\n",
       "      <td>1418947200000000000</td>\n",
       "      <td>1.1</td>\n",
       "    </tr>\n",
       "    <tr>\n",
       "      <th>...</th>\n",
       "      <td>...</td>\n",
       "      <td>...</td>\n",
       "      <td>...</td>\n",
       "      <td>...</td>\n",
       "      <td>...</td>\n",
       "    </tr>\n",
       "    <tr>\n",
       "      <th>462</th>\n",
       "      <td>1412035200000000000</td>\n",
       "      <td>3325.0</td>\n",
       "      <td>9.1</td>\n",
       "      <td>1413504000000000000</td>\n",
       "      <td>101.3</td>\n",
       "    </tr>\n",
       "    <tr>\n",
       "      <th>463</th>\n",
       "      <td>1412035200000000000</td>\n",
       "      <td>3350.0</td>\n",
       "      <td>5.1</td>\n",
       "      <td>1413504000000000000</td>\n",
       "      <td>122.4</td>\n",
       "    </tr>\n",
       "    <tr>\n",
       "      <th>464</th>\n",
       "      <td>1412035200000000000</td>\n",
       "      <td>3375.0</td>\n",
       "      <td>2.8</td>\n",
       "      <td>1413504000000000000</td>\n",
       "      <td>145.0</td>\n",
       "    </tr>\n",
       "    <tr>\n",
       "      <th>465</th>\n",
       "      <td>1412035200000000000</td>\n",
       "      <td>3400.0</td>\n",
       "      <td>1.5</td>\n",
       "      <td>1413504000000000000</td>\n",
       "      <td>168.7</td>\n",
       "    </tr>\n",
       "    <tr>\n",
       "      <th>466</th>\n",
       "      <td>1412035200000000000</td>\n",
       "      <td>3425.0</td>\n",
       "      <td>0.8</td>\n",
       "      <td>1413504000000000000</td>\n",
       "      <td>193.0</td>\n",
       "    </tr>\n",
       "  </tbody>\n",
       "</table>\n",
       "<p>164 rows × 5 columns</p>\n",
       "</div>"
      ],
      "text/plain": [
       "                    Date  Strike    Call             Maturity    Put\n",
       "0    1412035200000000000  1850.0  1373.6  1418947200000000000    0.5\n",
       "1    1412035200000000000  1900.0  1323.7  1418947200000000000    0.6\n",
       "2    1412035200000000000  1950.0  1273.8  1418947200000000000    0.8\n",
       "3    1412035200000000000  2000.0  1223.9  1418947200000000000    0.9\n",
       "4    1412035200000000000  2050.0  1174.1  1418947200000000000    1.1\n",
       "..                   ...     ...     ...                  ...    ...\n",
       "462  1412035200000000000  3325.0     9.1  1413504000000000000  101.3\n",
       "463  1412035200000000000  3350.0     5.1  1413504000000000000  122.4\n",
       "464  1412035200000000000  3375.0     2.8  1413504000000000000  145.0\n",
       "465  1412035200000000000  3400.0     1.5  1413504000000000000  168.7\n",
       "466  1412035200000000000  3425.0     0.8  1413504000000000000  193.0\n",
       "\n",
       "[164 rows x 5 columns]"
      ]
     },
     "execution_count": 9,
     "metadata": {},
     "output_type": "execute_result"
    }
   ],
   "source": [
    "data"
   ]
  },
  {
   "cell_type": "code",
   "execution_count": 10,
   "metadata": {
    "colab": {
     "base_uri": "https://localhost:8080/"
    },
    "executionInfo": {
     "elapsed": 17,
     "status": "ok",
     "timestamp": 1664398422983,
     "user": {
      "displayName": "Ivan Blanco",
      "userId": "11863287364861133555"
     },
     "user_tz": -120
    },
    "id": "cjS-r02gKQGJ",
    "outputId": "e861071e-c750-44c5-e200-1dc7d8137cff"
   },
   "outputs": [
    {
     "name": "stderr",
     "output_type": "stream",
     "text": [
      "C:\\Users\\USER\\AppData\\Local\\Temp\\ipykernel_22276\\4275802290.py:5: SettingWithCopyWarning: \n",
      "A value is trying to be set on a copy of a slice from a DataFrame.\n",
      "Try using .loc[row_indexer,col_indexer] = value instead\n",
      "\n",
      "See the caveats in the documentation: https://pandas.pydata.org/pandas-docs/stable/user_guide/indexing.html#returning-a-view-versus-a-copy\n",
      "  options[\"Date\"] = pd.DatetimeIndex(options[\"Date\"])\n",
      "C:\\Users\\USER\\AppData\\Local\\Temp\\ipykernel_22276\\4275802290.py:6: SettingWithCopyWarning: \n",
      "A value is trying to be set on a copy of a slice from a DataFrame.\n",
      "Try using .loc[row_indexer,col_indexer] = value instead\n",
      "\n",
      "See the caveats in the documentation: https://pandas.pydata.org/pandas-docs/stable/user_guide/indexing.html#returning-a-view-versus-a-copy\n",
      "  options[\"Maturity\"] = pd.DatetimeIndex(options[\"Maturity\"])\n"
     ]
    }
   ],
   "source": [
    "# Option Selection\n",
    "\n",
    "tol = 0.02  # Tolerance level to select ATM options (percent around ITM/OTM options)\n",
    "options = data[(np.abs(data[\"Strike\"] - S0) / S0) < tol]\n",
    "options[\"Date\"] = pd.DatetimeIndex(options[\"Date\"])\n",
    "options[\"Maturity\"] = pd.DatetimeIndex(options[\"Maturity\"])"
   ]
  },
  {
   "cell_type": "code",
   "execution_count": 11,
   "metadata": {},
   "outputs": [
    {
     "name": "stdout",
     "output_type": "stream",
     "text": [
      "<class 'pandas.core.frame.DataFrame'>\n",
      "Index: 15 entries, 38 to 460\n",
      "Data columns (total 5 columns):\n",
      " #   Column    Non-Null Count  Dtype         \n",
      "---  ------    --------------  -----         \n",
      " 0   Date      15 non-null     datetime64[ns]\n",
      " 1   Strike    15 non-null     float64       \n",
      " 2   Call      15 non-null     float64       \n",
      " 3   Maturity  15 non-null     datetime64[ns]\n",
      " 4   Put       15 non-null     float64       \n",
      "dtypes: datetime64[ns](2), float64(3)\n",
      "memory usage: 720.0 bytes\n"
     ]
    }
   ],
   "source": [
    "options.info()"
   ]
  },
  {
   "cell_type": "markdown",
   "metadata": {
    "id": "UCZfWViHKu37"
   },
   "source": [
    "Then, we add time left until maturity and a constant risk-free rate:"
   ]
  },
  {
   "cell_type": "code",
   "execution_count": 12,
   "metadata": {
    "colab": {
     "base_uri": "https://localhost:8080/"
    },
    "executionInfo": {
     "elapsed": 15,
     "status": "ok",
     "timestamp": 1664398422984,
     "user": {
      "displayName": "Ivan Blanco",
      "userId": "11863287364861133555"
     },
     "user_tz": -120
    },
    "id": "UXbO3hktKiqb",
    "outputId": "6226252a-e9f7-439e-98bb-acd37cb4e5c2"
   },
   "outputs": [
    {
     "name": "stderr",
     "output_type": "stream",
     "text": [
      "C:\\Users\\USER\\AppData\\Local\\Temp\\ipykernel_22276\\408122595.py:5: SettingWithCopyWarning: \n",
      "A value is trying to be set on a copy of a slice from a DataFrame.\n",
      "Try using .loc[row_indexer,col_indexer] = value instead\n",
      "\n",
      "See the caveats in the documentation: https://pandas.pydata.org/pandas-docs/stable/user_guide/indexing.html#returning-a-view-versus-a-copy\n",
      "  options.loc[row, \"T\"] = T\n",
      "C:\\Users\\USER\\AppData\\Local\\Temp\\ipykernel_22276\\408122595.py:6: SettingWithCopyWarning: \n",
      "A value is trying to be set on a copy of a slice from a DataFrame.\n",
      "Try using .loc[row_indexer,col_indexer] = value instead\n",
      "\n",
      "See the caveats in the documentation: https://pandas.pydata.org/pandas-docs/stable/user_guide/indexing.html#returning-a-view-versus-a-copy\n",
      "  options.loc[row, \"r\"] = 0.005  # ECB base rate\n"
     ]
    }
   ],
   "source": [
    "# Adding Time-to-Maturity and constant short-rates\n",
    "\n",
    "for row, option in options.iterrows():\n",
    "    T = (option[\"Maturity\"] - option[\"Date\"]).days / 365.0\n",
    "    options.loc[row, \"T\"] = T\n",
    "    options.loc[row, \"r\"] = 0.005  # ECB base rate"
   ]
  },
  {
   "cell_type": "code",
   "execution_count": 13,
   "metadata": {
    "colab": {
     "base_uri": "https://localhost:8080/",
     "height": 206
    },
    "executionInfo": {
     "elapsed": 10,
     "status": "ok",
     "timestamp": 1664398422984,
     "user": {
      "displayName": "Ivan Blanco",
      "userId": "11863287364861133555"
     },
     "user_tz": -120
    },
    "id": "3aY26egzKr67",
    "outputId": "a310f841-25a7-4e05-db32-00319cf83f6a"
   },
   "outputs": [
    {
     "data": {
      "application/vnd.microsoft.datawrangler.viewer.v0+json": {
       "columns": [
        {
         "name": "index",
         "rawType": "int64",
         "type": "integer"
        },
        {
         "name": "Date",
         "rawType": "datetime64[ns]",
         "type": "datetime"
        },
        {
         "name": "Strike",
         "rawType": "float64",
         "type": "float"
        },
        {
         "name": "Call",
         "rawType": "float64",
         "type": "float"
        },
        {
         "name": "Maturity",
         "rawType": "datetime64[ns]",
         "type": "datetime"
        },
        {
         "name": "Put",
         "rawType": "float64",
         "type": "float"
        },
        {
         "name": "T",
         "rawType": "float64",
         "type": "float"
        },
        {
         "name": "r",
         "rawType": "float64",
         "type": "float"
        }
       ],
       "ref": "49dae6e6-3f27-4883-9269-65181b271c8b",
       "rows": [
        [
         "38",
         "2014-09-30 00:00:00",
         "3175.0",
         "126.8",
         "2014-12-19 00:00:00",
         "78.8",
         "0.2191780821917808",
         "0.005"
        ],
        [
         "39",
         "2014-09-30 00:00:00",
         "3200.0",
         "110.9",
         "2014-12-19 00:00:00",
         "87.9",
         "0.2191780821917808",
         "0.005"
        ],
        [
         "40",
         "2014-09-30 00:00:00",
         "3225.0",
         "96.1",
         "2014-12-19 00:00:00",
         "98.1",
         "0.2191780821917808",
         "0.005"
        ],
        [
         "41",
         "2014-09-30 00:00:00",
         "3250.0",
         "82.3",
         "2014-12-19 00:00:00",
         "109.3",
         "0.2191780821917808",
         "0.005"
        ],
        [
         "42",
         "2014-09-30 00:00:00",
         "3275.0",
         "69.6",
         "2014-12-19 00:00:00",
         "121.6",
         "0.2191780821917808",
         "0.005"
        ]
       ],
       "shape": {
        "columns": 7,
        "rows": 5
       }
      },
      "text/html": [
       "<div>\n",
       "<style scoped>\n",
       "    .dataframe tbody tr th:only-of-type {\n",
       "        vertical-align: middle;\n",
       "    }\n",
       "\n",
       "    .dataframe tbody tr th {\n",
       "        vertical-align: top;\n",
       "    }\n",
       "\n",
       "    .dataframe thead th {\n",
       "        text-align: right;\n",
       "    }\n",
       "</style>\n",
       "<table border=\"1\" class=\"dataframe\">\n",
       "  <thead>\n",
       "    <tr style=\"text-align: right;\">\n",
       "      <th></th>\n",
       "      <th>Date</th>\n",
       "      <th>Strike</th>\n",
       "      <th>Call</th>\n",
       "      <th>Maturity</th>\n",
       "      <th>Put</th>\n",
       "      <th>T</th>\n",
       "      <th>r</th>\n",
       "    </tr>\n",
       "  </thead>\n",
       "  <tbody>\n",
       "    <tr>\n",
       "      <th>38</th>\n",
       "      <td>2014-09-30</td>\n",
       "      <td>3175.0</td>\n",
       "      <td>126.8</td>\n",
       "      <td>2014-12-19</td>\n",
       "      <td>78.8</td>\n",
       "      <td>0.219178</td>\n",
       "      <td>0.005</td>\n",
       "    </tr>\n",
       "    <tr>\n",
       "      <th>39</th>\n",
       "      <td>2014-09-30</td>\n",
       "      <td>3200.0</td>\n",
       "      <td>110.9</td>\n",
       "      <td>2014-12-19</td>\n",
       "      <td>87.9</td>\n",
       "      <td>0.219178</td>\n",
       "      <td>0.005</td>\n",
       "    </tr>\n",
       "    <tr>\n",
       "      <th>40</th>\n",
       "      <td>2014-09-30</td>\n",
       "      <td>3225.0</td>\n",
       "      <td>96.1</td>\n",
       "      <td>2014-12-19</td>\n",
       "      <td>98.1</td>\n",
       "      <td>0.219178</td>\n",
       "      <td>0.005</td>\n",
       "    </tr>\n",
       "    <tr>\n",
       "      <th>41</th>\n",
       "      <td>2014-09-30</td>\n",
       "      <td>3250.0</td>\n",
       "      <td>82.3</td>\n",
       "      <td>2014-12-19</td>\n",
       "      <td>109.3</td>\n",
       "      <td>0.219178</td>\n",
       "      <td>0.005</td>\n",
       "    </tr>\n",
       "    <tr>\n",
       "      <th>42</th>\n",
       "      <td>2014-09-30</td>\n",
       "      <td>3275.0</td>\n",
       "      <td>69.6</td>\n",
       "      <td>2014-12-19</td>\n",
       "      <td>121.6</td>\n",
       "      <td>0.219178</td>\n",
       "      <td>0.005</td>\n",
       "    </tr>\n",
       "  </tbody>\n",
       "</table>\n",
       "</div>"
      ],
      "text/plain": [
       "         Date  Strike   Call   Maturity    Put         T      r\n",
       "38 2014-09-30  3175.0  126.8 2014-12-19   78.8  0.219178  0.005\n",
       "39 2014-09-30  3200.0  110.9 2014-12-19   87.9  0.219178  0.005\n",
       "40 2014-09-30  3225.0   96.1 2014-12-19   98.1  0.219178  0.005\n",
       "41 2014-09-30  3250.0   82.3 2014-12-19  109.3  0.219178  0.005\n",
       "42 2014-09-30  3275.0   69.6 2014-12-19  121.6  0.219178  0.005"
      ]
     },
     "execution_count": 13,
     "metadata": {},
     "output_type": "execute_result"
    }
   ],
   "source": [
    "options.head()"
   ]
  },
  {
   "cell_type": "markdown",
   "metadata": {
    "id": "GO6NDBsOLHVu"
   },
   "source": [
    "### **2.2. Defining Error Functions**\n",
    "\n",
    "Once we have options market data that we have to \"match\" with our model, our next step is to define an error function for the specific case of the Merton model. \n",
    "\n",
    "In this case, we will use the Root Mean Squared Error (RMSE) as a measure. This is basically defined as:\n",
    "\n",
    "\\begin{equation*}\n",
    "    RMSE = \\sqrt{\\frac{1}{N}\\sum_{n=1}^N \\left( C^*_n - C^{M76}_n\\right)^2}\n",
    "\\end{equation*}\n",
    "\n",
    "\\\n",
    "where $C^*$ is observed market prices and $C^{M76}$ are the values produced by Merton's (1976) model."
   ]
  },
  {
   "cell_type": "code",
   "execution_count": 14,
   "metadata": {
    "executionInfo": {
     "elapsed": 9,
     "status": "ok",
     "timestamp": 1664398422985,
     "user": {
      "displayName": "Ivan Blanco",
      "userId": "11863287364861133555"
     },
     "user_tz": -120
    },
    "id": "dj1_XUAAPfVL"
   },
   "outputs": [],
   "source": [
    "i = 0\n",
    "min_RMSE = 100"
   ]
  },
  {
   "cell_type": "code",
   "execution_count": 15,
   "metadata": {
    "executionInfo": {
     "elapsed": 9,
     "status": "ok",
     "timestamp": 1664398422985,
     "user": {
      "displayName": "Ivan Blanco",
      "userId": "11863287364861133555"
     },
     "user_tz": -120
    },
    "id": "RMPErAj_KyuZ"
   },
   "outputs": [],
   "source": [
    "def M76_error_function(p0):\n",
    "    \"\"\"\n",
    "    Error function for parameter calibration in Merton'76 model\n",
    "    ---------------\n",
    "    Parameters to calibrate:\n",
    "    sigma: float\n",
    "          volatility factor in diffusion term\n",
    "    lambda: float\n",
    "          jump intensity\n",
    "    mu: float\n",
    "          expected jump size\n",
    "    delta: float\n",
    "          standard deviation of jump\n",
    "    ----------------\n",
    "    RMSE: Root Mean Squared Error\n",
    "    \"\"\"\n",
    "    global i, min_RMSE\n",
    "    sigma, lamb, mu, delta = p0\n",
    "\n",
    "    if sigma < 0.0 or delta < 0.0 or lamb < 0.0:\n",
    "        return 500.0\n",
    "    se = []\n",
    "\n",
    "    for row, option in options.iterrows():\n",
    "        model_value = M76_call_value(\n",
    "            S0, option[\"Strike\"], option[\"T\"], option[\"r\"], sigma, lamb, mu, delta\n",
    "        )\n",
    "        se.append((model_value - option[\"Call\"]) ** 2)\n",
    "\n",
    "    RMSE = np.sqrt(sum(se) / len(se))\n",
    "    min_RMSE = min(min_RMSE, RMSE)\n",
    "    if i % 50 == 0:\n",
    "        print(\"%4d |\" % i, np.array(p0), \"| %7.3f | %7.3f\" % (RMSE, min_RMSE))\n",
    "    i += 1\n",
    "    return RMSE"
   ]
  },
  {
   "cell_type": "markdown",
   "metadata": {
    "id": "0tt66yHGOgmp"
   },
   "source": [
    "### **2.3. Calibration Function**\n",
    "\n",
    "Next, we need to create our calibration function. This follows the same logic as in the case of Heston from the previous module. For illustrative purposes, let's set a somewhat high tolerance level so that the optimization does not convey time. By the end of this module, we will dig deeper into the different issues that arise when accurately calibrating a model."
   ]
  },
  {
   "cell_type": "code",
   "execution_count": 16,
   "metadata": {
    "executionInfo": {
     "elapsed": 9,
     "status": "ok",
     "timestamp": 1664398422986,
     "user": {
      "displayName": "Ivan Blanco",
      "userId": "11863287364861133555"
     },
     "user_tz": -120
    },
    "id": "zWmGTjSlNvvh"
   },
   "outputs": [],
   "source": [
    "def M76_calibration_full():\n",
    "    \"\"\"\n",
    "    Calibrates Merton (1976) stochastic volatility model to market quotes\n",
    "    \"\"\"\n",
    "    # First run with brute force\n",
    "    # (scan sensible regions, for faster convergence)\n",
    "    p0 = brute(\n",
    "        M76_error_function,\n",
    "        (\n",
    "            (0.075, 0.201, 0.025),  # sigma\n",
    "            (0.10, 0.401, 0.1),  # lambda\n",
    "            (-0.5, 0.01, 0.1),  # mu\n",
    "            (0.10, 0.301, 0.1),\n",
    "        ),  # delta\n",
    "        finish=None,\n",
    "    )\n",
    "\n",
    "    # Second run with local, convex minimization\n",
    "    # (we dig deeper where promising results)\n",
    "    opt = fmin(\n",
    "        M76_error_function, p0, xtol=0.0001, ftol=0.0001, maxiter=550, maxfun=1050\n",
    "    )\n",
    "    return opt"
   ]
  },
  {
   "cell_type": "code",
   "execution_count": 17,
   "metadata": {
    "colab": {
     "base_uri": "https://localhost:8080/"
    },
    "executionInfo": {
     "elapsed": 35150,
     "status": "ok",
     "timestamp": 1664398458127,
     "user": {
      "displayName": "Ivan Blanco",
      "userId": "11863287364861133555"
     },
     "user_tz": -120
    },
    "id": "4A1OS7oFO6TL",
    "outputId": "66d49d57-5d65-4065-f6b3-844db156070a"
   },
   "outputs": [
    {
     "name": "stdout",
     "output_type": "stream",
     "text": [
      "   0 | [ 0.075  0.1   -0.5    0.1  ] |  31.540 |  31.540\n",
      "  50 | [ 0.075  0.3   -0.1    0.3  ] |  22.852 |  11.298\n",
      " 100 | [ 0.1  0.2 -0.2  0.2] |  19.922 |   8.654\n",
      " 150 | [ 0.125  0.1   -0.3    0.1  ] |  10.704 |   5.571\n",
      " 200 | [ 0.125  0.4   -0.5    0.3  ] |  55.500 |   4.662\n",
      " 250 | [0.15 0.2  0.   0.2 ] |   6.619 |   3.586\n",
      " 300 | [ 0.175  0.1   -0.1    0.1  ] |  14.171 |   3.586\n",
      " 350 | [ 0.175  0.4   -0.3    0.3  ] |  54.376 |   3.586\n",
      " 400 | [ 0.2  0.3 -0.4  0.2] |  63.380 |   3.586\n",
      " 450 | [ 0.14702168  0.19533978 -0.10189428  0.10218084] |   3.495 |   3.428\n",
      " 500 | [ 0.14987758  0.11503181 -0.14398098  0.09850597] |   3.401 |   3.401\n",
      " 550 | [ 0.15597729  0.01124105 -0.20255149  0.07785796] |   3.359 |   3.359\n",
      " 600 | [ 0.15617567  0.00947711 -0.20364524  0.07721602] |   3.358 |   3.358\n",
      "Optimization terminated successfully.\n",
      "         Current function value: 3.358419\n",
      "         Iterations: 107\n",
      "         Function evaluations: 183\n"
     ]
    }
   ],
   "source": [
    "opt = M76_calibration_full()"
   ]
  },
  {
   "cell_type": "markdown",
   "metadata": {
    "id": "xg8LzEx_qTyz"
   },
   "source": [
    "### **2.4. Plotting Results of Calibration**\n",
    "\n",
    "Finally, let's see how our model calibration performs graphically. For this, we will create a function that plots the different estimates together with the observed market prices. Given that our dataset has option market prices for 3 different maturities, we will also check the performance of the calibration for the different maturities:"
   ]
  },
  {
   "cell_type": "code",
   "execution_count": 18,
   "metadata": {
    "executionInfo": {
     "elapsed": 3,
     "status": "ok",
     "timestamp": 1664398458127,
     "user": {
      "displayName": "Ivan Blanco",
      "userId": "11863287364861133555"
     },
     "user_tz": -120
    },
    "id": "OnVoChOcPQLV"
   },
   "outputs": [],
   "source": [
    "def generate_plot(opt, options):\n",
    "    # First, we calculate model prices\n",
    "    sigma, lamb, mu, delta = opt\n",
    "    options[\"Model\"] = 0.0\n",
    "    for row, option in options.iterrows():\n",
    "        options.loc[row, \"Model\"] = M76_call_value(\n",
    "            S0, option[\"Strike\"], option[\"T\"], option[\"r\"], sigma, lamb, mu, delta\n",
    "        )\n",
    "\n",
    "    # Second, we plot\n",
    "    mats = sorted(set(options[\"Maturity\"]))\n",
    "    options = options.set_index(\"Strike\")\n",
    "    for i, mat in enumerate(mats):\n",
    "        options[options[\"Maturity\"] == mat][[\"Call\", \"Model\"]].plot(\n",
    "            style=[\"b-\", \"ro\"], title=\"%s\" % str(mat)[:10]\n",
    "        )\n",
    "        plt.ylabel(\"Option Value\")"
   ]
  },
  {
   "cell_type": "code",
   "execution_count": 19,
   "metadata": {
    "colab": {
     "base_uri": "https://localhost:8080/",
     "height": 1000
    },
    "executionInfo": {
     "elapsed": 1130,
     "status": "ok",
     "timestamp": 1664398459254,
     "user": {
      "displayName": "Ivan Blanco",
      "userId": "11863287364861133555"
     },
     "user_tz": -120
    },
    "id": "IH0z5U9EqxBc",
    "outputId": "ae515c27-f589-4d8d-bc60-1fa970593d3e"
   },
   "outputs": [
    {
     "name": "stderr",
     "output_type": "stream",
     "text": [
      "C:\\Users\\USER\\AppData\\Local\\Temp\\ipykernel_22276\\2354733322.py:4: SettingWithCopyWarning: \n",
      "A value is trying to be set on a copy of a slice from a DataFrame.\n",
      "Try using .loc[row_indexer,col_indexer] = value instead\n",
      "\n",
      "See the caveats in the documentation: https://pandas.pydata.org/pandas-docs/stable/user_guide/indexing.html#returning-a-view-versus-a-copy\n",
      "  options[\"Model\"] = 0.0\n"
     ]
    },
    {
     "data": {
      "image/png": "[encoded data removed]",
      "text/plain": [
       "<Figure size 640x480 with 1 Axes>"
      ]
     },
     "metadata": {},
     "output_type": "display_data"
    },
    {
     "data": {
      "image/png": "[encoded data removed]",
      "text/plain": [
       "<Figure size 640x480 with 1 Axes>"
      ]
     },
     "metadata": {},
     "output_type": "display_data"
    },
    {
     "data": {
      "image/png": "[encoded data removed]",
      "text/plain": [
       "<Figure size 640x480 with 1 Axes>"
      ]
     },
     "metadata": {},
     "output_type": "display_data"
    }
   ],
   "source": [
    "generate_plot(opt, options)"
   ]
  },
  {
   "cell_type": "markdown",
   "metadata": {
    "id": "aP5l6Zg1txWT"
   },
   "source": [
    "## **3. Conclusion**\n",
    "\n",
    "This is all regarding Merton (1976) model calibration. We have basically repeated the process of the last module with Heston (1993) and adapted things to the Merton jump diffusion model. \n",
    "\n",
    "Now that you know how to properly calibrate somewhat simple models, we are going to make a step forward and look at a more complex one. Ideally, a model would incorporate stochastic volatility features present in Heston (1993), with the jump diffusion of Merton (1976). The question is, can we build a model that incorporates both of these desirable characteristics?\n",
    "\n",
    "The answer is yes, and that's what we will begin to explore in the next lesson.\n",
    "\n",
    "\\\n",
    "**References**\n",
    "\n",
    "- Hilpisch, Yves. *Derivatives Analytics with Python: Data Analysis, Models, Simulation, Calibration and Hedging.* John Wiley & Sons, 2015."
   ]
  },
  {
   "cell_type": "markdown",
   "metadata": {
    "deletable": false,
    "editable": false
   },
   "source": [
    "---\n",
    "Copyright 2025 WorldQuant University. This\n",
    "content is licensed solely for personal use. Redistribution or\n",
    "publication of this material is strictly prohibited.\n"
   ]
  },
  {
   "cell_type": "markdown",
   "metadata": {},
   "source": []
  },
  {
   "cell_type": "markdown",
   "metadata": {},
   "source": []
  },
  {
   "cell_type": "markdown",
   "metadata": {},
   "source": []
  }
 ],
 "metadata": {
  "colab": {
   "collapsed_sections": [],
   "provenance": []
  },
  "kernelspec": {
   "display_name": "msc_FE",
   "language": "python",
   "name": "python3"
  },
  "language_info": {
   "codemirror_mode": {
    "name": "ipython",
    "version": 3
   },
   "file_extension": ".py",
   "mimetype": "text/x-python",
   "name": "python",
   "nbconvert_exporter": "python",
   "pygments_lexer": "ipython3",
   "version": "3.12.4"
  }
 },
 "nbformat": 4,
 "nbformat_minor": 4
}
