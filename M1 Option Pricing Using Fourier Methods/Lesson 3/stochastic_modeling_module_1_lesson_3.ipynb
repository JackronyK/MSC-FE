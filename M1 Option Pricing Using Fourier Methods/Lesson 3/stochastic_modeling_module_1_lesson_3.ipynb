{
 "cells": [
  {
   "cell_type": "markdown",
   "metadata": {
    "id": "wbdl2MJGZifz"
   },
   "source": [
    "## STOCHASTIC MODELING\n",
    "MODULE 1 | LESSON 3\n",
    "\n",
    "\n",
    "---\n"
   ]
  },
  {
   "cell_type": "markdown",
   "metadata": {
    "id": "R-Lyb-5iZnu6"
   },
   "source": [
    "# **FOURIER-BASED OPTION PRICING** "
   ]
  },
  {
   "cell_type": "markdown",
   "metadata": {
    "id": "gAQWf79oZun1"
   },
   "source": [
    "\n",
    "|  |  |\n",
    "|:---|:---|\n",
    "|**Reading Time** |  100 minutes |\n",
    "|**Prior Knowledge** | Black-Scholes, Fourier transform, Characteristic function  |\n",
    "|**Keywords** | Characteristic function, Lewis, FFT |\n",
    "\n",
    "\n",
    "---"
   ]
  },
  {
   "cell_type": "markdown",
   "metadata": {
    "id": "bXtf2x6Swdlb"
   },
   "source": [
    "*In this first lesson of the Stochastic Modeling course, we will check the usefulness of **Fourier transform** methods for option pricing. We will do so in a setting that is already very familiar to us: the Black-Scholes model. Most of the code in this notebook is based on and adapted from Hilpisch.*\n",
    "\n",
    "To start, let's import the necessary libraries:"
   ]
  },
  {
   "cell_type": "code",
   "execution_count": 1,
   "metadata": {
    "id": "c5RAXHRBy-Di"
   },
   "outputs": [],
   "source": [
    "import numpy as np\n",
    "from numpy.fft import fft\n",
    "from scipy import stats\n",
    "from scipy.integrate import quad"
   ]
  },
  {
   "cell_type": "markdown",
   "metadata": {
    "id": "ET51Zg-ITAAu"
   },
   "source": [
    "We are going to check the different European call option prices we obtain under the different methods. This will allow us to compare not only the final outcome but also the speed of the algorithms, which will be key in a real-life setting. \n",
    "\n",
    "For this pricing exercise, let's think of a European call option with the following parameters:<span style='color: transparent; font-size:1%'>All rights reserved WQU WorldQuant University QQQQ</span>"
   ]
  },
  {
   "cell_type": "code",
   "execution_count": 2,
   "metadata": {
    "id": "i0duQDNjS_aI"
   },
   "outputs": [],
   "source": [
    "S0 = 100\n",
    "K = 100\n",
    "T = 1\n",
    "r = 0.05\n",
    "sigma = 0.2"
   ]
  },
  {
   "cell_type": "markdown",
   "metadata": {
    "id": "Ap9uQIOfRySn"
   },
   "source": [
    "## **1. Analytical Solution to BS Model**\n",
    "\n",
    "We will start with the already known analytical solution to the BS model:"
   ]
  },
  {
   "cell_type": "code",
   "execution_count": 3,
   "metadata": {
    "id": "ATx9-45AT71i"
   },
   "outputs": [],
   "source": [
    "def BS_analytic_call(S0, K, T, r, sigma):\n",
    "    \"\"\"This function will provide the closed-form solution\n",
    "    to the European Call Option price based on BS formula\n",
    "    \"\"\"\n",
    "\n",
    "    d1 = (np.log(S0 / K) + (r + 0.5 * sigma**2) * T) / (sigma * np.sqrt(T))\n",
    "    d2 = (np.log(S0 / K) + (r - 0.5 * sigma**2) * T) / (sigma * np.sqrt(T))\n",
    "\n",
    "    bs_call = S0 * stats.norm.cdf(d1, 0.0, 1.0) - K * np.exp(-r * T) * stats.norm.cdf(\n",
    "        d2, 0.0, 1.0\n",
    "    )\n",
    "\n",
    "    return bs_call"
   ]
  },
  {
   "cell_type": "code",
   "execution_count": 4,
   "metadata": {
    "colab": {
     "base_uri": "https://localhost:8080/"
    },
    "executionInfo": {
     "elapsed": 251,
     "status": "ok",
     "timestamp": 1660756534902,
     "user": {
      "displayName": "Maurizio Tiso",
      "userId": "16427352648509308808"
     },
     "user_tz": 420
    },
    "id": "aKP-t8zBU9X6",
    "outputId": "c8b89f76-1656-4dcd-a30e-d39d7976405c"
   },
   "outputs": [
    {
     "name": "stdout",
     "output_type": "stream",
     "text": [
      " BS Analytical Call Option price will be $ 10.4506\n"
     ]
    }
   ],
   "source": [
    "print(\n",
    "    \" BS Analytical Call Option price will be $\",\n",
    "    BS_analytic_call(S0, K, T, r, sigma).round(4),\n",
    ")"
   ]
  },
  {
   "cell_type": "markdown",
   "metadata": {
    "id": "3J4Du81MWJaT"
   },
   "source": [
    "## **2. Fourier Transform as in Lewis**\n",
    "\n",
    "Next, we will deal with Lewis's approach to obtaining a semi-analytical solution to the price of the option via Fourier methods. As you know already, this method requires a bunch of things to know ex-ante:\n",
    "\n",
    "### **2.1 Black-Scholes Characteristic Function**\n",
    "\n",
    "Fourier pricing methods require that we know the characteristic function of the process $S_t$ (or some form of it like $s_t = log S_t$). In the case of a BS model (without dividends), the characteristic function is given by:\n",
    "\n",
    "$$\n",
    "\\begin{equation*}\n",
    "  \\varphi^{BS} (u, T) = e^{((r-\\frac{\\sigma^2}{2})iu - \\frac{\\sigma^2}{2}u^2)T}\n",
    "\\end{equation*}\n",
    "$$\n",
    "\n",
    "Let's implement a function for it:"
   ]
  },
  {
   "cell_type": "code",
   "execution_count": 5,
   "metadata": {
    "id": "Uundg1LVVrqJ"
   },
   "outputs": [],
   "source": [
    "def BS_characteristic_func(v, x0, T, r, sigma):\n",
    "    \"\"\"Computes general Black-Scholes model characteristic function\n",
    "    to be used in Fourier pricing methods like Lewis (2001) and Carr-Madan (1999)\n",
    "    \"\"\"\n",
    "\n",
    "    cf_value = np.exp(\n",
    "        ((x0 / T + r - 0.5 * sigma**2) * 1j * v - 0.5 * sigma**2 * v**2) * T\n",
    "    )\n",
    "\n",
    "    return cf_value"
   ]
  },
  {
   "cell_type": "markdown",
   "metadata": {
    "id": "tijf-lEoaoM5"
   },
   "source": [
    "### **2.2 Integral Value in Lewis**\n",
    "\n",
    "We also need to get a value for the integral in Lewis:\n",
    "\n",
    "$$\n",
    "\\begin{equation*}\n",
    "    C_0 = S_0 - \\frac{\\sqrt{S_0 K} e^{-rT}}{\\pi} \\int_{0}^{\\infty} \\mathbf{Re}[e^{izk} \\varphi(z-i/2)] \\frac{dz}{z^2+1/4}\n",
    "\\end{equation*}\n",
    "$$\n",
    "\n",
    "We will next compute a function for what's inside the integral:"
   ]
  },
  {
   "cell_type": "code",
   "execution_count": 6,
   "metadata": {
    "id": "vGibvQwKZngk"
   },
   "outputs": [],
   "source": [
    "def BS_integral(u, S0, K, T, r, sigma):\n",
    "    \"\"\"Expression for the integral in Lewis (2001)\"\"\"\n",
    "\n",
    "    cf_value = BS_characteristic_func(u - 1j * 0.5, 0.0, T, r, sigma)\n",
    "\n",
    "    int_value = (\n",
    "        1 / (u**2 + 0.25) * (np.exp(1j * u * (np.log(S0 / K))) * cf_value).real\n",
    "    )\n",
    "\n",
    "    return int_value"
   ]
  },
  {
   "cell_type": "markdown",
   "metadata": {
    "id": "U5BkPTaUcViI"
   },
   "source": [
    "### **2.3 Calculating the Value of the Integral and Putting It All Together**\n",
    "\n",
    "Now we can put everything together. Note, that we will need to numerically compute the value of the aforementioned integral. There are different methods to do that. For now, we will use the quadrature method (*quad*) included in the scipy package:\n",
    "https://docs.scipy.org/doc/scipy/reference/generated/scipy.integrate.quad.html\n",
    "\n"
   ]
  },
  {
   "cell_type": "code",
   "execution_count": 12,
   "metadata": {
    "id": "OD6ZqYcucQjv"
   },
   "outputs": [],
   "source": [
    "def BS_call_Lewis(S0, K, T, r, sigma):\n",
    "    \"\"\"European Call option price in BS under Lewis (2001)\"\"\"\n",
    "\n",
    "    int_value = quad(lambda u: BS_integral(u, S0, K, T, r, sigma), 0, 100)[0]\n",
    "\n",
    "    call_value = max(0, S0 - np.exp(-r * T) * (np.sqrt(S0 * K)) / np.pi * int_value)\n",
    "\n",
    "    return call_value"
   ]
  },
  {
   "cell_type": "code",
   "execution_count": 10,
   "metadata": {},
   "outputs": [
    {
     "data": {
      "text/plain": [
       "4.5"
      ]
     },
     "execution_count": 10,
     "metadata": {},
     "output_type": "execute_result"
    }
   ],
   "source": [
    "quad(lambda x: x, 0, 3)[0]"
   ]
  },
  {
   "cell_type": "code",
   "execution_count": 13,
   "metadata": {
    "colab": {
     "base_uri": "https://localhost:8080/"
    },
    "executionInfo": {
     "elapsed": 292,
     "status": "ok",
     "timestamp": 1660756598814,
     "user": {
      "displayName": "Maurizio Tiso",
      "userId": "16427352648509308808"
     },
     "user_tz": 420
    },
    "id": "OvxWN-hggiuS",
    "outputId": "d8606928-33b4-4663-f3af-bb04eb1cfc7b"
   },
   "outputs": [
    {
     "name": "stdout",
     "output_type": "stream",
     "text": [
      " Fourier Call Option price under Lewis (2001) is $ 10.4506\n"
     ]
    }
   ],
   "source": [
    "print(\n",
    "    \" Fourier Call Option price under Lewis (2001) is $\",\n",
    "    BS_call_Lewis(S0, K, T, r, sigma).round(4),\n",
    ")"
   ]
  },
  {
   "cell_type": "markdown",
   "metadata": {
    "id": "TgghQCtuHrFT"
   },
   "source": [
    "## **3. Fast Fourier Transform (FFT) for Option Pricing**\n",
    "\n",
    "Next, we are going to see how Fast Fourier Transform (FFT) could also be implemented in this context. We have briefly seen the FFT method in the slides, so this section is merely aimed at pointing out that we can use several methods to implement Fourier option pricing. You will learn more about the specifics of the FFT method in Lesson 3 of the course. Also, you can check the additional materials and readings provided. To perform FFT, we will use the 'fft' function included in the numpy library:\n",
    "https://numpy.org/doc/stable/reference/routines.fft.html\n"
   ]
  },
  {
   "cell_type": "code",
   "execution_count": 14,
   "metadata": {
    "id": "yhRZa6cHjnKd"
   },
   "outputs": [],
   "source": [
    "def BS_call_FFT(S0, K, T, r, sigma):\n",
    "    \"\"\"European Call option price in BS under FFT\"\"\"\n",
    "\n",
    "    k = np.log(K / S0)\n",
    "    x0 = np.log(S0 / S0)\n",
    "    g = 1  # Factor to increase accuracy\n",
    "    N = g * 4096\n",
    "    eps = (g * 150) ** -1\n",
    "    eta = 2 * np.pi / (N * eps)\n",
    "    b = 0.5 * N * eps - k\n",
    "    u = np.arange(1, N + 1, 1)\n",
    "    vo = eta * (u - 1)\n",
    "\n",
    "    # Modifications to ensure integrability\n",
    "    if S0 >= 0.95 * K:  # ITM Case\n",
    "        alpha = 1.5\n",
    "        v = vo - (alpha + 1) * 1j\n",
    "        modcharFunc = np.exp(-r * T) * (\n",
    "            BS_characteristic_func(v, x0, T, r, sigma)\n",
    "            / (alpha**2 + alpha - vo**2 + 1j * (2 * alpha + 1) * vo)\n",
    "        )\n",
    "\n",
    "    else:\n",
    "        alpha = 1.1\n",
    "        v = (vo - 1j * alpha) - 1j\n",
    "        modcharFunc1 = np.exp(-r * T) * (\n",
    "            1 / (1 + 1j * (vo - 1j * alpha))\n",
    "            - np.exp(r * T) / (1j * (vo - 1j * alpha))\n",
    "            - BS_characteristic_func(v, x0, T, r, sigma)\n",
    "            / ((vo - 1j * alpha) ** 2 - 1j * (vo - 1j * alpha))\n",
    "        )\n",
    "\n",
    "        v = (vo + 1j * alpha) - 1j\n",
    "\n",
    "        modcharFunc2 = np.exp(-r * T) * (\n",
    "            1 / (1 + 1j * (vo + 1j * alpha))\n",
    "            - np.exp(r * T) / (1j * (vo + 1j * alpha))\n",
    "            - BS_characteristic_func(v, x0, T, r, sigma)\n",
    "            / ((vo + 1j * alpha) ** 2 - 1j * (vo + 1j * alpha))\n",
    "        )\n",
    "\n",
    "    # Numerical FFT Routine\n",
    "    delt = np.zeros(N)\n",
    "    delt[0] = 1\n",
    "    j = np.arange(1, N + 1, 1)\n",
    "    SimpsonW = (3 + (-1) ** j - delt) / 3\n",
    "    if S0 >= 0.95 * K:\n",
    "        FFTFunc = np.exp(1j * b * vo) * modcharFunc * eta * SimpsonW\n",
    "        payoff = (fft(FFTFunc)).real\n",
    "        CallValueM = np.exp(-alpha * k) / np.pi * payoff\n",
    "    else:\n",
    "        FFTFunc = (\n",
    "            np.exp(1j * b * vo) * (modcharFunc1 - modcharFunc2) * 0.5 * eta * SimpsonW\n",
    "        )\n",
    "        payoff = (fft(FFTFunc)).real\n",
    "        CallValueM = payoff / (np.sinh(alpha * k) * np.pi)\n",
    "\n",
    "    pos = int((k + b) / eps)\n",
    "    CallValue = CallValueM[pos] * S0\n",
    "\n",
    "    return CallValue"
   ]
  },
  {
   "cell_type": "code",
   "execution_count": 15,
   "metadata": {
    "colab": {
     "base_uri": "https://localhost:8080/"
    },
    "executionInfo": {
     "elapsed": 10,
     "status": "ok",
     "timestamp": 1660756636393,
     "user": {
      "displayName": "Maurizio Tiso",
      "userId": "16427352648509308808"
     },
     "user_tz": 420
    },
    "id": "lMTGdQxgbQo4",
    "outputId": "e1bcb329-e864-412c-fe11-1cc7465e03d9"
   },
   "outputs": [
    {
     "name": "stdout",
     "output_type": "stream",
     "text": [
      " Fourier Call Option price via FFT is $ 10.4506\n"
     ]
    }
   ],
   "source": [
    "print(\n",
    "    \" Fourier Call Option price via FFT is $\", BS_call_FFT(S0, K, T, r, sigma).round(4)\n",
    ")"
   ]
  },
  {
   "cell_type": "markdown",
   "metadata": {
    "id": "Ji2tew3xcFhm"
   },
   "source": [
    "## **4. Execution Time**\n",
    "\n",
    "As you have seen, the three methods yield the same European option price. There are, however, differences in the execution time related to each. Let's explore this:"
   ]
  },
  {
   "cell_type": "code",
   "execution_count": 16,
   "metadata": {
    "id": "2uT1ksVybchP"
   },
   "outputs": [],
   "source": [
    "import datetime"
   ]
  },
  {
   "cell_type": "code",
   "execution_count": 17,
   "metadata": {
    "colab": {
     "base_uri": "https://localhost:8080/"
    },
    "executionInfo": {
     "elapsed": 228,
     "status": "ok",
     "timestamp": 1660756641916,
     "user": {
      "displayName": "Maurizio Tiso",
      "userId": "16427352648509308808"
     },
     "user_tz": 420
    },
    "id": "ihOEFxYGcRUm",
    "outputId": "c64dcd22-3332-4982-b710-ac2033af1f98"
   },
   "outputs": [
    {
     "name": "stdout",
     "output_type": "stream",
     "text": [
      "BS closed-from price is $ 10.4506 .Code took  0:00:00.005904\n"
     ]
    }
   ],
   "source": [
    "# BS Closed-form\n",
    "begin = datetime.datetime.now()\n",
    "price = BS_analytic_call(S0, K, T, r, sigma)\n",
    "print(\n",
    "    \"BS closed-from price is $\",\n",
    "    price.round(4),\n",
    "    \".Code took \",\n",
    "    datetime.datetime.now() - begin,\n",
    ")"
   ]
  },
  {
   "cell_type": "code",
   "execution_count": 34,
   "metadata": {},
   "outputs": [
    {
     "data": {
      "text/plain": [
       "{'methods': ['BS_analytic_call', 'BS_call_Lewis', 'BS_call_FFT'],\n",
       " 'price': [' 10.450584', ' 10.450584', ' 10.450584'],\n",
       " 'time (miliseconds)': [' 1.994700', ' 0.598600', ' 0.697700']}"
      ]
     },
     "execution_count": 34,
     "metadata": {},
     "output_type": "execute_result"
    }
   ],
   "source": [
    "methods = [BS_analytic_call, BS_call_Lewis, BS_call_FFT]\n",
    "final_dict = {'methods': [], 'price': [], 'time (miliseconds)': []}\n",
    "\n",
    "for method in methods:\n",
    "    start = datetime.datetime.now()\n",
    "    price = method(S0, K, T, r, sigma)\n",
    "    time = (datetime.datetime.now() - start).total_seconds()\n",
    "    final_dict['methods'].append(method.__name__)\n",
    "    final_dict['price'].append(f\"{price: 4f}\")\n",
    "    final_dict['time (miliseconds)'].append(f\"{time*100: 4f}\")\n",
    "\n",
    "final_dict"
   ]
  },
  {
   "cell_type": "code",
   "execution_count": 33,
   "metadata": {},
   "outputs": [
    {
     "data": {
      "text/plain": [
       "'BS_analytic_call'"
      ]
     },
     "execution_count": 33,
     "metadata": {},
     "output_type": "execute_result"
    }
   ],
   "source": [
    "BS_analytic_call.__name__"
   ]
  },
  {
   "cell_type": "code",
   "execution_count": 24,
   "metadata": {},
   "outputs": [
    {
     "data": {
      "text/plain": [
       "{'methods': ['BS_analytic_call', 'BS_call_Lewis', 'BS_analytic_call'],\n",
       " 'price': [np.float64(10.450583572185565),\n",
       "  np.float64(10.450583572184797),\n",
       "  np.float64(10.450583572185565)],\n",
       " 'time (seconds)': [0.001994, 0.003991, 0.000999]}"
      ]
     },
     "execution_count": 24,
     "metadata": {},
     "output_type": "execute_result"
    }
   ],
   "source": [
    "final_dict"
   ]
  },
  {
   "cell_type": "code",
   "execution_count": null,
   "metadata": {},
   "outputs": [],
   "source": []
  },
  {
   "cell_type": "code",
   "execution_count": null,
   "metadata": {},
   "outputs": [],
   "source": []
  },
  {
   "cell_type": "markdown",
   "metadata": {
    "id": "fbJvO5Lvdf1K"
   },
   "source": [
    "Now, **check for yourself** how much option pricing under both Fourier methods (Lewis and FFT) performs better in terms of time. Obviously, you may realize in advance that a closed-form solution for BS is going to be the faster way. Unfortunately, as we already know, there are not always straightforward closed-form solutions."
   ]
  },
  {
   "cell_type": "markdown",
   "metadata": {
    "id": "5Vx4Vog0kSfR"
   },
   "source": [
    "## **5. Conclusion**\n",
    "\n",
    "Well done! Now you know how to implement the FFT and Lewis methods for option pricing in the Black-Scholes framework. In the next lesson, we will dig deeper into the way to obtain one of the most important inputs for Fourier pricing techniques: characteristic functions. \n",
    "\n",
    "\n",
    "\\\n",
    "**References**\n",
    "\n",
    "- Hilpisch, Yves. *Derivatives Analytics with Python: Data Analysis, Models, Simulation, Calibration and Hedging.* John Wiley & Sons, 2015.\n",
    "\n",
    "- Lewis, Alan L. \"A Simple Option Formula for General Jump-Diffusion and Other Exponential Lévy Processes.\" 2001."
   ]
  },
  {
   "cell_type": "markdown",
   "metadata": {
    "deletable": false,
    "editable": false
   },
   "source": [
    "---\n",
    "Copyright 2025 WorldQuant University. This\n",
    "content is licensed solely for personal use. Redistribution or\n",
    "publication of this material is strictly prohibited.\n"
   ]
  }
 ],
 "metadata": {
  "colab": {
   "collapsed_sections": [],
   "provenance": []
  },
  "kernelspec": {
   "display_name": "msc_FE",
   "language": "python",
   "name": "python3"
  },
  "language_info": {
   "codemirror_mode": {
    "name": "ipython",
    "version": 3
   },
   "file_extension": ".py",
   "mimetype": "text/x-python",
   "name": "python",
   "nbconvert_exporter": "python",
   "pygments_lexer": "ipython3",
   "version": "3.12.4"
  }
 },
 "nbformat": 4,
 "nbformat_minor": 4
}
