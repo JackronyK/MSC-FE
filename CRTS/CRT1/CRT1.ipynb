{
 "cells": [
  {
   "cell_type": "markdown",
   "id": "09a45598",
   "metadata": {},
   "source": [
    "### Why Stock B Cannot Exhibit Mean Reversion if It’s a Martingale  \n",
    "\n",
    "Mean reversion in prices means they tend to move predictably toward a long-term average. If the price is above this average, it’s expected to decrease; if below, it’s expected to increase. For example, in the Ornstein-Uhlenbeck model, the expected change is given by $ \\theta(\\mu - P_t)dt $, where $ \\theta > 0 $ controls the speed, $ \\mu $ is the mean, and $ P_t $ is the current price. This change is non-zero unless $ P_t = \\mu $.  \n",
    "\n",
    "In contrast, a martingale process has no predictable drift: $ E[P_{t+1} | P_t] = P_t $. This means the expected future price equals the current price, with no influence from past deviations.  \n",
    "\n",
    "These are incompatible because mean reversion introduces predictability based on the current price level, while a martingale requires future expectations to depend only on the current price, without adjustment toward a mean. Thus, if Stock B’s price is a martingale, it cannot exhibit mean reversion.  \n"
   ]
  },
  {
   "cell_type": "markdown",
   "id": "83b16f59",
   "metadata": {},
   "source": []
  }
 ],
 "metadata": {
  "language_info": {
   "name": "python"
  }
 },
 "nbformat": 4,
 "nbformat_minor": 5
}
